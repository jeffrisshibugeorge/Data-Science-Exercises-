{
 "cells": [
  {
   "cell_type": "markdown",
   "metadata": {},
   "source": [
    "<table align=\"center\" width=100%>\n",
    "    <tr>\n",
    "        <td width=\"15%\">\n",
    "            <img src=\"homework.png\">\n",
    "        </td>\n",
    "        <td>\n",
    "            <div align=\"center\">\n",
    "                <font color=\"#21618C\" size=8px>\n",
    "                    <b> Take-Home <br>(Day 2)\n",
    "                    </b>\n",
    "                </font>\n",
    "            </div>\n",
    "        </td>\n",
    "    </tr>\n",
    "</table>"
   ]
  },
  {
   "cell_type": "markdown",
   "metadata": {},
   "source": [
    "### Let's begin with some hands-on practice exercises"
   ]
  },
  {
   "cell_type": "markdown",
   "metadata": {},
   "source": [
    "<table align=\"left\">\n",
    "    <tr>\n",
    "        <td width=\"6%\">\n",
    "            <img src=\"question_icon.png\">\n",
    "        </td>\n",
    "        <td>\n",
    "            <div align=\"left\", style=\"font-size:120%\">\n",
    "                <font color=\"#21618C\">\n",
    "                    <b>1. A text is given below. Write a program to find the character which is at the index position obtained by adding the indices of the character 'o' of the word 'Hello' and 'o' of the word 'welcome'</b>\n",
    "                </font>\n",
    "            </div>\n",
    "        </td>\n",
    "    </tr>\n",
    "</table>\n",
    "\n"
   ]
  },
  {
   "cell_type": "markdown",
   "metadata": {},
   "source": [
    "<b>string = \"Hello, welcome to my world.\" </b>"
   ]
  },
  {
   "cell_type": "code",
   "execution_count": 40,
   "metadata": {},
   "outputs": [
    {
     "name": "stdout",
     "output_type": "stream",
     "text": [
      "e\n"
     ]
    }
   ],
   "source": [
    "#type your code here\n",
    "# find the indices of o in hello and welcome \n",
    "# indic of o in hello = 40, indic of o in welocme = 9\n",
    "#4 + 9 = 13\n",
    "# 13 indicex of hello, welocme to my world =  'e' \n",
    "x = \"Hello, welcome to my world.\"\n",
    "\n",
    "ind_h= 4\n",
    "ind_w = 9\n",
    "\n",
    "print (x[ind_h+ind_w])\n"
   ]
  },
  {
   "cell_type": "markdown",
   "metadata": {},
   "source": [
    "<table align=\"left\">\n",
    "    <tr>\n",
    "        <td width=\"6%\">\n",
    "            <img src=\"question_icon.png\">\n",
    "        </td>\n",
    "        <td>\n",
    "            <div align=\"left\", style=\"font-size:120%\">\n",
    "                <font color=\"#21618C\">\n",
    "                    <b> 1. Create a tuple with single value '5'</b>\n",
    "                </font>\n",
    "            </div>\n",
    "        </td>\n",
    "    </tr>\n",
    "</table>\n"
   ]
  },
  {
   "cell_type": "code",
   "execution_count": 46,
   "metadata": {},
   "outputs": [
    {
     "name": "stdout",
     "output_type": "stream",
     "text": [
      "<class 'tuple'>\n"
     ]
    }
   ],
   "source": [
    "tup = (\"5\",)\n",
    "print(type(thistuple))\n"
   ]
  },
  {
   "cell_type": "markdown",
   "metadata": {},
   "source": [
    "<table align=\"left\">\n",
    "    <tr>\n",
    "        <td width=\"6%\">\n",
    "            <img src=\"question_icon.png\">\n",
    "        </td>\n",
    "        <td>\n",
    "            <div align=\"left\", style=\"font-size:120%\">\n",
    "                <font color=\"#21618C\">\n",
    "                    <b>2. Write a program that takes two dictionaries and concatenates them into one dictionary</b>\n",
    "                </font>\n",
    "            </div>\n",
    "        </td>\n",
    "    </tr>\n",
    "</table>\n"
   ]
  },
  {
   "cell_type": "markdown",
   "metadata": {},
   "source": [
    "**Use the below dictionaries:**\n",
    "\n",
    "dictionary_1 = {'A':1, 'B':2}<br>\n",
    "\n",
    "dictionary_2 = {'C':3}"
   ]
  },
  {
   "cell_type": "code",
   "execution_count": 52,
   "metadata": {},
   "outputs": [
    {
     "name": "stdout",
     "output_type": "stream",
     "text": [
      "None\n",
      "{'C': 3, 'A': 1, 'B': 2}\n"
     ]
    }
   ],
   "source": [
    "dict_1 = {'A':1, 'B':2}\n",
    "\n",
    "dict_2 = {'C':3}\n",
    " \n",
    "def Merge_dic(dict_1, dict_2):\n",
    "    return(dict_2.update(dict_1))\n",
    "\n",
    "print(Merge_dic(dict_1, dict_2))\n",
    " \n",
    "\n",
    "print(dict_2)\n"
   ]
  },
  {
   "cell_type": "markdown",
   "metadata": {},
   "source": [
    "<table align=\"left\">\n",
    "    <tr>\n",
    "        <td width=\"6%\">\n",
    "            <img src=\"question_icon.png\">\n",
    "        </td>\n",
    "        <td>\n",
    "            <div align=\"left\", style=\"font-size:120%\">\n",
    "                <font color=\"#21618C\">\n",
    "                    <b>3. Check whether the set X and Y are disjoint or not </b>\n",
    "                </font>\n",
    "            </div>\n",
    "        </td>\n",
    "    </tr>\n",
    "</table>"
   ]
  },
  {
   "cell_type": "markdown",
   "metadata": {},
   "source": [
    "**Use the sets below (or create your own sets):**\n",
    "\n",
    "#### Set X\n",
    "X = {4, 5, 11, 34, 4, 56, 44, 67, 67, 5, 12, 34, 16, 9, 22, 23, 56, 34, 33, 89, 78, 45, 33, 78, 34, 45, 12, 45, 56 }\n",
    "\n",
    "#### Set Y\n",
    "Y = {41, 52, 63, 56, 67, 45, 99, 56, 45, 23, 45, 63, 45, 56, 45, 55, 56, 56, 12, 86, 67, 55, 56, 34, 89}"
   ]
  },
  {
   "cell_type": "code",
   "execution_count": 54,
   "metadata": {},
   "outputs": [
    {
     "name": "stdout",
     "output_type": "stream",
     "text": [
      "False\n"
     ]
    }
   ],
   "source": [
    "X = {4, 5, 11, 34, 4, 56, 44, 67, 67, 5, 12, 34, 16, 9, 22, 23, 56, 34, 33, 89, 78, 45, 33, 78, 34, 45, 12, 45, 56 }\n",
    "\n",
    "Y = {41, 52, 63, 56, 67, 45, 99, 56, 45, 23, 45, 63, 45, 56, 45, 55, 56, 56, 12, 86, 67, 55, 56, 34, 89}\n",
    "\n",
    "print(X.isdisjoint(Y))"
   ]
  },
  {
   "cell_type": "markdown",
   "metadata": {},
   "source": [
    "<table align=\"left\">\n",
    "    <tr>\n",
    "        <td width=\"6%\">\n",
    "            <img src=\"question_icon.png\">\n",
    "        </td>\n",
    "        <td>\n",
    "            <div align=\"left\", style=\"font-size:120%\">\n",
    "                <font color=\"#21618C\">\n",
    "                    <b>4. Retrieve the third element in the given list</b>\n",
    "                </font>\n",
    "            </div>\n",
    "        </td>\n",
    "    </tr>\n",
    "</table>"
   ]
  },
  {
   "cell_type": "markdown",
   "metadata": {},
   "source": [
    "**Use the list given below:**\n",
    "    \n",
    "num_list = [5, 3, 6, 1, 85, 23, 5, 13]"
   ]
  },
  {
   "cell_type": "code",
   "execution_count": 55,
   "metadata": {},
   "outputs": [
    {
     "name": "stdout",
     "output_type": "stream",
     "text": [
      "1\n"
     ]
    }
   ],
   "source": [
    "num_list = [5, 3, 6, 1, 85, 23, 5, 13]\n",
    "\n",
    "x = num_list[3]\n",
    "\n",
    "print(x)"
   ]
  },
  {
   "cell_type": "markdown",
   "metadata": {},
   "source": [
    "<table align=\"left\">\n",
    "    <tr>\n",
    "        <td width=\"6%\">\n",
    "            <img src=\"question_icon.png\">\n",
    "        </td>\n",
    "        <td>\n",
    "            <div align=\"left\", style=\"font-size:120%\">\n",
    "                <font color=\"#21618C\">\n",
    "                    <b>5. Count the occurance of number -6 in the given tuple</b>\n",
    "                </font>\n",
    "            </div>\n",
    "        </td>\n",
    "    </tr>\n",
    "</table>"
   ]
  },
  {
   "cell_type": "markdown",
   "metadata": {},
   "source": [
    "**Use the tuple given below:**\n",
    "    \n",
    "num_tuple = (-4, 7, -8, -9, 8, -6, 7, 3, -6, 1, -8, -6) "
   ]
  },
  {
   "cell_type": "code",
   "execution_count": 62,
   "metadata": {},
   "outputs": [
    {
     "name": "stdout",
     "output_type": "stream",
     "text": [
      "3\n"
     ]
    }
   ],
   "source": [
    "num_tuple = (-4, 7, -8, -9, 8, -6, 7, 3, -6, 1, -8, -6)\n",
    "\n",
    "x = num_tuple.count(-6)\n",
    "\n",
    "print(x)"
   ]
  },
  {
   "cell_type": "markdown",
   "metadata": {},
   "source": [
    "<table align=\"left\">\n",
    "    <tr>\n",
    "        <td width=\"6%\">\n",
    "            <img src=\"question_icon.png\">\n",
    "        </td>\n",
    "        <td>\n",
    "            <div align=\"left\", style=\"font-size:120%\">\n",
    "                <font color=\"#21618C\">\n",
    "                    <b> 6. Check whether the number 53 is in the given list or not</b>\n",
    "                </font>\n",
    "            </div>\n",
    "        </td>\n",
    "    </tr>\n",
    "</table>"
   ]
  },
  {
   "cell_type": "markdown",
   "metadata": {},
   "source": [
    "**Use the list given below:**\n",
    "    \n",
    "num_list = [5, 3, 6, 1, 85, 23, 5, 13]"
   ]
  },
  {
   "cell_type": "code",
   "execution_count": 69,
   "metadata": {},
   "outputs": [
    {
     "name": "stdout",
     "output_type": "stream",
     "text": [
      "Number doesn't exist\n"
     ]
    }
   ],
   "source": [
    "\n",
    "num_list = [5, 3, 6, 1, 85, 23, 5, 13]\n",
    "\n",
    "  \n",
    "if (53 in num_list): \n",
    "    print (\"Element Exists\") \n",
    "else:\n",
    "    print(\"Number doesn't exist\")"
   ]
  },
  {
   "cell_type": "markdown",
   "metadata": {},
   "source": [
    "<table align=\"left\">\n",
    "    <tr>\n",
    "        <td width=\"6%\">\n",
    "            <img src=\"question_icon.png\">\n",
    "        </td>\n",
    "        <td>\n",
    "            <div align=\"left\", style=\"font-size:120%\">\n",
    "                <font color=\"#21618C\">\n",
    "                    <b> 7. Remove number 3 from a given set </b>\n",
    "                </font>\n",
    "            </div>\n",
    "        </td>\n",
    "    </tr>\n",
    "</table>"
   ]
  },
  {
   "cell_type": "markdown",
   "metadata": {},
   "source": [
    "**Use the set below:**\n",
    "\n",
    "numbers = {2, 3, 4, 5}"
   ]
  },
  {
   "cell_type": "code",
   "execution_count": 73,
   "metadata": {},
   "outputs": [
    {
     "name": "stdout",
     "output_type": "stream",
     "text": [
      "{2, 4, 5}\n"
     ]
    }
   ],
   "source": [
    "numbers = {2,3,4,5}\n",
    "\n",
    "numbers.remove(3)\n",
    "print (numbers)"
   ]
  },
  {
   "cell_type": "markdown",
   "metadata": {},
   "source": [
    "<table align=\"left\">\n",
    "    <tr>\n",
    "        <td width=\"6%\">\n",
    "            <img src=\"question_icon.png\">\n",
    "        </td>\n",
    "        <td>\n",
    "            <div align=\"left\", style=\"font-size:120%\">\n",
    "                <font color=\"#21618C\">\n",
    "                    <b>8. Write a program to convert a list into tuple  </b>\n",
    "                </font>\n",
    "            </div>\n",
    "        </td>\n",
    "    </tr>\n",
    "</table>"
   ]
  },
  {
   "cell_type": "markdown",
   "metadata": {},
   "source": [
    "**Use the list below:**\n",
    "\n",
    "num_list = [24, 18, 24, 47, 52]"
   ]
  },
  {
   "cell_type": "code",
   "execution_count": 76,
   "metadata": {},
   "outputs": [
    {
     "name": "stdout",
     "output_type": "stream",
     "text": [
      "[24, 18, 24, 47, 52]\n"
     ]
    }
   ],
   "source": [
    "num_list = [24,18,24,47,52]\n",
    "\n",
    "tuple(num_list)\n",
    "print (num_list)"
   ]
  },
  {
   "cell_type": "markdown",
   "metadata": {},
   "source": [
    "<table align=\"left\">\n",
    "    <tr>\n",
    "        <td width=\"6%\">\n",
    "            <img src=\"question_icon.png\">\n",
    "        </td>\n",
    "        <td>\n",
    "            <div align=\"left\", style=\"font-size:120%\">\n",
    "                <font color=\"#21618C\">\n",
    "                    <b>9. Write a program to retrieve the capital of 'Germany' from a given dictionary</b>\n",
    "                </font>\n",
    "            </div>\n",
    "        </td>\n",
    "    </tr>\n",
    "</table>\n"
   ]
  },
  {
   "cell_type": "markdown",
   "metadata": {},
   "source": [
    "**Use the dictionary given below:**\n",
    "\n",
    "europe = { 'Spain': { 'Capital':'Madrid', 'Population':4.77 },\n",
    "           'France': { 'Capital':'Paris', 'Population':6.7 },\n",
    "           'Germany': { 'Capital':'Berlin', 'Population':8.28 },\n",
    "           'Norway': { 'Capital':'Oslo', 'Population':0.533 } }"
   ]
  },
  {
   "cell_type": "code",
   "execution_count": 81,
   "metadata": {},
   "outputs": [
    {
     "ename": "TypeError",
     "evalue": "keys() takes no arguments (1 given)",
     "output_type": "error",
     "traceback": [
      "\u001b[1;31m---------------------------------------------------------------------------\u001b[0m",
      "\u001b[1;31mTypeError\u001b[0m                                 Traceback (most recent call last)",
      "\u001b[1;32m<ipython-input-81-aa702e552f65>\u001b[0m in \u001b[0;36m<module>\u001b[1;34m\u001b[0m\n\u001b[0;32m      1\u001b[0m \u001b[0meurope\u001b[0m \u001b[1;33m=\u001b[0m \u001b[1;33m{\u001b[0m \u001b[1;34m'Spain'\u001b[0m\u001b[1;33m:\u001b[0m \u001b[1;33m{\u001b[0m \u001b[1;34m'Capital'\u001b[0m\u001b[1;33m:\u001b[0m\u001b[1;34m'Madrid'\u001b[0m\u001b[1;33m,\u001b[0m \u001b[1;34m'Population'\u001b[0m\u001b[1;33m:\u001b[0m\u001b[1;36m4.77\u001b[0m \u001b[1;33m}\u001b[0m\u001b[1;33m,\u001b[0m \u001b[1;34m'France'\u001b[0m\u001b[1;33m:\u001b[0m \u001b[1;33m{\u001b[0m \u001b[1;34m'Capital'\u001b[0m\u001b[1;33m:\u001b[0m\u001b[1;34m'Paris'\u001b[0m\u001b[1;33m,\u001b[0m \u001b[1;34m'Population'\u001b[0m\u001b[1;33m:\u001b[0m\u001b[1;36m6.7\u001b[0m \u001b[1;33m}\u001b[0m\u001b[1;33m,\u001b[0m \u001b[1;34m'Germany'\u001b[0m\u001b[1;33m:\u001b[0m \u001b[1;33m{\u001b[0m \u001b[1;34m'Capital'\u001b[0m\u001b[1;33m:\u001b[0m\u001b[1;34m'Berlin'\u001b[0m\u001b[1;33m,\u001b[0m \u001b[1;34m'Population'\u001b[0m\u001b[1;33m:\u001b[0m\u001b[1;36m8.28\u001b[0m \u001b[1;33m}\u001b[0m\u001b[1;33m,\u001b[0m \u001b[1;34m'Norway'\u001b[0m\u001b[1;33m:\u001b[0m \u001b[1;33m{\u001b[0m \u001b[1;34m'Capital'\u001b[0m\u001b[1;33m:\u001b[0m\u001b[1;34m'Oslo'\u001b[0m\u001b[1;33m,\u001b[0m \u001b[1;34m'Population'\u001b[0m\u001b[1;33m:\u001b[0m\u001b[1;36m0.533\u001b[0m \u001b[1;33m}\u001b[0m \u001b[1;33m}\u001b[0m\u001b[1;33m\u001b[0m\u001b[1;33m\u001b[0m\u001b[0m\n\u001b[1;32m----> 2\u001b[1;33m \u001b[0mprint\u001b[0m \u001b[1;33m(\u001b[0m\u001b[0meurope\u001b[0m\u001b[1;33m.\u001b[0m\u001b[0mkeys\u001b[0m\u001b[1;33m(\u001b[0m\u001b[1;34m'Germany'\u001b[0m\u001b[1;33m)\u001b[0m\u001b[1;33m)\u001b[0m\u001b[1;33m\u001b[0m\u001b[1;33m\u001b[0m\u001b[0m\n\u001b[0m",
      "\u001b[1;31mTypeError\u001b[0m: keys() takes no arguments (1 given)"
     ]
    }
   ],
   "source": [
    "europe = { 'Spain': { 'Capital':'Madrid', 'Population':4.77 }, 'France': { 'Capital':'Paris', 'Population':6.7 }, 'Germany': { 'Capital':'Berlin', 'Population':8.28 }, 'Norway': { 'Capital':'"
   ]
  },
  {
   "cell_type": "markdown",
   "metadata": {},
   "source": [
    "<table align=\"left\">\n",
    "    <tr>\n",
    "        <td width=\"6%\">\n",
    "            <img src=\"question_icon.png\">\n",
    "        </td>\n",
    "        <td>\n",
    "            <div align=\"left\", style=\"font-size:120%\">\n",
    "                <font color=\"#21618C\">\n",
    "                    <b>10. Find maximum and the minimum value from a given set </b>\n",
    "                </font>\n",
    "            </div>\n",
    "        </td>\n",
    "    </tr>\n",
    "</table>\n",
    "\n"
   ]
  },
  {
   "cell_type": "markdown",
   "metadata": {},
   "source": [
    "**Use the elements:**\n",
    "    \n",
    "5, 10, 3, 15, 2, 20, 10, 5, 4, 3"
   ]
  },
  {
   "cell_type": "code",
   "execution_count": 90,
   "metadata": {},
   "outputs": [
    {
     "name": "stdout",
     "output_type": "stream",
     "text": [
      "20\n",
      "2\n"
     ]
    }
   ],
   "source": [
    "l ={5,10,3,15,2,20,10,5,4,3}\n",
    "print (max(l))\n",
    "print (min(l))"
   ]
  },
  {
   "cell_type": "code",
   "execution_count": null,
   "metadata": {},
   "outputs": [],
   "source": []
  }
 ],
 "metadata": {
  "kernelspec": {
   "display_name": "Python 3",
   "language": "python",
   "name": "python3"
  },
  "language_info": {
   "codemirror_mode": {
    "name": "ipython",
    "version": 3
   },
   "file_extension": ".py",
   "mimetype": "text/x-python",
   "name": "python",
   "nbconvert_exporter": "python",
   "pygments_lexer": "ipython3",
   "version": "3.8.5"
  }
 },
 "nbformat": 4,
 "nbformat_minor": 2
}
