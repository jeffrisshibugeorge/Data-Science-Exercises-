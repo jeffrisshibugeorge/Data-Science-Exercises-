{
 "cells": [
  {
   "cell_type": "markdown",
   "metadata": {
    "colab_type": "text",
    "id": "GuFb-u9SbehT"
   },
   "source": [
    "<table align=\"left\" width=100%>\n",
    "    <tr>\n",
    "        <td width=\"10%\">\n",
    "            <img src=\"in_class.png\">\n",
    "        </td>\n",
    "        <td>\n",
    "            <div align=\"center\">\n",
    "                <font color=\"#21618C\" size=8px>\n",
    "                  <b> Inclass - Lab <br> (Day 1) </b>\n",
    "                </font>\n",
    "            </div>\n",
    "        </td>\n",
    "    </tr>\n",
    "</table>"
   ]
  },
  {
   "cell_type": "markdown",
   "metadata": {
    "colab_type": "text",
    "id": "jZEkUUZDbehV"
   },
   "source": [
    "##  Table of Content\n",
    "\n",
    "1. **[One Dimensional Array](#1D)**\n",
    "2. **[Two Dimensional Array](#2D)**\n",
    "3. **[Stacking](#Stacking)**\n",
    "4. **[Splitting](#Splitting)**\n",
    "5. **[For Loop](#loop)**"
   ]
  },
  {
   "cell_type": "markdown",
   "metadata": {
    "colab_type": "text",
    "id": "MHPttB0tbehW"
   },
   "source": [
    "**Import the NumPy library before solving the exercises**"
   ]
  },
  {
   "cell_type": "markdown",
   "metadata": {
    "colab_type": "text",
    "id": "L8TzYuGWbehW"
   },
   "source": [
    "### Let's begin with some hands-on practice exercises"
   ]
  },
  {
   "cell_type": "markdown",
   "metadata": {
    "colab_type": "text",
    "id": "xfum17oYbehX"
   },
   "source": [
    "<a id=\"1D\"> </a>\n",
    "## 1. One Dimensional Array"
   ]
  },
  {
   "cell_type": "markdown",
   "metadata": {
    "colab_type": "text",
    "id": "depCyxbdbehY"
   },
   "source": [
    "<table align=\"left\">\n",
    "    <tr>\n",
    "        <td width=\"6%\">\n",
    "            <img src=\"question_icon.png\">\n",
    "        </td>\n",
    "        <td>\n",
    "            <div align=\"left\", style=\"font-size:120%\">\n",
    "                <font color=\"#21618C\">\n",
    "                    <b>1. Write a NumPy program to convert a list of numeric values into a one-dimensional NumPy array</b>\n",
    "                </font>\n",
    "            </div>\n",
    "        </td>\n",
    "    </tr>\n",
    "</table>"
   ]
  },
  {
   "cell_type": "markdown",
   "metadata": {
    "colab_type": "text",
    "id": "id8gb5YXbehY"
   },
   "source": [
    "**Use the list given below: (or create your own list)**<br>\n",
    "\n",
    "    list_temperature = [3.04, 1.65, 5.76, 1.66, 1.54, 4.69, 2.68]"
   ]
  },
  {
   "cell_type": "code",
   "execution_count": 7,
   "metadata": {
    "colab": {},
    "colab_type": "code",
    "id": "E1Qm9gbsbehZ"
   },
   "outputs": [
    {
     "data": {
      "text/plain": [
       "array([[3.04, 1.65, 5.76, 1.66, 1.54, 4.69, 2.68]])"
      ]
     },
     "execution_count": 7,
     "metadata": {},
     "output_type": "execute_result"
    }
   ],
   "source": [
    "list_temperature = [3.04, 1.65, 5.76, 1.66, 1.54, 4.69, 2.68]\n",
    "np.array([list_temperature])"
   ]
  },
  {
   "cell_type": "markdown",
   "metadata": {
    "colab_type": "text",
    "id": "dzppBkKlbehd"
   },
   "source": [
    "<table align=\"left\">\n",
    "    <tr>\n",
    "        <td width=\"6%\">\n",
    "            <img src=\"question_icon.png\">\n",
    "        </td>\n",
    "        <td>\n",
    "            <div align=\"left\", style=\"font-size:120%\">\n",
    "                <font color=\"#21618C\">\n",
    "                    <b>2. Create a 1D array of weights of 10 students and retrieve all the weights greater than 68</b>\n",
    "                </font>\n",
    "            </div>\n",
    "        </td>\n",
    "    </tr>\n",
    "</table>"
   ]
  },
  {
   "cell_type": "markdown",
   "metadata": {
    "colab_type": "text",
    "id": "67NOJtMfbehd"
   },
   "source": [
    "**Use the weights given below: (or create your own list)**\n",
    "\n",
    "    weights = [74.2, 85, 74, 67.9, 52, 70.5, 86, 51.8, 64, 82]"
   ]
  },
  {
   "cell_type": "code",
   "execution_count": 14,
   "metadata": {
    "colab": {},
    "colab_type": "code",
    "id": "EiwNG6NQbehe"
   },
   "outputs": [
    {
     "data": {
      "text/plain": [
       "array([74.2, 85. , 74. , 70.5, 86. , 82. ])"
      ]
     },
     "execution_count": 14,
     "metadata": {},
     "output_type": "execute_result"
    }
   ],
   "source": [
    "weights = [74.2, 85, 74, 67.9, 52, 70.5, 86, 51.8, 64, 82]\n",
    "x = np.array(weights)\n",
    "x>68\n",
    "x[x>68]"
   ]
  },
  {
   "cell_type": "markdown",
   "metadata": {
    "colab_type": "text",
    "id": "HBYsorFEbehh"
   },
   "source": [
    "<table align=\"left\">\n",
    "    <tr>\n",
    "        <td width=\"6%\">\n",
    "            <img src=\"question_icon.png\">\n",
    "        </td>\n",
    "        <td>\n",
    "            <div align=\"left\", style=\"font-size:120%\">\n",
    "                <font color=\"#21618C\">\n",
    "                    <b>3. Write a code to generate 10 random integers between 20 to 40 (Is it possible to generate same random numbers everytime? If yes, describe the function)\n",
    "                    </b>\n",
    "                </font>\n",
    "            </div>\n",
    "        </td>\n",
    "    </tr>\n",
    "</table>"
   ]
  },
  {
   "cell_type": "code",
   "execution_count": 26,
   "metadata": {
    "colab": {},
    "colab_type": "code",
    "id": "wXvPOmTabehi"
   },
   "outputs": [
    {
     "data": {
      "text/plain": [
       "array([28, 23, 27, 35, 36, 30, 40, 22, 22, 22])"
      ]
     },
     "execution_count": 26,
     "metadata": {},
     "output_type": "execute_result"
    }
   ],
   "source": [
    "np.random.seed(100)\n",
    "np.random.randint(20,41,10)\n"
   ]
  },
  {
   "cell_type": "code",
   "execution_count": 27,
   "metadata": {},
   "outputs": [],
   "source": [
    "# We can generate the same random numbers everytime by using 'np.random.seed()'\n"
   ]
  },
  {
   "cell_type": "markdown",
   "metadata": {
    "colab_type": "text",
    "id": "sgJa1pNfbehk"
   },
   "source": [
    "<table align=\"left\">\n",
    "    <tr>\n",
    "        <td width=\"6%\">\n",
    "            <img src=\"question_icon.png\">\n",
    "        </td>\n",
    "        <td>\n",
    "            <div align=\"left\", style=\"font-size:120%\">\n",
    "                <font color=\"#21618C\">\n",
    "                    <b>4. Write a program to get the fifth power of the first five positive integers\n",
    "                    </b>\n",
    "                </font>\n",
    "            </div>\n",
    "        </td>\n",
    "    </tr>\n",
    "</table>"
   ]
  },
  {
   "cell_type": "code",
   "execution_count": 56,
   "metadata": {
    "colab": {},
    "colab_type": "code",
    "id": "H2B6tOvDbehl"
   },
   "outputs": [
    {
     "data": {
      "text/plain": [
       "array([   1,   32,  243, 1024, 3125], dtype=int32)"
      ]
     },
     "execution_count": 56,
     "metadata": {},
     "output_type": "execute_result"
    }
   ],
   "source": [
    "x =np.array([1,2,3,4,5])\n",
    "x1 = x**5\n",
    "x1"
   ]
  },
  {
   "cell_type": "markdown",
   "metadata": {
    "colab_type": "text",
    "id": "aQkkjqDZbeho"
   },
   "source": [
    "<table align=\"left\">\n",
    "    <tr>\n",
    "        <td width=\"6%\">\n",
    "            <img src=\"question_icon.png\">\n",
    "        </td>\n",
    "        <td>\n",
    "            <div align=\"left\", style=\"font-size:120%\">\n",
    "                <font color=\"#21618C\">\n",
    "                    <b>5. Write a program to create an array of all the odd integers from 50 to 100 \n",
    "                    </b>\n",
    "                </font>\n",
    "            </div>\n",
    "        </td>\n",
    "    </tr>\n",
    "</table>"
   ]
  },
  {
   "cell_type": "code",
   "execution_count": 62,
   "metadata": {
    "colab": {},
    "colab_type": "code",
    "id": "Qpt-pf1Cbeho"
   },
   "outputs": [
    {
     "data": {
      "text/plain": [
       "array([51, 53, 55, 57, 59, 61, 63, 65, 67, 69, 71, 73, 75, 77, 79, 81, 83,\n",
       "       85, 87, 89, 91, 93, 95, 97, 99])"
      ]
     },
     "execution_count": 62,
     "metadata": {},
     "output_type": "execute_result"
    }
   ],
   "source": [
    "x = np.arange(51,101,2)a\n",
    "x"
   ]
  },
  {
   "cell_type": "markdown",
   "metadata": {
    "colab_type": "text",
    "id": "q5Xzt47hbehr"
   },
   "source": [
    "<table align=\"left\">\n",
    "    <tr>\n",
    "        <td width=\"6%\">\n",
    "            <img src=\"question_icon.png\">\n",
    "        </td>\n",
    "        <td>\n",
    "            <div align=\"left\", style=\"font-size:120%\">\n",
    "                <font color=\"#21618C\">\n",
    "                    <b>6. Write a program to calculate the sum of each column </b>\n",
    "                </font>\n",
    "            </div>\n",
    "        </td>\n",
    "    </tr>\n",
    "</table>"
   ]
  },
  {
   "cell_type": "markdown",
   "metadata": {
    "colab_type": "text",
    "id": "ytP3e0lubehs"
   },
   "source": [
    "**Use the array given below: (or create your own array)**\n",
    "\n",
    "    A = [[1, 4, 8], [5, 7, 3], [9, 14, 2]]"
   ]
  },
  {
   "cell_type": "code",
   "execution_count": 68,
   "metadata": {
    "colab": {},
    "colab_type": "code",
    "id": "OhKSiWJFbehs"
   },
   "outputs": [],
   "source": [
    "A = [[1, 4, 8], [5, 7, 3], [9, 14, 2]]\n",
    "a = np.array(A)"
   ]
  },
  {
   "cell_type": "code",
   "execution_count": 70,
   "metadata": {},
   "outputs": [],
   "source": [
    "a_sum = sum(a)"
   ]
  },
  {
   "cell_type": "code",
   "execution_count": 71,
   "metadata": {},
   "outputs": [
    {
     "data": {
      "text/plain": [
       "array([15, 25, 13])"
      ]
     },
     "execution_count": 71,
     "metadata": {},
     "output_type": "execute_result"
    }
   ],
   "source": [
    "a_sum"
   ]
  },
  {
   "cell_type": "markdown",
   "metadata": {
    "colab_type": "text",
    "id": "_Ll-br2qbehv"
   },
   "source": [
    "<table align=\"left\">\n",
    "    <tr>\n",
    "        <td width=\"6%\">\n",
    "            <img src=\"question_icon.png\">\n",
    "        </td>\n",
    "        <td>\n",
    "            <div align=\"left\", style=\"font-size:120%\">\n",
    "                <font color=\"#21618C\">\n",
    "                    <b>7. Write a code to get the element-wise remainder of an array after division by 8 \n",
    "                    </b>\n",
    "                </font>\n",
    "            </div>\n",
    "        </td>\n",
    "    </tr>\n",
    "</table>"
   ]
  },
  {
   "cell_type": "markdown",
   "metadata": {
    "colab_type": "text",
    "id": "Rxa4HT3Obehv"
   },
   "source": [
    "**Use the list given below:**<br>\n",
    "    \n",
    "    num = [42, 87, 90, 14, 32, 75, 61, 80, 92]"
   ]
  },
  {
   "cell_type": "code",
   "execution_count": 73,
   "metadata": {
    "colab": {},
    "colab_type": "code",
    "id": "GWQxTmdMbehw"
   },
   "outputs": [],
   "source": [
    "num = [42, 87, 90, 14, 32, 75, 61, 80, 92]\n",
    "n = np.array(num)"
   ]
  },
  {
   "cell_type": "code",
   "execution_count": 74,
   "metadata": {},
   "outputs": [
    {
     "data": {
      "text/plain": [
       "array([42, 87, 90, 14, 32, 75, 61, 80, 92])"
      ]
     },
     "execution_count": 74,
     "metadata": {},
     "output_type": "execute_result"
    }
   ],
   "source": [
    "n"
   ]
  },
  {
   "cell_type": "code",
   "execution_count": 76,
   "metadata": {},
   "outputs": [],
   "source": [
    "n_div = n % 8"
   ]
  },
  {
   "cell_type": "code",
   "execution_count": 77,
   "metadata": {},
   "outputs": [
    {
     "data": {
      "text/plain": [
       "array([2, 7, 2, 6, 0, 3, 5, 0, 4], dtype=int32)"
      ]
     },
     "execution_count": 77,
     "metadata": {},
     "output_type": "execute_result"
    }
   ],
   "source": [
    "n_div"
   ]
  },
  {
   "cell_type": "markdown",
   "metadata": {
    "colab_type": "text",
    "id": "cCPkpHF6behy"
   },
   "source": [
    "<a id=\"2D\"> </a>\n",
    "## 2. Two Dimensional Array"
   ]
  },
  {
   "cell_type": "markdown",
   "metadata": {
    "colab_type": "text",
    "id": "mdnO5naVbehy"
   },
   "source": [
    "<table align=\"left\">\n",
    "    <tr>\n",
    "        <td width=\"6%\">\n",
    "            <img src=\"question_icon.png\">\n",
    "        </td>\n",
    "        <td>\n",
    "            <div align=\"left\", style=\"font-size:120%\">\n",
    "                <font color=\"#21618C\">\n",
    "                    <b>8. Create a 2D numpy array from a 1D array of 20 elements of your choice. Further, subset the first 5 elements from the second element of a resulting 2D array \n",
    "                    </b>\n",
    "                </font>\n",
    "            </div>\n",
    "        </td>\n",
    "    </tr>\n",
    "</table>"
   ]
  },
  {
   "cell_type": "code",
   "execution_count": 82,
   "metadata": {
    "colab": {},
    "colab_type": "code",
    "id": "PJi7HXVSbehz"
   },
   "outputs": [
    {
     "data": {
      "text/plain": [
       "array([38, 44, 18, 64, 56, 34, 53, 74, 17, 72, 13, 30, 17, 53, 68, 50, 91,\n",
       "       91, 83, 53])"
      ]
     },
     "execution_count": 82,
     "metadata": {},
     "output_type": "execute_result"
    }
   ],
   "source": [
    "# type your code here\n",
    "#Create a 2D numpy array from a 1D array of 20 elements of your choice.\n",
    "# Reshape the 1D array as a matrix with 5 columns(ie 4x5 matrix)\n",
    "# access the first row of the matrix \n",
    "\n",
    "x = np.random.randint(0,100,20)\n",
    "x"
   ]
  },
  {
   "cell_type": "code",
   "execution_count": 84,
   "metadata": {},
   "outputs": [
    {
     "data": {
      "text/plain": [
       "array([[38, 44, 18, 64, 56],\n",
       "       [34, 53, 74, 17, 72],\n",
       "       [13, 30, 17, 53, 68],\n",
       "       [50, 91, 91, 83, 53]])"
      ]
     },
     "execution_count": 84,
     "metadata": {},
     "output_type": "execute_result"
    }
   ],
   "source": [
    "n = np.reshape(x,(4,5))\n",
    "n"
   ]
  },
  {
   "cell_type": "code",
   "execution_count": 101,
   "metadata": {},
   "outputs": [],
   "source": [
    "a = n[0:1,0:5]"
   ]
  },
  {
   "cell_type": "code",
   "execution_count": 102,
   "metadata": {},
   "outputs": [
    {
     "data": {
      "text/plain": [
       "array([[38, 44, 18, 64, 56]])"
      ]
     },
     "execution_count": 102,
     "metadata": {},
     "output_type": "execute_result"
    }
   ],
   "source": [
    "a"
   ]
  },
  {
   "cell_type": "markdown",
   "metadata": {
    "colab_type": "text",
    "id": "NGZISX4wbeh4"
   },
   "source": [
    "<table align=\"left\">\n",
    "    <tr>\n",
    "        <td width=\"6%\">\n",
    "            <img src=\"question_icon.png\">\n",
    "        </td>\n",
    "        <td>\n",
    "            <div align=\"left\", style=\"font-size:120%\">\n",
    "                <font color=\"#21618C\">\n",
    "                    <b>9. Write a program to find common values between two arrays \n",
    "                    </b>\n",
    "                </font>\n",
    "            </div>\n",
    "        </td>\n",
    "    </tr>\n",
    "</table>"
   ]
  },
  {
   "cell_type": "markdown",
   "metadata": {
    "colab_type": "text",
    "id": "M-SEltsQbeh5"
   },
   "source": [
    "**Use the lists given below:**<br>\n",
    "\n",
    "    prices_monday = [10, 30, 50, 60, 90]\n",
    "\n",
    "    prices_tuesday = [50, 20, 80, 125, 10, 70]"
   ]
  },
  {
   "cell_type": "code",
   "execution_count": 1,
   "metadata": {
    "colab": {},
    "colab_type": "code",
    "id": "oPKuRQNxbeh5"
   },
   "outputs": [
    {
     "data": {
      "text/plain": [
       "array([10, 50])"
      ]
     },
     "execution_count": 1,
     "metadata": {},
     "output_type": "execute_result"
    }
   ],
   "source": [
    "# type your code here\n",
    "\n",
    "prices_monday = [10, 30, 50, 60, 90]\n",
    "\n",
    "prices_tuesday = [50, 20, 80, 125, 10, 70]\n",
    "\n",
    "import numpy as np\n",
    "np.intersect1d(prices_monday,prices_tuesday)"
   ]
  },
  {
   "cell_type": "markdown",
   "metadata": {
    "colab_type": "text",
    "id": "7IAO_XIgbeh8"
   },
   "source": [
    "<table align=\"left\">\n",
    "    <tr>\n",
    "        <td width=\"6%\">\n",
    "            <img src=\"question_icon.png\">\n",
    "        </td>\n",
    "        <td>\n",
    "            <div align=\"left\", style=\"font-size:120%\">\n",
    "                <font color=\"#21618C\">\n",
    "                    <b>10. Write a program to find BMI of the patients whose height and weight is provided in the list given below \n",
    "                    </b>\n",
    "                </font>\n",
    "            </div>\n",
    "        </td>\n",
    "    </tr>\n",
    "</table>"
   ]
  },
  {
   "cell_type": "markdown",
   "metadata": {
    "colab_type": "text",
    "id": "0hd186vdbeh8"
   },
   "source": [
    "**Use the lists given below:**<br>\n",
    "\n",
    "    list of weights (in kg)\n",
    "    weights = [57, 69, 54, 65 ,71, 62, 56]\n",
    "\n",
    "    list of heights (in m)<br>\n",
    "    heights = [1.59, 1.75, 1.66, 1.74, 1.64, 1.72, 1.53] "
   ]
  },
  {
   "cell_type": "code",
   "execution_count": 103,
   "metadata": {
    "colab": {},
    "colab_type": "code",
    "id": "pak7zb0nbeh9"
   },
   "outputs": [],
   "source": [
    "# type your code here\n",
    "# bmi = w/h**2\n",
    "\n",
    "\n",
    "weights = [57, 69, 54, 65 ,71, 62, 56]\n",
    "heights = [1.59, 1.75, 1.66, 1.74, 1.64, 1.72, 1.53] \n"
   ]
  },
  {
   "cell_type": "code",
   "execution_count": 106,
   "metadata": {},
   "outputs": [],
   "source": [
    "import numpy as np\n",
    "\n",
    "w = np.array(weights)\n",
    "h = np.array(heights)"
   ]
  },
  {
   "cell_type": "code",
   "execution_count": 109,
   "metadata": {},
   "outputs": [
    {
     "data": {
      "text/plain": [
       "array([57, 69, 54, 65, 71, 62, 56])"
      ]
     },
     "execution_count": 109,
     "metadata": {},
     "output_type": "execute_result"
    }
   ],
   "source": [
    "w"
   ]
  },
  {
   "cell_type": "code",
   "execution_count": 110,
   "metadata": {},
   "outputs": [
    {
     "data": {
      "text/plain": [
       "array([1.59, 1.75, 1.66, 1.74, 1.64, 1.72, 1.53])"
      ]
     },
     "execution_count": 110,
     "metadata": {},
     "output_type": "execute_result"
    }
   ],
   "source": [
    "h"
   ]
  },
  {
   "cell_type": "code",
   "execution_count": 111,
   "metadata": {},
   "outputs": [],
   "source": [
    "bmi = w/h**2"
   ]
  },
  {
   "cell_type": "code",
   "execution_count": 112,
   "metadata": {},
   "outputs": [
    {
     "data": {
      "text/plain": [
       "array([22.54657648, 22.53061224, 19.59645812, 21.46915048, 26.39797739,\n",
       "       20.9572742 , 23.922423  ])"
      ]
     },
     "execution_count": 112,
     "metadata": {},
     "output_type": "execute_result"
    }
   ],
   "source": [
    "bmi"
   ]
  },
  {
   "cell_type": "markdown",
   "metadata": {
    "colab_type": "text",
    "id": "ec1kOlTSbeh_"
   },
   "source": [
    "<table align=\"left\">\n",
    "    <tr>\n",
    "        <td width=\"6%\">\n",
    "            <img src=\"question_icon.png\">\n",
    "        </td>\n",
    "        <td>\n",
    "            <div align=\"left\", style=\"font-size:120%\">\n",
    "                <font color=\"#21618C\">\n",
    "                    <b>11. Write a program to add a new row ([5,7]) at the last position in the array given below \n",
    "                    </b>\n",
    "                </font>\n",
    "            </div>\n",
    "        </td>\n",
    "    </tr>\n",
    "</table>"
   ]
  },
  {
   "cell_type": "markdown",
   "metadata": {
    "colab_type": "text",
    "id": "74rcorbKbeh_"
   },
   "source": [
    "**Use the array given below:**\n",
    "\n",
    "    array1 = [[3, 4], [8, 2],[5, 9]]"
   ]
  },
  {
   "cell_type": "code",
   "execution_count": 124,
   "metadata": {
    "colab": {},
    "colab_type": "code",
    "id": "jMSSaHygbeiA"
   },
   "outputs": [],
   "source": [
    "ini_array = [[3, 4], [8, 2],[5, 9]]\n",
    "new_array = ([5,7])\n",
    "#use vstack or concatenate "
   ]
  },
  {
   "cell_type": "code",
   "execution_count": 126,
   "metadata": {},
   "outputs": [
    {
     "data": {
      "text/plain": [
       "array([[3, 4],\n",
       "       [8, 2],\n",
       "       [5, 9],\n",
       "       [5, 7]])"
      ]
     },
     "execution_count": 126,
     "metadata": {},
     "output_type": "execute_result"
    }
   ],
   "source": [
    "np.row_stack((ini_array,new_array))"
   ]
  },
  {
   "cell_type": "markdown",
   "metadata": {
    "colab_type": "text",
    "id": "LlOzsXogbeiC"
   },
   "source": [
    "<table align=\"left\">\n",
    "    <tr>\n",
    "        <td width=\"6%\">\n",
    "            <img src=\"question_icon.png\">\n",
    "        </td>\n",
    "        <td>\n",
    "            <div align=\"left\", style=\"font-size:120%\">\n",
    "                <font color=\"#21618C\">\n",
    "                    <b>12. Write a code to print the identity matrix of order 5</b>\n",
    "                </font>\n",
    "            </div>\n",
    "        </td>\n",
    "    </tr>\n",
    "</table>"
   ]
  },
  {
   "cell_type": "code",
   "execution_count": 129,
   "metadata": {
    "colab": {},
    "colab_type": "code",
    "id": "ZJh7inO1beiC"
   },
   "outputs": [
    {
     "data": {
      "text/plain": [
       "array([[1., 0., 0., 0., 0.],\n",
       "       [0., 1., 0., 0., 0.],\n",
       "       [0., 0., 1., 0., 0.],\n",
       "       [0., 0., 0., 1., 0.],\n",
       "       [0., 0., 0., 0., 1.]])"
      ]
     },
     "execution_count": 129,
     "metadata": {},
     "output_type": "execute_result"
    }
   ],
   "source": [
    "# type your code here\n",
    " \n",
    "i = np.identity(5)\n",
    "i"
   ]
  },
  {
   "cell_type": "markdown",
   "metadata": {
    "colab_type": "text",
    "id": "aFajPHw0beiE"
   },
   "source": [
    "<table align=\"left\">\n",
    "    <tr>\n",
    "        <td width=\"6%\">\n",
    "            <img src=\"question_icon.png\">\n",
    "        </td>\n",
    "        <td>\n",
    "            <div align=\"left\", style=\"font-size:120%\">\n",
    "                <font color=\"#21618C\">\n",
    "                    <b>13. Write a program to transpose a matrix \n",
    "                    </b>\n",
    "                </font>\n",
    "            </div>\n",
    "        </td>\n",
    "    </tr>\n",
    "</table>"
   ]
  },
  {
   "cell_type": "markdown",
   "metadata": {
    "colab_type": "text",
    "id": "FDsZ9zD6beiE"
   },
   "source": [
    "**Use the matrix given below:**\n",
    "    \n",
    "    M = [[15, 17, 45, 56], [7, 42, 15, 63], [54, 3, 61, 41], [0, 87, 16, 20]]"
   ]
  },
  {
   "cell_type": "code",
   "execution_count": 132,
   "metadata": {
    "colab": {},
    "colab_type": "code",
    "id": "vQkvDxk1beiF"
   },
   "outputs": [
    {
     "data": {
      "text/plain": [
       "array([[15,  7, 54,  0],\n",
       "       [17, 42,  3, 87],\n",
       "       [45, 15, 61, 16],\n",
       "       [56, 63, 41, 20]])"
      ]
     },
     "execution_count": 132,
     "metadata": {},
     "output_type": "execute_result"
    }
   ],
   "source": [
    "# type your code here\n",
    "#np.transpose \n",
    "M = [[15, 17, 45, 56], [7, 42, 15, 63], [54, 3, 61, 41], [0, 87, 16, 20]]\n",
    "\n",
    "m1 = np.transpose(M)\n",
    "m1"
   ]
  },
  {
   "cell_type": "markdown",
   "metadata": {
    "colab_type": "text",
    "id": "ocSa1c5zbeiH"
   },
   "source": [
    "<a id=\"Stacking\"> </a>\n",
    "## 3. Stacking"
   ]
  },
  {
   "cell_type": "markdown",
   "metadata": {
    "colab_type": "text",
    "id": "GJzjoAASbeiJ"
   },
   "source": [
    "<table align=\"left\">\n",
    "    <tr>\n",
    "        <td width=\"6%\">\n",
    "            <img src=\"question_icon.png\">\n",
    "        </td>\n",
    "        <td>\n",
    "            <div align=\"left\", style=\"font-size:120%\">\n",
    "                <font color=\"#21618C\">\n",
    "                    <b>14. Write a program to combine the two arrays vertically</b>\n",
    "                </font>\n",
    "            </div>\n",
    "        </td>\n",
    "    </tr>\n",
    "</table>"
   ]
  },
  {
   "cell_type": "markdown",
   "metadata": {
    "colab_type": "text",
    "id": "A4V3JmW4beiJ"
   },
   "source": [
    "**Use the arrays given below: (or create your own array)**<br>\n",
    "\n",
    "    A1 = [[5, 9], [7, 6]]\n",
    "\n",
    "    A2 = [[8,-7], [0,4]]\n",
    "\n",
    "Combine the array A2 with A1"
   ]
  },
  {
   "cell_type": "code",
   "execution_count": 3,
   "metadata": {
    "colab": {},
    "colab_type": "code",
    "id": "urVo4cp4beiK"
   },
   "outputs": [],
   "source": [
    "\n",
    "# type your code here\n",
    "#use vstack \n",
    "\n",
    "#out put = [5 9\n",
    "#           7 6\n",
    "#           8-7\n",
    "#           0 4]\n",
    "                \n",
    "import numpy as np\n",
    "\n",
    "A1 = [[5, 9], [7, 6]]\n",
    "\n",
    "A2 = [[8,-7], [0,4]]"
   ]
  },
  {
   "cell_type": "code",
   "execution_count": 4,
   "metadata": {},
   "outputs": [
    {
     "data": {
      "text/plain": [
       "[[5, 9], [7, 6]]"
      ]
     },
     "execution_count": 4,
     "metadata": {},
     "output_type": "execute_result"
    }
   ],
   "source": [
    "A1"
   ]
  },
  {
   "cell_type": "code",
   "execution_count": 5,
   "metadata": {},
   "outputs": [
    {
     "data": {
      "text/plain": [
       "[[8, -7], [0, 4]]"
      ]
     },
     "execution_count": 5,
     "metadata": {},
     "output_type": "execute_result"
    }
   ],
   "source": [
    "A2"
   ]
  },
  {
   "cell_type": "code",
   "execution_count": 134,
   "metadata": {},
   "outputs": [
    {
     "data": {
      "text/plain": [
       "array([[ 5,  9],\n",
       "       [ 7,  6],\n",
       "       [ 8, -7],\n",
       "       [ 0,  4]])"
      ]
     },
     "execution_count": 134,
     "metadata": {},
     "output_type": "execute_result"
    }
   ],
   "source": [
    "A3 = np.vstack((A1,A2))\n",
    "A3"
   ]
  },
  {
   "cell_type": "markdown",
   "metadata": {
    "colab_type": "text",
    "id": "RhdRGMQ9beiM"
   },
   "source": [
    "<table align=\"left\">\n",
    "    <tr>\n",
    "        <td width=\"6%\">\n",
    "            <img src=\"question_icon.png\">\n",
    "        </td>\n",
    "        <td>\n",
    "            <div align=\"left\", style=\"font-size:120%\">\n",
    "                <font color=\"#21618C\">\n",
    "                    <b>15. Write a code to combine the two arrays horizontally</b>\n",
    "                </font>\n",
    "            </div>\n",
    "        </td>\n",
    "    </tr>\n",
    "</table>"
   ]
  },
  {
   "cell_type": "markdown",
   "metadata": {
    "colab_type": "text",
    "id": "a6Ns43vebeiM"
   },
   "source": [
    "**Use the arrays given below: (or create your own array)**\n",
    "\n",
    "    A1 = [[-81, 75, 40], [27, 67, 52]]\n",
    "\n",
    "    A2 = [[15, 54], [39, 56]]\n",
    "\n",
    "Combine the array A2 with A1"
   ]
  },
  {
   "cell_type": "code",
   "execution_count": 135,
   "metadata": {
    "colab": {},
    "colab_type": "code",
    "id": "w640e_vMbeiN"
   },
   "outputs": [],
   "source": [
    "# type your code here\n",
    "\n",
    "A1 = [[-81, 75, 40], [27, 67, 52]]\n",
    "\n",
    "A2 = [[15, 54], [39, 56]]"
   ]
  },
  {
   "cell_type": "code",
   "execution_count": 136,
   "metadata": {},
   "outputs": [],
   "source": [
    "A3 = np.hstack((A1,A2))"
   ]
  },
  {
   "cell_type": "code",
   "execution_count": 137,
   "metadata": {},
   "outputs": [
    {
     "data": {
      "text/plain": [
       "array([[-81,  75,  40,  15,  54],\n",
       "       [ 27,  67,  52,  39,  56]])"
      ]
     },
     "execution_count": 137,
     "metadata": {},
     "output_type": "execute_result"
    }
   ],
   "source": [
    "A3"
   ]
  },
  {
   "cell_type": "markdown",
   "metadata": {
    "colab_type": "text",
    "id": "MImHyrD4beiQ"
   },
   "source": [
    "<table align=\"left\">\n",
    "    <tr>\n",
    "        <td width=\"6%\">\n",
    "            <img src=\"question_icon.png\">\n",
    "        </td>\n",
    "        <td>\n",
    "            <div align=\"left\", style=\"font-size:120%\">\n",
    "                <font color=\"#21618C\">\n",
    "                    <b>16. Write a code to divide the array into three sub-arrays containing\n",
    "                       equal number of rows</b>\n",
    "                </font>\n",
    "            </div>\n",
    "        </td>\n",
    "    </tr>\n",
    "</table>"
   ]
  },
  {
   "cell_type": "markdown",
   "metadata": {
    "colab_type": "text",
    "id": "qRNYzdgGbeiQ"
   },
   "source": [
    "**Use the array given below:**<br>\n",
    "\n",
    "    A = [[4, 7], [2, -3], [8, 1], [0, 9], [5,-1], [8, 3]]"
   ]
  },
  {
   "cell_type": "code",
   "execution_count": 0,
   "metadata": {
    "colab": {},
    "colab_type": "code",
    "id": "IDQemShwbeiQ"
   },
   "outputs": [],
   "source": [
    "# type your code here\n",
    "#use vertical split \n",
    "\n",
    "A = [[4, 7], [2, -3], [8, 1], [0, 9], [5,-1], [8, 3]]"
   ]
  },
  {
   "cell_type": "code",
   "execution_count": 138,
   "metadata": {},
   "outputs": [
    {
     "data": {
      "text/plain": [
       "list"
      ]
     },
     "execution_count": 138,
     "metadata": {},
     "output_type": "execute_result"
    }
   ],
   "source": [
    "type(A)"
   ]
  },
  {
   "cell_type": "code",
   "execution_count": 140,
   "metadata": {},
   "outputs": [
    {
     "data": {
      "text/plain": [
       "array([[ 1,  4,  8],\n",
       "       [ 5,  7,  3],\n",
       "       [ 9, 14,  2]])"
      ]
     },
     "execution_count": 140,
     "metadata": {},
     "output_type": "execute_result"
    }
   ],
   "source": [
    "n = np.array(A)\n",
    "n"
   ]
  },
  {
   "cell_type": "code",
   "execution_count": 151,
   "metadata": {},
   "outputs": [],
   "source": [
    "n1 = np.vsplit(n,3)"
   ]
  },
  {
   "cell_type": "code",
   "execution_count": 152,
   "metadata": {},
   "outputs": [
    {
     "data": {
      "text/plain": [
       "[array([[8, 7, 0, 9]]), array([[ 2, -3,  5, 10]]), array([[ 8,  5, -1,  3]])]"
      ]
     },
     "execution_count": 152,
     "metadata": {},
     "output_type": "execute_result"
    }
   ],
   "source": [
    "n1"
   ]
  },
  {
   "cell_type": "markdown",
   "metadata": {
    "colab_type": "text",
    "id": "shQHWLIHbeiT"
   },
   "source": [
    "<table align=\"left\">\n",
    "    <tr>\n",
    "        <td width=\"6%\">\n",
    "            <img src=\"question_icon.png\">\n",
    "        </td>\n",
    "        <td>\n",
    "            <div align=\"left\", style=\"font-size:120%\">\n",
    "                <font color=\"#21618C\">\n",
    "                    <b>17. Write a program to divide the array into two sub-arrays containing equal number of columns\n",
    "                    </b>\n",
    "                </font>\n",
    "            </div>\n",
    "        </td>\n",
    "    </tr>\n",
    "</table>"
   ]
  },
  {
   "cell_type": "markdown",
   "metadata": {
    "colab_type": "text",
    "id": "yU-xkFPvbeiT"
   },
   "source": [
    "**Use the array given below:**\n",
    "\n",
    "    B = [[8, 7, 0, 9], [2, -3, 5, 10], [8, 5, -1,3]]"
   ]
  },
  {
   "cell_type": "code",
   "execution_count": 145,
   "metadata": {
    "colab": {},
    "colab_type": "code",
    "id": "qamvSdNAbeiU"
   },
   "outputs": [
    {
     "data": {
      "text/plain": [
       "array([[ 8,  7,  0,  9],\n",
       "       [ 2, -3,  5, 10],\n",
       "       [ 8,  5, -1,  3]])"
      ]
     },
     "execution_count": 145,
     "metadata": {},
     "output_type": "execute_result"
    }
   ],
   "source": [
    "# type your code here\n",
    "#use horizontal split\n",
    "\n",
    "B = [[8, 7, 0, 9], [2, -3, 5, 10], [8, 5, -1,3]]\n",
    "\n",
    "n = np.array(B)\n",
    "n"
   ]
  },
  {
   "cell_type": "code",
   "execution_count": 155,
   "metadata": {},
   "outputs": [],
   "source": [
    "n1 = np.hsplit(n,2)"
   ]
  },
  {
   "cell_type": "code",
   "execution_count": 156,
   "metadata": {},
   "outputs": [
    {
     "data": {
      "text/plain": [
       "[array([[ 8,  7],\n",
       "        [ 2, -3],\n",
       "        [ 8,  5]]),\n",
       " array([[ 0,  9],\n",
       "        [ 5, 10],\n",
       "        [-1,  3]])]"
      ]
     },
     "execution_count": 156,
     "metadata": {},
     "output_type": "execute_result"
    }
   ],
   "source": [
    "n1"
   ]
  },
  {
   "cell_type": "markdown",
   "metadata": {
    "colab_type": "text",
    "id": "j7If6FtkbeiW"
   },
   "source": [
    "<a id=\"loop\"> </a>\n",
    "## 5. For Loop"
   ]
  },
  {
   "cell_type": "markdown",
   "metadata": {
    "colab_type": "text",
    "id": "hQnJS7ZmbeiX"
   },
   "source": [
    "<table align=\"left\">\n",
    "    <tr>\n",
    "        <td width=\"6%\">\n",
    "            <img src=\"question_icon.png\">\n",
    "        </td>\n",
    "        <td>\n",
    "            <div align=\"left\", style=\"font-size:120%\">\n",
    "                <font color=\"#21618C\">\n",
    "                    <b>18. Write a program to perform one-to-one mapping of the two lists</b>\n",
    "                </font>\n",
    "            </div>\n",
    "        </td>\n",
    "    </tr>\n",
    "</table>"
   ]
  },
  {
   "cell_type": "markdown",
   "metadata": {
    "colab_type": "text",
    "id": "894hNtHwbeiX"
   },
   "source": [
    "**Use the lists given below: (or create your own lists)**<br>\n",
    "\n",
    "    L1 = [45, 67, 56, 71, 54, 62, 56]\n",
    "\n",
    "    L2 = [21, 52, 64, 10, 49, 74, 26]"
   ]
  },
  {
   "cell_type": "code",
   "execution_count": 162,
   "metadata": {
    "colab": {},
    "colab_type": "code",
    "id": "Ned5rRarbeiX"
   },
   "outputs": [],
   "source": [
    "# type your code here\n"
   ]
  },
  {
   "cell_type": "code",
   "execution_count": 163,
   "metadata": {},
   "outputs": [],
   "source": [
    "L1 = [45, 67, 56, 71, 54, 62, 56]\n",
    "\n",
    "L2 = [21, 52, 64, 10, 49, 74, 26]\n"
   ]
  },
  {
   "cell_type": "code",
   "execution_count": 164,
   "metadata": {},
   "outputs": [
    {
     "name": "stdout",
     "output_type": "stream",
     "text": [
      "45 21\n",
      "67 52\n",
      "56 64\n",
      "71 10\n",
      "54 49\n",
      "62 74\n",
      "56 26\n"
     ]
    }
   ],
   "source": [
    "\n",
    "\n",
    "for i, j in zip(L1,L2):\n",
    "    print(i,j)"
   ]
  },
  {
   "cell_type": "markdown",
   "metadata": {
    "colab_type": "text",
    "id": "y1Euz_mMbeib"
   },
   "source": [
    "<table align=\"left\">\n",
    "    <tr>\n",
    "        <td width=\"6%\">\n",
    "            <img src=\"question_icon.png\">\n",
    "        </td>\n",
    "        <td>\n",
    "            <div align=\"left\", style=\"font-size:120%\">\n",
    "                <font color=\"#21618C\">\n",
    "                    <b>19. Define a for loop to apply the function (2x-1)/(x+5) on every element of an array </b>\n",
    "                </font>\n",
    "            </div>\n",
    "        </td>\n",
    "    </tr>\n",
    "</table>"
   ]
  },
  {
   "cell_type": "markdown",
   "metadata": {
    "colab_type": "text",
    "id": "wEbUS--hbeib"
   },
   "source": [
    "**Use the list given below:**\n",
    "    \n",
    "    numbers = [6, 5, 3, 15]"
   ]
  },
  {
   "cell_type": "code",
   "execution_count": 166,
   "metadata": {
    "colab": {},
    "colab_type": "code",
    "id": "hUmj2ep8beib"
   },
   "outputs": [
    {
     "data": {
      "text/plain": [
       "array([1.21428571, 0.16666667, 0.625     , 1.        , 0.625     ,\n",
       "       1.        ])"
      ]
     },
     "execution_count": 166,
     "metadata": {},
     "output_type": "execute_result"
    }
   ],
   "source": [
    "# type your code here\n",
    "#X\n",
    "# no need to use for loop , just conv to nump array as it wont work without 'for loop' for lists \n",
    "\n",
    "x = [9,1,3,6,3,6]\n",
    "a = np.array(x)\n",
    "(2*a-1)/(a+5)"
   ]
  },
  {
   "cell_type": "markdown",
   "metadata": {
    "colab_type": "text",
    "id": "A9rQySHGbeie"
   },
   "source": [
    "<table align=\"left\">\n",
    "    <tr>\n",
    "        <td width=\"6%\">\n",
    "            <img src=\"question_icon.png\">\n",
    "        </td>\n",
    "        <td>\n",
    "            <div align=\"left\", style=\"font-size:120%\">\n",
    "                <font color=\"#21618C\">\n",
    "                    <b>20. Create an identity matrix with n dimensions (take input from the user). Fill the diagonals of that matrix with the multiples of the number provided by the user; take another input from the user. Consider the output below as an example </b>\n",
    "                </font>\n",
    "            </div>\n",
    "        </td>\n",
    "    </tr>\n",
    "</table>"
   ]
  },
  {
   "cell_type": "markdown",
   "metadata": {
    "colab_type": "text",
    "id": "9F6Xqvihbeie"
   },
   "source": [
    "<table align=\"center\">\n",
    "    <td height = '100', width = '700'>\n",
    "          <img src=\"que 20.png\">\n",
    "        </td>\n",
    "</table>"
   ]
  },
  {
   "cell_type": "code",
   "execution_count": 3,
   "metadata": {
    "colab": {},
    "colab_type": "code",
    "id": "H7OL0Y0Ibeie"
   },
   "outputs": [
    {
     "name": "stdout",
     "output_type": "stream",
     "text": [
      "Enter the number: 4\n",
      "Enter the number to fill the diagonals with its multiples: 6\n",
      "[[6. 0. 0. 0.]\n",
      " [0. 6. 0. 0.]\n",
      " [0. 0. 6. 0.]\n",
      " [0. 0. 0. 6.]]\n",
      "None\n"
     ]
    }
   ],
   "source": [
    "# type your code here\n",
    "    \n",
    "import numpy as np\n",
    "\n",
    "x = int(input(\"Enter the number: \"))\n",
    "y = int(input(\"Enter the number to fill the diagonals with its multiples: \"))\n",
    "a = np.identity(x,)\n",
    "b = np.fill_diagonal(a,y)\n",
    "print(a)\n",
    "print(b)"
   ]
  },
  {
   "cell_type": "code",
   "execution_count": null,
   "metadata": {},
   "outputs": [],
   "source": []
  },
  {
   "cell_type": "code",
   "execution_count": null,
   "metadata": {},
   "outputs": [],
   "source": []
  }
 ],
 "metadata": {
  "colab": {
   "name": "NPV - In-Class - Lab Exercise (DAY 1) - Questions [v2.0 - 190320].ipynb",
   "provenance": []
  },
  "kernelspec": {
   "display_name": "Python 3",
   "language": "python",
   "name": "python3"
  },
  "language_info": {
   "codemirror_mode": {
    "name": "ipython",
    "version": 3
   },
   "file_extension": ".py",
   "mimetype": "text/x-python",
   "name": "python",
   "nbconvert_exporter": "python",
   "pygments_lexer": "ipython3",
   "version": "3.8.5"
  }
 },
 "nbformat": 4,
 "nbformat_minor": 1
}
