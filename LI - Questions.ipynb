{
 "cells": [
  {
   "cell_type": "markdown",
   "metadata": {},
   "source": [
    "# STATISTICS LEARNING INTERVENTION - CASE STUDY"
   ]
  },
  {
   "cell_type": "markdown",
   "metadata": {},
   "source": [
    "# Libararies"
   ]
  },
  {
   "cell_type": "code",
   "execution_count": 165,
   "metadata": {},
   "outputs": [],
   "source": [
    "\n",
    "import pandas as pd \n",
    "import numpy as np\n",
    "import matplotlib.pyplot as plt\n",
    "import seaborn as sns\n",
    "\n",
    "\n",
    "# to suppress warnings \n",
    "from warnings import filterwarnings\n",
    "filterwarnings('ignore')\n",
    "\n",
    "# import 'factorial' from math library\n",
    "from math import factorial\n",
    "\n",
    "# import 'stats' package from scipy library\n",
    "from scipy import stats\n",
    "from scipy.stats import randint\n",
    "\n",
    "# import 'random' to generate a random sample\n",
    "import random\n",
    "\n",
    "# import statistics to perform statistical computation  \n",
    "import statistics\n",
    "\n",
    "# import a library to perform Z-test\n",
    "from statsmodels.stats import weightstats as stests\n",
    "\n",
    "# to test the normality \n",
    "from scipy.stats import shapiro\n",
    "\n",
    "# import the function to calculate the power of test\n",
    "from statsmodels.stats import power\n",
    "\n",
    "# import the functions to perform Chi-square tests\n",
    "from scipy.stats import chi2_contingency\n",
    "from scipy.stats import chi2\n",
    "from scipy.stats import chisquare\n",
    "\n",
    "\n",
    "# import statsmodels\n",
    "import statsmodels.api as sm\n",
    "from statsmodels.formula.api import ols\n",
    "from statsmodels.stats.anova import anova_lm\n",
    "\n",
    "# function to perform post-hoc test\n",
    "import statsmodels.stats.multicomp as mc\n",
    "\n",
    "# import function to perform post-hoc\n",
    "# install scikit_posthocs using \"!pip install scikit_posthocs\" \n"
   ]
  },
  {
   "cell_type": "markdown",
   "metadata": {},
   "source": [
    "# Section 1"
   ]
  },
  {
   "cell_type": "markdown",
   "metadata": {},
   "source": [
    "### Question 1"
   ]
  },
  {
   "cell_type": "markdown",
   "metadata": {},
   "source": [
    "<span style=\"font-family: Arial; font-weight:bold;font-size:1.2em;\">In a library 50 books are selected at random.On an average 1 out of 10 books is a statistics book. .\n",
    "\n",
    "i) Probability of getting exactly 3 statistics book.\n",
    "\n",
    "ii) Probability of getting atleast 3 statistics book.\n",
    "\n",
    "iii) Probability of getting atmost 3 statistics book.\n",
    "\n",
    "iv) Probability of getting between 3 and 10 statistics book.\n",
    "\n",
    "v)  pmf and cdf of selecting the statistics book. Plot the graph.\n",
    "\n"
   ]
  },
  {
   "cell_type": "code",
   "execution_count": 3,
   "metadata": {},
   "outputs": [
    {
     "name": "stdout",
     "output_type": "stream",
     "text": [
      "i 0.13856514960695693\n",
      "ii 0.8882712436536526\n",
      "iii 0.2502939059533075\n",
      "iv 0.8789166420663237\n"
     ]
    }
   ],
   "source": [
    "n=50\n",
    "p=1/10\n",
    "ri=3\n",
    "print('i',stats.binom.pmf(ri,n,p))\n",
    "rii=3\n",
    "print('ii',stats.binom.sf(rii-1,n,p))\n",
    "riii=3\n",
    "print('iii',stats.binom.cdf(riii,n,p))\n",
    "riv1=3\n",
    "riv2=10\n",
    "print('iv',stats.binom.cdf(riv2,n,p)-stats.binom.cdf(riv1-1,n,p))\n"
   ]
  },
  {
   "cell_type": "code",
   "execution_count": 13,
   "metadata": {},
   "outputs": [
    {
     "data": {
      "text/plain": [
       "[<matplotlib.lines.Line2D at 0x1d6ebe747c0>]"
      ]
     },
     "execution_count": 13,
     "metadata": {},
     "output_type": "execute_result"
    },
    {
     "data": {
      "image/png": "[encoded data removed]",
      "text/plain": [
       "<Figure size 432x288 with 1 Axes>"
      ]
     },
     "metadata": {
      "needs_background": "light"
     },
     "output_type": "display_data"
    }
   ],
   "source": [
    "pmf=[]\n",
    "cdf=[]\n",
    "for i in range(51):\n",
    "    pmf.append(stats.binom.pmf(i,n,p))\n",
    "    cdf.append(stats.binom.cdf(i,n,p))\n",
    "plt.plot(pmf,color='Blue')\n",
    "plt.plot(cdf,color='red')"
   ]
  },
  {
   "cell_type": "markdown",
   "metadata": {},
   "source": [
    "### Question 2"
   ]
  },
  {
   "cell_type": "markdown",
   "metadata": {},
   "source": [
    "<span style=\"font-family: Arial; font-weight:bold;font-size:1.2em;\">The piston pressure in a randomly selected bike is normally distributed with mean value of 28 psi and standard deviation of 0.7 psi.\n",
    "\n",
    "\n",
    "What is the probability that the pressure for a randomly selected piston:\n",
    "\n",
    "(a) between 25 and 29 psi \n",
    "\n",
    "(b) less than 30 psi\n",
    "\n",
    "(c) greater than 30.5 psi  "
   ]
  },
  {
   "cell_type": "code",
   "execution_count": 24,
   "metadata": {},
   "outputs": [
    {
     "data": {
      "text/plain": [
       "0.9234271668415907"
      ]
     },
     "execution_count": 24,
     "metadata": {},
     "output_type": "execute_result"
    }
   ],
   "source": [
    "mu=28\n",
    "sd=0.7\n",
    "x1=25\n",
    "x2=29\n",
    "z1=(x1-mu)/sd\n",
    "z2=(x2-mu)/sd\n",
    "stats.norm.cdf(z2)-stats.norm.cdf(z1)"
   ]
  },
  {
   "cell_type": "code",
   "execution_count": 25,
   "metadata": {},
   "outputs": [
    {
     "data": {
      "text/plain": [
       "0.9978626330199137"
      ]
     },
     "execution_count": 25,
     "metadata": {},
     "output_type": "execute_result"
    }
   ],
   "source": [
    "xb=30\n",
    "zb=(xb-mu)/sd\n",
    "stats.norm.cdf(zb)"
   ]
  },
  {
   "cell_type": "code",
   "execution_count": 26,
   "metadata": {},
   "outputs": [
    {
     "data": {
      "text/plain": [
       "0.00017751969037347077"
      ]
     },
     "execution_count": 26,
     "metadata": {},
     "output_type": "execute_result"
    }
   ],
   "source": [
    "xc=30.5\n",
    "zc=(xc-mu)/sd\n",
    "stats.norm.sf(zc)"
   ]
  },
  {
   "cell_type": "markdown",
   "metadata": {},
   "source": [
    "### Question 3"
   ]
  },
  {
   "cell_type": "markdown",
   "metadata": {},
   "source": [
    "<span style=\"font-family: Arial; font-weight:bold;font-size:1.2em;\">A sample of 400 bulbs manufactued found to have a mean lifetime is 171.38 hrs. Can it\n",
    "reasonably be regarded as a large population with mean  more than 173 hrs\n",
    "and standard deviation of 3.3 hrs so that company can make profit(Test at 5% significance level).Will company make profit? Assume data is normally distributed."
   ]
  },
  {
   "cell_type": "code",
   "execution_count": 32,
   "metadata": {},
   "outputs": [
    {
     "name": "stdout",
     "output_type": "stream",
     "text": [
      "Ha is selected\n"
     ]
    }
   ],
   "source": [
    "xbar=171.38\n",
    "n=400\n",
    "mu=173\n",
    "sigma=3.3\n",
    "#Assumption:\n",
    "    #Data Normal\n",
    "    #Pop-std known\n",
    "#Hypothesis: Claim is \n",
    "    #H0:mu>=173\n",
    "    #ha:mu<173\n",
    "#test:\n",
    "    #One Sample z test - left tail\n",
    "#zstat\n",
    "z=xbar-mu/(sigma/(n**0.5))\n",
    "#pval\n",
    "pval=stats.norm.cdf(z)\n",
    "#inference\n",
    "if pval >= 0.05:\n",
    "    print('Ho is selected')\n",
    "else:\n",
    "    print('Ha is selected')"
   ]
  },
  {
   "cell_type": "code",
   "execution_count": 34,
   "metadata": {},
   "outputs": [
    {
     "name": "stdout",
     "output_type": "stream",
     "text": [
      "Ho is selected\n"
     ]
    }
   ],
   "source": [
    "#Hypothesis: Claim is \n",
    "    #H0:mu<=173\n",
    "    #ha:mu>173\n",
    "#test:\n",
    "    #One Sample z test - right tail\n",
    "#zstat\n",
    "z=xbar-mu/(sigma/(n**0.5))\n",
    "#pval\n",
    "pval=stats.norm.sf(z)\n",
    "#inference\n",
    "if pval >= 0.05:\n",
    "    print('Ho is selected')\n",
    "else:\n",
    "    print('Ha is selected')"
   ]
  },
  {
   "cell_type": "code",
   "execution_count": null,
   "metadata": {},
   "outputs": [],
   "source": [
    "#The Pop mean is less than 173.\n",
    "#claim is false"
   ]
  },
  {
   "cell_type": "markdown",
   "metadata": {},
   "source": [
    "### Question 4"
   ]
  },
  {
   "cell_type": "markdown",
   "metadata": {},
   "source": [
    "<span style=\"font-family: Arial; font-weight:bold;font-size:1.2em;\">The data of weight loss program is given below.Find whether gender has any effect in weight loss. \n",
    "\n",
    "\n",
    "\n",
    "\n",
    "Weight_loss_Male   = [ 3.69, 4.12, 4.65, 3.19,  4.34, 3.68, 4.12, 4.50, 3.70, 3.09,3.65, 4.73, 3.93, 3.46, 3.28, 4.43, 4.13, 3.62, 3.71, 2.92]\n",
    "\n",
    "Weight_loss_Female = [2.99, 1.80, 3.79, 4.12, 1.76, 3.50, 3.61, 2.32, 3.67, 4.26, 4.57, 3.01, 3.82, 4.33, 3.40, 3.86]\n",
    "\n",
    "Calculate the test statistic and p value manually and compare with the inbuilt function.\n",
    "    \n",
    "**Note: Assume data is normally distributed**"
   ]
  },
  {
   "cell_type": "code",
   "execution_count": 27,
   "metadata": {},
   "outputs": [
    {
     "name": "stdout",
     "output_type": "stream",
     "text": [
      "3.847 3.425625\n",
      "ShapiroResult(statistic=0.966270387172699, pvalue=0.6749979853630066)\n",
      "ShapiroResult(statistic=0.9086650609970093, pvalue=0.11074579507112503)\n"
     ]
    }
   ],
   "source": [
    "#Data prep\n",
    "Weight_loss_Male = [ 3.69, 4.12, 4.65, 3.19, 4.34, 3.68, 4.12, 4.50, 3.70, 3.09,3.65, 4.73, 3.93, 3.46, 3.28, 4.43, 4.13, 3.62, 3.71, 2.92]\n",
    "\n",
    "Weight_loss_Female = [2.99, 1.80, 3.79, 4.12, 1.76, 3.50, 3.61, 2.32, 3.67, 4.26, 4.57, 3.01, 3.82, 4.33, 3.40, 3.86]\n",
    "\n",
    "#xbar\n",
    "x1bar=np.mean(Weight_loss_Male)\n",
    "x2bar=np.mean(Weight_loss_Female)\n",
    "print(x1bar,x2bar)\n",
    "\n",
    "#Normality\n",
    "print(stats.shapiro(Weight_loss_Male))\n",
    "print(stats.shapiro(Weight_loss_Female))\n",
    "\n",
    "#pvals are > 0.05"
   ]
  },
  {
   "cell_type": "code",
   "execution_count": 90,
   "metadata": {},
   "outputs": [
    {
     "name": "stdout",
     "output_type": "stream",
     "text": [
      "spsqr=> 0.4727356985294119\n",
      "t=> 1.8271882959812857\n",
      "p=> 0.07646042053352953\n",
      "H0\n"
     ]
    }
   ],
   "source": [
    "#Assumption:\n",
    "    #Data Normal\n",
    "    #Pop-std not known\n",
    "#Hypothesis:\n",
    "    #H0:mu1 = mu2 \n",
    "    #Ha:mu1 != mu2\n",
    "#Test - 2 sample t test - Unpaired - two\n",
    "#tstat,pval\n",
    "s1=np.std(Weight_loss_Male,ddof=1)\n",
    "s2=np.std(Weight_loss_Female,ddof=1)\n",
    "n1=len(Weight_loss_Male)\n",
    "n2=len(Weight_loss_Female)\n",
    "df1=n1-1\n",
    "df2=n2-1\n",
    "s12=s1**2\n",
    "s22=s2**2\n",
    "num1=(df1*s12)+(df2*s22)\n",
    "den1=df1+df2\n",
    "sp2=num1/den1\n",
    "print('spsqr=>',sp2)\n",
    "num=(x1_bar-x2_bar)-0\n",
    "den=np.sqrt(sp2*(1/n1+1/n2))\n",
    "tstat=num/den\n",
    "print('t=>',tstat)\n",
    "\n",
    "pval=stats.t.sf(abs(tstat),df=n1+n2-2) * 2\n",
    "print('p=>',pval)\n",
    "\n",
    "if pval >=0.05:\n",
    "    print('H0')\n",
    "else:\n",
    "    print('Ha')\n"
   ]
  },
  {
   "cell_type": "code",
   "execution_count": 72,
   "metadata": {},
   "outputs": [
    {
     "name": "stdout",
     "output_type": "stream",
     "text": [
      "t2=> 1.827188295981286 2pro=> 0.0764604205335295\n",
      "H0 is selected\n"
     ]
    }
   ],
   "source": [
    "t2,twopval=stats.ttest_ind(Weight_loss_Male,Weight_loss_Female)\n",
    "onepval=twopval/2\n",
    "print('t2=>',t2,'2pro=>',twopval)\n",
    "#inference:\n",
    "if twopval>=0.05:\n",
    "    print('H0 is selected')\n",
    "else:\n",
    "    print('Ha is selected')"
   ]
  },
  {
   "cell_type": "code",
   "execution_count": null,
   "metadata": {},
   "outputs": [],
   "source": [
    "#Does not have any effect on each other"
   ]
  },
  {
   "cell_type": "markdown",
   "metadata": {},
   "source": [
    "### Question 5"
   ]
  },
  {
   "cell_type": "markdown",
   "metadata": {},
   "source": [
    "<span style=\"font-family: Arial; font-weight:bold;font-size:1.2em;\"> The data of weight gain program is given below.Find whether the program is effective.\n",
    "\n",
    "Weight_before =[52, 56, 61, 47, 58, 52, 56, 60, 52, 46, 51, 62, 54, 50, 48, 59, 56, 51, 52, 44, 52, 45, 57, 60, 45]\n",
    "\n",
    "Weight_after  =[62, 64, 40, 65, 76, 82, 53, 68, 77, 60, 69, 34, 69, 73, 67, 82, 62, 49, 44, 43, 77, 61, 67, 67, 54]\n",
    "\n",
    "**Note: Assume data is normally distributed and have equal variance.**"
   ]
  },
  {
   "cell_type": "code",
   "execution_count": 93,
   "metadata": {},
   "outputs": [
    {
     "name": "stdout",
     "output_type": "stream",
     "text": [
      "ShapiroResult(statistic=0.954791784286499, pvalue=0.3205137550830841)\n",
      "ShapiroResult(statistic=0.949905276298523, pvalue=0.24949611723423004)\n",
      "0.0011648791840145182\n",
      "ha is selected\n"
     ]
    }
   ],
   "source": [
    "#Data prep:\n",
    "Weight_before =[52, 56, 61, 47, 58, 52, 56, 60, 52, 46, 51, 62, 54, 50, 48, 59, 56, 51, 52, 44, 52, 45, 57, 60, 45]\n",
    "\n",
    "Weight_after =[62, 64, 40, 65, 76, 82, 53, 68, 77, 60, 69, 34, 69, 73, 67, 82, 62, 49, 44, 43, 77, 61, 67, 67, 54]\n",
    "\n",
    "#xbar\n",
    "x1bar=np.mean(Weight_before)\n",
    "x2bar=np.mean(Weight_after)\n",
    "\n",
    "#Normality\n",
    "print(stats.shapiro(Weight_before))\n",
    "print(stats.shapiro(Weight_after))\n",
    "\n",
    "#Assumption:\n",
    "    #Data normal\n",
    "    #pop-std not known\n",
    "#Hypothesis:\n",
    "    #H0: mu1 >= mu2 \n",
    "    #Ha: mu1 < mu2\n",
    "\n",
    "#Test: 2 Sample t test - paired - left\n",
    "\n",
    "#t,pval \n",
    "t,two_pval=stats.ttest_rel(Weight_before,Weight_after)\n",
    "onepval=two_pval/2\n",
    "print(onepval)\n",
    "#inference\n",
    "if  onepval>=0.05:\n",
    "    print('Ho is selected')\n",
    "else:\n",
    "    print('ha is selected')"
   ]
  },
  {
   "cell_type": "code",
   "execution_count": null,
   "metadata": {},
   "outputs": [],
   "source": [
    "#Before report is less than After report\n",
    "#It is effective"
   ]
  },
  {
   "cell_type": "markdown",
   "metadata": {},
   "source": [
    "# Section 2"
   ]
  },
  {
   "cell_type": "markdown",
   "metadata": {},
   "source": [
    "## COVID Data Analysis"
   ]
  },
  {
   "cell_type": "raw",
   "metadata": {},
   "source": [
    "Two pharma companies have created the antidote of Corona virus. One Drug (denoted by Old Drug) was created and Finished applying by August. The drug didn’t show the result as it was expected. So the New Drug was created and applied. Both the drugs were applied on a set of 200000 people.10000 patients were selected to see if there is any significant effect or which one works better. The patients were divided into 5000 groups (denoted as  Patient_id ). Each group has patient with similar health condition. Old Drug was applied on first 5000 patients and New Drug was applied on second 5000 patients. The effect of the both the drugs were recorded group wise.\n",
    "Both the companies have claim, their drugs work best on the patient with  \n",
    "\n",
    "1.\tNormal Oxygen Level ( denoted as Oxy_level ) The average Oxygen level should be 99 .\n",
    "\n",
    "2.\tAverage Pulse rate ( denoted as Pulse_rate ) of the patient should not be more than 100 .\n",
    "\n",
    "Both the drugs were applied on the patients on three phases. The recovery status with an index number were recorded after each phase of Drug application. More the index number better the performance of the Drug. It was expected that the both the drugs will have positive effect on the patients. It is claimed that the New Drug works better than Old Drug. The performance of Old Drug for different phases were recorded as Old_1, Old_2, Old_3 respectively.\n",
    "\n",
    "1.\tFor the problem statement, Test the Assumptions about the patients’ health record.\n",
    "\tForm the required hypothesis and test them.\n",
    "\t\n",
    "2.\tValidate the claim that there is no gender discrimination while selecting the sample\n",
    "\tForm the required hypothesis and test them.\n",
    "\n",
    "3.\tValidate that there was no discrimination based on age group and gender while selecting the patient or in other words the patients were selected randomly.\n",
    "\n",
    "Age group is described as  , \n",
    "Age\t               Age group\n",
    "Age  <  12\t        A\n",
    "12  <  Age  ≤  25\tB\n",
    "25  <  Age  ≤  40\tC\n",
    "40  <  Age  ≤  58\tD\n",
    "58  <  Age\t        E\n",
    "\n",
    "Form the required hypothesis and test them.\n",
    "\n",
    "\n",
    "4.\tValidate the claim that there is gradual improvement in performance of the New Drug over the phases:\n",
    "\tForm the required hypothesis and test them.\n",
    "\n",
    "5.\tTest whether the New Drug works better on any specific age group or it has uniform effect on the age group:   \n",
    "\tForm the required hypothesis and test them.\n",
    "\n"
   ]
  },
  {
   "cell_type": "code",
   "execution_count": 76,
   "metadata": {},
   "outputs": [
    {
     "data": {
      "text/html": [
       "<div>\n",
       "<style scoped>\n",
       "    .dataframe tbody tr th:only-of-type {\n",
       "        vertical-align: middle;\n",
       "    }\n",
       "\n",
       "    .dataframe tbody tr th {\n",
       "        vertical-align: top;\n",
       "    }\n",
       "\n",
       "    .dataframe thead th {\n",
       "        text-align: right;\n",
       "    }\n",
       "</style>\n",
       "<table border=\"1\" class=\"dataframe\">\n",
       "  <thead>\n",
       "    <tr style=\"text-align: right;\">\n",
       "      <th></th>\n",
       "      <th>Patient_id</th>\n",
       "      <th>Oxy_level</th>\n",
       "      <th>Pulse_rate</th>\n",
       "      <th>Blood_Sugar</th>\n",
       "      <th>Age</th>\n",
       "      <th>Sex</th>\n",
       "      <th>Old_1</th>\n",
       "      <th>Old_2</th>\n",
       "      <th>Old_3</th>\n",
       "      <th>New_1</th>\n",
       "      <th>New_2</th>\n",
       "      <th>New_3</th>\n",
       "    </tr>\n",
       "  </thead>\n",
       "  <tbody>\n",
       "    <tr>\n",
       "      <th>0</th>\n",
       "      <td>COVPAT0001</td>\n",
       "      <td>97.109182</td>\n",
       "      <td>109.156925</td>\n",
       "      <td>83</td>\n",
       "      <td>5</td>\n",
       "      <td>M</td>\n",
       "      <td>30.08</td>\n",
       "      <td>23.14</td>\n",
       "      <td>33.58</td>\n",
       "      <td>30.51</td>\n",
       "      <td>28.75</td>\n",
       "      <td>22.47</td>\n",
       "    </tr>\n",
       "    <tr>\n",
       "      <th>1</th>\n",
       "      <td>COVPAT0002</td>\n",
       "      <td>98.039265</td>\n",
       "      <td>109.481086</td>\n",
       "      <td>119</td>\n",
       "      <td>3</td>\n",
       "      <td>M</td>\n",
       "      <td>18.38</td>\n",
       "      <td>28.86</td>\n",
       "      <td>38.32</td>\n",
       "      <td>21.66</td>\n",
       "      <td>28.53</td>\n",
       "      <td>16.05</td>\n",
       "    </tr>\n",
       "    <tr>\n",
       "      <th>2</th>\n",
       "      <td>COVPAT0003</td>\n",
       "      <td>97.904030</td>\n",
       "      <td>110.428601</td>\n",
       "      <td>80</td>\n",
       "      <td>8</td>\n",
       "      <td>F</td>\n",
       "      <td>30.27</td>\n",
       "      <td>24.32</td>\n",
       "      <td>42.16</td>\n",
       "      <td>21.99</td>\n",
       "      <td>31.26</td>\n",
       "      <td>20.15</td>\n",
       "    </tr>\n",
       "    <tr>\n",
       "      <th>3</th>\n",
       "      <td>COVPAT0004</td>\n",
       "      <td>99.212383</td>\n",
       "      <td>110.048527</td>\n",
       "      <td>95</td>\n",
       "      <td>5</td>\n",
       "      <td>M</td>\n",
       "      <td>28.81</td>\n",
       "      <td>21.73</td>\n",
       "      <td>21.46</td>\n",
       "      <td>24.66</td>\n",
       "      <td>26.34</td>\n",
       "      <td>15.90</td>\n",
       "    </tr>\n",
       "    <tr>\n",
       "      <th>4</th>\n",
       "      <td>COVPAT0005</td>\n",
       "      <td>99.235056</td>\n",
       "      <td>110.180046</td>\n",
       "      <td>82</td>\n",
       "      <td>6</td>\n",
       "      <td>M</td>\n",
       "      <td>25.06</td>\n",
       "      <td>32.65</td>\n",
       "      <td>27.54</td>\n",
       "      <td>25.84</td>\n",
       "      <td>20.59</td>\n",
       "      <td>21.65</td>\n",
       "    </tr>\n",
       "  </tbody>\n",
       "</table>\n",
       "</div>"
      ],
      "text/plain": [
       "   Patient_id  Oxy_level  Pulse_rate  Blood_Sugar  Age Sex  Old_1  Old_2  \\\n",
       "0  COVPAT0001  97.109182  109.156925           83    5   M  30.08  23.14   \n",
       "1  COVPAT0002  98.039265  109.481086          119    3   M  18.38  28.86   \n",
       "2  COVPAT0003  97.904030  110.428601           80    8   F  30.27  24.32   \n",
       "3  COVPAT0004  99.212383  110.048527           95    5   M  28.81  21.73   \n",
       "4  COVPAT0005  99.235056  110.180046           82    6   M  25.06  32.65   \n",
       "\n",
       "   Old_3  New_1  New_2  New_3  \n",
       "0  33.58  30.51  28.75  22.47  \n",
       "1  38.32  21.66  28.53  16.05  \n",
       "2  42.16  21.99  31.26  20.15  \n",
       "3  21.46  24.66  26.34  15.90  \n",
       "4  27.54  25.84  20.59  21.65  "
      ]
     },
     "execution_count": 76,
     "metadata": {},
     "output_type": "execute_result"
    }
   ],
   "source": [
    "import pandas as pd\n",
    "df = pd.read_csv(\"LI_STAT_NOV.csv\")\n",
    "df.head()"
   ]
  },
  {
   "cell_type": "code",
   "execution_count": 77,
   "metadata": {
    "colab": {
     "base_uri": "https://localhost:8080/",
     "height": 34
    },
    "colab_type": "code",
    "id": "pMm9jnbhy0LR",
    "outputId": "ed814e7f-ef93-4fdf-c5a3-a6286a5cba2d"
   },
   "outputs": [
    {
     "data": {
      "text/plain": [
       "(5000, 12)"
      ]
     },
     "execution_count": 77,
     "metadata": {},
     "output_type": "execute_result"
    }
   ],
   "source": [
    "df.shape"
   ]
  },
  {
   "cell_type": "code",
   "execution_count": 78,
   "metadata": {
    "colab": {
     "base_uri": "https://localhost:8080/",
     "height": 102
    },
    "colab_type": "code",
    "id": "EZVRJbaNzYHx",
    "outputId": "cbbf2c86-215c-40e4-e43e-5986c953b359"
   },
   "outputs": [
    {
     "data": {
      "text/plain": [
       "Index(['Patient_id', 'Oxy_level', 'Pulse_rate', 'Blood_Sugar', 'Age', 'Sex',\n",
       "       'Old_1', 'Old_2', 'Old_3', 'New_1', 'New_2', 'New_3'],\n",
       "      dtype='object')"
      ]
     },
     "execution_count": 78,
     "metadata": {},
     "output_type": "execute_result"
    }
   ],
   "source": [
    "df.columns"
   ]
  },
  {
   "cell_type": "markdown",
   "metadata": {
    "colab_type": "text",
    "id": "ZLFdvIf2Bi2a"
   },
   "source": [
    "## Part 1:\t\n",
    "### Test for the Assumptions about the patients’ health record."
   ]
  },
  {
   "cell_type": "raw",
   "metadata": {},
   "source": [
    "a.\tNormal Oxygen Level ( denoted as Oxy_level ) The average Oxygen level should be 99 .\n",
    "b.\tAverage Pulse rate ( denoted as Pulse_rate ) of the patient should not be more than 100 ."
   ]
  },
  {
   "cell_type": "markdown",
   "metadata": {},
   "source": [
    "**a.\tNormal Oxygen Level ( denoted as Oxy_level ) The average Oxygen level should be 99 .**"
   ]
  },
  {
   "cell_type": "code",
   "execution_count": 114,
   "metadata": {},
   "outputs": [
    {
     "name": "stdout",
     "output_type": "stream",
     "text": [
      "98.99711569590404\n",
      "-0.2010691449505114\n",
      "0.8406526882409395\n",
      "Ho is selected\n"
     ]
    }
   ],
   "source": [
    "#hypothesis \n",
    "    #H0: mu = 99\n",
    "    #ha: mu != 99\n",
    "sample=df['Oxy_level']\n",
    "#normality:\n",
    "print(stats.shapiro(sample))\n",
    "#normal\n",
    "\n",
    "x_bar=np.mean(sample1)\n",
    "\n",
    "print(x_bar)\n",
    "\n",
    "s=np.std(sample)\n",
    "\n",
    "mu=99\n",
    "\n",
    "#t-stat\n",
    "\n",
    "n=len(sample)\n",
    "\n",
    "num = (x_bar - mu)\n",
    "\n",
    "den = s / (n**0.5)\n",
    "\n",
    "t = num / den\n",
    "\n",
    "print(t)\n",
    "\n",
    "#Pval:\n",
    "pval = stats.t.sf(abs(t),df=n-1) * 2\n",
    "\n",
    "print(pval)\n",
    "\n",
    "if pval>=0.05:\n",
    "    print('Ho is selected')\n",
    "else:\n",
    "    print('ha is selected')"
   ]
  },
  {
   "cell_type": "code",
   "execution_count": 110,
   "metadata": {},
   "outputs": [
    {
     "name": "stdout",
     "output_type": "stream",
     "text": [
      "-0.2010490370335417 0.8406684101608832\n"
     ]
    }
   ],
   "source": [
    "t,p=stats.ttest_1samp(sample1,popmean=99)\n",
    "print(t,p)"
   ]
  },
  {
   "cell_type": "code",
   "execution_count": 120,
   "metadata": {},
   "outputs": [],
   "source": [
    "#hypothesis:\n",
    "    #H0: mu <= 100\n",
    "    #ha: mu > 100\n",
    "avg_p=df['Pulse_rate']"
   ]
  },
  {
   "cell_type": "code",
   "execution_count": 128,
   "metadata": {},
   "outputs": [
    {
     "name": "stdout",
     "output_type": "stream",
     "text": [
      "110.00395163116018\n",
      "706.3652525815594\n",
      "0.0 0.0\n",
      "ha is selected\n"
     ]
    }
   ],
   "source": [
    "#Normality\n",
    "stats.shapiro(avg_p)\n",
    "#normal \n",
    "x_bar=np.mean(avg_p)\n",
    "\n",
    "print(x_bar)\n",
    "\n",
    "s=np.std(avg_p)\n",
    "\n",
    "mu=100\n",
    "\n",
    "#t-stat\n",
    "\n",
    "n=len(avg_p)\n",
    "\n",
    "num = (x_bar - mu)\n",
    "\n",
    "den = s / (n**0.5)\n",
    "\n",
    "t = num / den\n",
    "\n",
    "print(t)\n",
    "\n",
    "#Pval:\n",
    "pval = stats.t.sf(t,df=n-1) \n",
    "op=pval/2\n",
    "print(pval,op)\n",
    "\n",
    "if op>=0.05:\n",
    "    print('Ho is selected')\n",
    "else:\n",
    "    print('ha is selected')"
   ]
  },
  {
   "cell_type": "code",
   "execution_count": 124,
   "metadata": {},
   "outputs": [
    {
     "name": "stdout",
     "output_type": "stream",
     "text": [
      "706.2946125241093 0.0 0.0\n",
      "Ha\n"
     ]
    }
   ],
   "source": [
    "t,p=stats.ttest_1samp(avg_p,popmean=100)\n",
    "op=p/2\n",
    "print(t,p,op)\n",
    "if op>=0.05:\n",
    "    print('H0')\n",
    "else:\n",
    "    print('Ha')"
   ]
  },
  {
   "cell_type": "markdown",
   "metadata": {},
   "source": [
    "## Part 2 : \n",
    "### Validate if there is any gender discrimintion while selecting the sample"
   ]
  },
  {
   "cell_type": "code",
   "execution_count": 129,
   "metadata": {},
   "outputs": [
    {
     "data": {
      "text/plain": [
       "F    2544\n",
       "M    2456\n",
       "Name: Sex, dtype: int64"
      ]
     },
     "execution_count": 129,
     "metadata": {},
     "output_type": "execute_result"
    }
   ],
   "source": [
    "s1=df[df['Sex']=='M']\n",
    "s2=df[df['Sex']=='F']\n",
    "#Chi - sqr (TOI)\n",
    "obs=df['Sex'].value_counts()\n",
    "obs"
   ]
  },
  {
   "cell_type": "code",
   "execution_count": 130,
   "metadata": {},
   "outputs": [
    {
     "data": {
      "text/plain": [
       "[2500.0, 2500.0]"
      ]
     },
     "execution_count": 130,
     "metadata": {},
     "output_type": "execute_result"
    }
   ],
   "source": [
    "exp=[len(df)/2]*2\n",
    "exp"
   ]
  },
  {
   "cell_type": "code",
   "execution_count": 132,
   "metadata": {},
   "outputs": [
    {
     "name": "stdout",
     "output_type": "stream",
     "text": [
      "H0 is selected\n"
     ]
    }
   ],
   "source": [
    "#CHISQR- GOF\n",
    "#hypothesis:\n",
    "#h0: obs=exp  ha: obs != exp\n",
    "c,p=stats.chisquare(f_obs=obs,f_exp=exp)\n",
    "\n",
    "if p>=0.05:\n",
    "    print('H0 is selected')\n",
    "else:\n",
    "    print('Ha is selected')"
   ]
  },
  {
   "cell_type": "code",
   "execution_count": null,
   "metadata": {},
   "outputs": [],
   "source": [
    "#There is no diff b/w obs and exp they are same"
   ]
  },
  {
   "cell_type": "markdown",
   "metadata": {},
   "source": [
    "## Part 3 : \n",
    "### There is no association between the gender and age group on whom the test was applied"
   ]
  },
  {
   "cell_type": "markdown",
   "metadata": {},
   "source": [
    "Age group is described as  , \n",
    "Age\t               Age group\n",
    "Age  <  12\t        A\n",
    "12  <  Age  ≤  25\tB\n",
    "25  <  Age  ≤  40\tC\n",
    "40  <  Age  ≤  58\tD\n",
    "58  <  Age\t        E"
   ]
  },
  {
   "cell_type": "code",
   "execution_count": 142,
   "metadata": {},
   "outputs": [
    {
     "data": {
      "text/plain": [
       "E    1969\n",
       "A     964\n",
       "D     835\n",
       "C     670\n",
       "B     562\n",
       "Name: Age_g, dtype: int64"
      ]
     },
     "execution_count": 142,
     "metadata": {},
     "output_type": "execute_result"
    }
   ],
   "source": [
    "df['Age_g']=df['Age']\n",
    "df['Age_g'][(df['Age'] <= 12) ] = 'A'\n",
    "df['Age_g'][(df['Age']>12) & (df['Age'] <= 25)] = 'B'\n",
    "df['Age_g'][(df['Age'] > 25)&(df['Age'] <=40) ] = 'C'\n",
    "df['Age_g'][(df['Age'] >40) & (df['Age'] <= 58)] = 'D'\n",
    "df['Age_g'][df['Age']>58] = 'E'\n",
    "df['Age_g'].value_counts()"
   ]
  },
  {
   "cell_type": "code",
   "execution_count": 144,
   "metadata": {},
   "outputs": [
    {
     "data": {
      "text/plain": [
       "E    1889\n",
       "A    1012\n",
       "D     882\n",
       "C     655\n",
       "B     562\n",
       "Name: Ageg, dtype: int64"
      ]
     },
     "execution_count": 144,
     "metadata": {},
     "output_type": "execute_result"
    }
   ],
   "source": [
    "#Abhijit:\n",
    "bins=[0,13,26,41,59,110]\n",
    "labels=['A','B','C','D','E']\n",
    "df['Ageg']=pd.cut(df['Age'],bins=bins,labels=labels)\n",
    "df['Ageg'].value_counts()"
   ]
  },
  {
   "cell_type": "code",
   "execution_count": 145,
   "metadata": {},
   "outputs": [
    {
     "data": {
      "text/html": [
       "<div>\n",
       "<style scoped>\n",
       "    .dataframe tbody tr th:only-of-type {\n",
       "        vertical-align: middle;\n",
       "    }\n",
       "\n",
       "    .dataframe tbody tr th {\n",
       "        vertical-align: top;\n",
       "    }\n",
       "\n",
       "    .dataframe thead th {\n",
       "        text-align: right;\n",
       "    }\n",
       "</style>\n",
       "<table border=\"1\" class=\"dataframe\">\n",
       "  <thead>\n",
       "    <tr style=\"text-align: right;\">\n",
       "      <th>Age_g</th>\n",
       "      <th>A</th>\n",
       "      <th>B</th>\n",
       "      <th>C</th>\n",
       "      <th>D</th>\n",
       "      <th>E</th>\n",
       "    </tr>\n",
       "    <tr>\n",
       "      <th>Sex</th>\n",
       "      <th></th>\n",
       "      <th></th>\n",
       "      <th></th>\n",
       "      <th></th>\n",
       "      <th></th>\n",
       "    </tr>\n",
       "  </thead>\n",
       "  <tbody>\n",
       "    <tr>\n",
       "      <th>F</th>\n",
       "      <td>493</td>\n",
       "      <td>304</td>\n",
       "      <td>325</td>\n",
       "      <td>432</td>\n",
       "      <td>990</td>\n",
       "    </tr>\n",
       "    <tr>\n",
       "      <th>M</th>\n",
       "      <td>471</td>\n",
       "      <td>258</td>\n",
       "      <td>345</td>\n",
       "      <td>403</td>\n",
       "      <td>979</td>\n",
       "    </tr>\n",
       "  </tbody>\n",
       "</table>\n",
       "</div>"
      ],
      "text/plain": [
       "Age_g    A    B    C    D    E\n",
       "Sex                           \n",
       "F      493  304  325  432  990\n",
       "M      471  258  345  403  979"
      ]
     },
     "execution_count": 145,
     "metadata": {},
     "output_type": "execute_result"
    }
   ],
   "source": [
    "obs=pd.crosstab(df['Sex'],df['Age_g'])\n",
    "obs"
   ]
  },
  {
   "cell_type": "code",
   "execution_count": 149,
   "metadata": {},
   "outputs": [
    {
     "name": "stdout",
     "output_type": "stream",
     "text": [
      "4.385410736868801 0.3563518358703542 4 [[ 490.4832  285.9456  340.896   424.848  1001.8272]\n",
      " [ 473.5168  276.0544  329.104   410.152   967.1728]]\n",
      "Ho is selected\n"
     ]
    }
   ],
   "source": [
    "#CHI-SQR TOI\n",
    "#hypothesis: H0:ind  Ha: not ind\n",
    "c,p,dof,exp=stats.chi2_contingency(obs)\n",
    "print(c,p,dof,exp)\n",
    "if p>=0.05:\n",
    "    print('Ho is selected')\n",
    "else:\n",
    "    print('Ha is selected')"
   ]
  },
  {
   "cell_type": "code",
   "execution_count": null,
   "metadata": {},
   "outputs": [],
   "source": [
    "#They are independent \n",
    "#Claim is true"
   ]
  },
  {
   "cell_type": "markdown",
   "metadata": {
    "colab_type": "text",
    "id": "lrJ7c-a5oDPs"
   },
   "source": [
    "## Part 4 : \n",
    "\n",
    "### Validate the claim that there is gradual improvement in performance of the New Drug over the phases:"
   ]
  },
  {
   "cell_type": "code",
   "execution_count": 148,
   "metadata": {},
   "outputs": [
    {
     "data": {
      "text/plain": [
       "Index(['Patient_id', 'Oxy_level', 'Pulse_rate', 'Blood_Sugar', 'Age', 'Sex',\n",
       "       'Old_1', 'Old_2', 'Old_3', 'New_1', 'New_2', 'New_3', 'Age_G', 'Age_g',\n",
       "       'Ageg'],\n",
       "      dtype='object')"
      ]
     },
     "execution_count": 148,
     "metadata": {},
     "output_type": "execute_result"
    }
   ],
   "source": [
    "df.columns"
   ]
  },
  {
   "cell_type": "code",
   "execution_count": null,
   "metadata": {},
   "outputs": [],
   "source": [
    "#Hypothesis:\n",
    "#H0: mu1 <= mu2\n",
    "#ha: mu1 > mu2"
   ]
  },
  {
   "cell_type": "markdown",
   "metadata": {},
   "source": [
    "**a) compare 1&2**"
   ]
  },
  {
   "cell_type": "code",
   "execution_count": 151,
   "metadata": {},
   "outputs": [
    {
     "name": "stdout",
     "output_type": "stream",
     "text": [
      "ShapiroResult(statistic=0.999637246131897, pvalue=0.5181235074996948)\n",
      "ShapiroResult(statistic=0.9997190833091736, pvalue=0.7630884051322937)\n"
     ]
    }
   ],
   "source": [
    "be1=df['New_1']\n",
    "af1=df['New_2']\n",
    "\n",
    "#xbar\n",
    "bx=np.mean(be1)\n",
    "af1=np.mean(af1)\n",
    "\n",
    "#Normality:\n",
    "print(stats.shapiro(be1))\n",
    "print(stats.shapiro(af1))"
   ]
  },
  {
   "cell_type": "code",
   "execution_count": 153,
   "metadata": {},
   "outputs": [
    {
     "data": {
      "text/plain": [
       "Ttest_relResult(statistic=1.241305421533698, pvalue=0.21455118521659772)"
      ]
     },
     "execution_count": 153,
     "metadata": {},
     "output_type": "execute_result"
    }
   ],
   "source": [
    "stats.ttest_rel(df['New_1'],df['New_2'])\n",
    "#p>=0.05 ho"
   ]
  },
  {
   "cell_type": "markdown",
   "metadata": {},
   "source": [
    "**a) compare 1&3**"
   ]
  },
  {
   "cell_type": "code",
   "execution_count": 154,
   "metadata": {},
   "outputs": [
    {
     "name": "stdout",
     "output_type": "stream",
     "text": [
      "ShapiroResult(statistic=0.999637246131897, pvalue=0.5181235074996948)\n",
      "ShapiroResult(statistic=0.9995222687721252, pvalue=0.24914191663265228)\n"
     ]
    },
    {
     "data": {
      "text/plain": [
       "Ttest_relResult(statistic=88.05018179818472, pvalue=0.0)"
      ]
     },
     "execution_count": 154,
     "metadata": {},
     "output_type": "execute_result"
    }
   ],
   "source": [
    "#xbar\n",
    "bx=np.mean(df['New_1'])\n",
    "af1=np.mean(df['New_3'])\n",
    "\n",
    "#Normality:\n",
    "print(stats.shapiro(df['New_1']))\n",
    "print(stats.shapiro(df['New_3']))\n",
    "\n",
    "stats.ttest_rel(df['New_1'],df['New_3'])\n",
    "#p>=0.05 ho "
   ]
  },
  {
   "cell_type": "markdown",
   "metadata": {},
   "source": [
    "**a) compare 2&3**"
   ]
  },
  {
   "cell_type": "code",
   "execution_count": 155,
   "metadata": {},
   "outputs": [
    {
     "name": "stdout",
     "output_type": "stream",
     "text": [
      "ShapiroResult(statistic=0.9997190833091736, pvalue=0.7630884051322937)\n",
      "ShapiroResult(statistic=0.9995222687721252, pvalue=0.24914191663265228)\n"
     ]
    },
    {
     "data": {
      "text/plain": [
       "Ttest_relResult(statistic=77.39342559803396, pvalue=0.0)"
      ]
     },
     "execution_count": 155,
     "metadata": {},
     "output_type": "execute_result"
    }
   ],
   "source": [
    "#xbar\n",
    "bx=np.mean(df['New_2'])\n",
    "af1=np.mean(df['New_3'])\n",
    "\n",
    "#Normality:\n",
    "print(stats.shapiro(df['New_2']))\n",
    "print(stats.shapiro(df['New_3']))\n",
    "\n",
    "stats.ttest_rel(df['New_2'],df['New_3'])"
   ]
  },
  {
   "cell_type": "markdown",
   "metadata": {},
   "source": [
    "P value is less than 0.05, the drug performance in phase 3 is better than the result in phase 1.\n",
    "No significant difference in the performance in results of phase 1 and 2, there is a significant difference in the performance of phase 3.\n"
   ]
  },
  {
   "cell_type": "markdown",
   "metadata": {},
   "source": [
    "## Part 5 : \n",
    "### Test the effect of the new drug over different age group "
   ]
  },
  {
   "cell_type": "code",
   "execution_count": 159,
   "metadata": {},
   "outputs": [
    {
     "name": "stdout",
     "output_type": "stream",
     "text": [
      "ShapiroResult(statistic=0.998071551322937, pvalue=0.3440183699131012)\n",
      "ShapiroResult(statistic=0.9963563084602356, pvalue=0.22764654457569122)\n",
      "ShapiroResult(statistic=0.998840868473053, pvalue=0.950452983379364)\n",
      "ShapiroResult(statistic=0.9985710978507996, pvalue=0.7450780868530273)\n",
      "ShapiroResult(statistic=0.9982620477676392, pvalue=0.035715654492378235)\n",
      "0.8102960966691605 0.518369274029178\n",
      "h0\n"
     ]
    }
   ],
   "source": [
    "#Data preparation\n",
    "gA=df[df['Age_g']=='A']['New_3']\n",
    "gB=df[df['Age_g']=='B']['New_3']\n",
    "gC=df[df['Age_g']=='C']['New_3']\n",
    "gD=df[df['Age_g']=='D']['New_3']\n",
    "gE=df[df['Age_g']=='E']['New_3']\n",
    "\n",
    "#test of normality:\n",
    "#h0 : Normal(skew=0)  ha: not normal(skew!=0)\n",
    "print(stats.shapiro(gA))\n",
    "print(stats.shapiro(gB))\n",
    "print(stats.shapiro(gC))\n",
    "print(stats.shapiro(gD))\n",
    "print(stats.shapiro(gE))\n",
    "#pval>0.01 =>  data are  normal\n",
    "\n",
    "#equality of variance:(leviene's)\n",
    "#h0: all var are equal ha:atleast one var not equal\n",
    "stats.levene(gA,gB,gC,gD,gE)\n",
    "#pval>0.05\n",
    "#all var are equal\n",
    "\n",
    "#Assumption:\n",
    "  #data normal\n",
    "  #Data have equal var\n",
    "\n",
    "#Hypothesis:\n",
    "  #h0: all pop mean are equal \n",
    "  #ha: atleast one pop mean not equal\n",
    "#Test:ANOVA(more than 2 samples)\n",
    "fstat,pval=stats.f_oneway(gA,gB,gC,gD,gE)\n",
    "print(fstat,pval)\n",
    "sig_lvl=0.05\n",
    "if pval>=sig_lvl:\n",
    "    print('h0')\n",
    "else:\n",
    "    print('ha')"
   ]
  },
  {
   "cell_type": "code",
   "execution_count": null,
   "metadata": {},
   "outputs": [],
   "source": [
    "# Aliter\n",
    "\n",
    "test = ols('New_3 ~ Q(\"Age_group\")', data).fit()\n",
    "\n",
    "anova_1 = anova_lm(test, typ = 1)\n",
    "anova_1\n"
   ]
  },
  {
   "cell_type": "code",
   "execution_count": null,
   "metadata": {},
   "outputs": [],
   "source": [
    "#all means are equal"
   ]
  },
  {
   "cell_type": "markdown",
   "metadata": {},
   "source": [
    "# Section 3"
   ]
  },
  {
   "cell_type": "markdown",
   "metadata": {},
   "source": [
    "## Wine Quality analysis"
   ]
  },
  {
   "cell_type": "markdown",
   "metadata": {},
   "source": [
    "### Dataset and Info"
   ]
  },
  {
   "cell_type": "markdown",
   "metadata": {},
   "source": [
    "Data Set Information:\n",
    "\n",
    "These data are the results of a chemical analysis of wines grown in the same region in Italy but derived from three different cultivators. Below are the constituents found in each of the three types of wines (Cultivator).\n",
    "\n",
    "Alcohol, Malic acid, Ash, Alcalinity of ash, Magnesium, Total phenols, Flavanoids, Nonflavanoid phenols, Proanthocyanins,)Color intensity, Hue, OD280/OD315 of diluted wines, Proline\n",
    "\n",
    "\n"
   ]
  },
  {
   "cell_type": "code",
   "execution_count": 160,
   "metadata": {},
   "outputs": [],
   "source": [
    "data=pd.read_csv(\"wine.xls\"\n",
    "                ,names= [\"Cultivator\", \"Alchol\", \"Malic_Acid\", \"Ash\", \"Alcalinity_of_Ash\", \n",
    "             \"Magnesium\", \"Total_phenols\", \"Falvanoids\", \"Nonflavanoid_phenols\", \n",
    "             \"Proanthocyanins\", \"Color_intensity\", \"Hue\", \"OD280\", \"Proline\"])"
   ]
  },
  {
   "cell_type": "code",
   "execution_count": 161,
   "metadata": {},
   "outputs": [
    {
     "data": {
      "text/html": [
       "<div>\n",
       "<style scoped>\n",
       "    .dataframe tbody tr th:only-of-type {\n",
       "        vertical-align: middle;\n",
       "    }\n",
       "\n",
       "    .dataframe tbody tr th {\n",
       "        vertical-align: top;\n",
       "    }\n",
       "\n",
       "    .dataframe thead th {\n",
       "        text-align: right;\n",
       "    }\n",
       "</style>\n",
       "<table border=\"1\" class=\"dataframe\">\n",
       "  <thead>\n",
       "    <tr style=\"text-align: right;\">\n",
       "      <th></th>\n",
       "      <th>Cultivator</th>\n",
       "      <th>Alchol</th>\n",
       "      <th>Malic_Acid</th>\n",
       "      <th>Ash</th>\n",
       "      <th>Alcalinity_of_Ash</th>\n",
       "      <th>Magnesium</th>\n",
       "      <th>Total_phenols</th>\n",
       "      <th>Falvanoids</th>\n",
       "      <th>Nonflavanoid_phenols</th>\n",
       "      <th>Proanthocyanins</th>\n",
       "      <th>Color_intensity</th>\n",
       "      <th>Hue</th>\n",
       "      <th>OD280</th>\n",
       "      <th>Proline</th>\n",
       "    </tr>\n",
       "  </thead>\n",
       "  <tbody>\n",
       "    <tr>\n",
       "      <th>0</th>\n",
       "      <td>1</td>\n",
       "      <td>14.23</td>\n",
       "      <td>1.71</td>\n",
       "      <td>2.43</td>\n",
       "      <td>15.6</td>\n",
       "      <td>127</td>\n",
       "      <td>2.80</td>\n",
       "      <td>3.06</td>\n",
       "      <td>0.28</td>\n",
       "      <td>2.29</td>\n",
       "      <td>5.64</td>\n",
       "      <td>1.04</td>\n",
       "      <td>3.92</td>\n",
       "      <td>1065</td>\n",
       "    </tr>\n",
       "    <tr>\n",
       "      <th>1</th>\n",
       "      <td>1</td>\n",
       "      <td>13.20</td>\n",
       "      <td>1.78</td>\n",
       "      <td>2.14</td>\n",
       "      <td>11.2</td>\n",
       "      <td>100</td>\n",
       "      <td>2.65</td>\n",
       "      <td>2.76</td>\n",
       "      <td>0.26</td>\n",
       "      <td>1.28</td>\n",
       "      <td>4.38</td>\n",
       "      <td>1.05</td>\n",
       "      <td>3.40</td>\n",
       "      <td>1050</td>\n",
       "    </tr>\n",
       "    <tr>\n",
       "      <th>2</th>\n",
       "      <td>1</td>\n",
       "      <td>13.16</td>\n",
       "      <td>2.36</td>\n",
       "      <td>2.67</td>\n",
       "      <td>18.6</td>\n",
       "      <td>101</td>\n",
       "      <td>2.80</td>\n",
       "      <td>3.24</td>\n",
       "      <td>0.30</td>\n",
       "      <td>2.81</td>\n",
       "      <td>5.68</td>\n",
       "      <td>1.03</td>\n",
       "      <td>3.17</td>\n",
       "      <td>1185</td>\n",
       "    </tr>\n",
       "    <tr>\n",
       "      <th>3</th>\n",
       "      <td>1</td>\n",
       "      <td>14.37</td>\n",
       "      <td>1.95</td>\n",
       "      <td>2.50</td>\n",
       "      <td>16.8</td>\n",
       "      <td>113</td>\n",
       "      <td>3.85</td>\n",
       "      <td>3.49</td>\n",
       "      <td>0.24</td>\n",
       "      <td>2.18</td>\n",
       "      <td>7.80</td>\n",
       "      <td>0.86</td>\n",
       "      <td>3.45</td>\n",
       "      <td>1480</td>\n",
       "    </tr>\n",
       "    <tr>\n",
       "      <th>4</th>\n",
       "      <td>1</td>\n",
       "      <td>13.24</td>\n",
       "      <td>2.59</td>\n",
       "      <td>2.87</td>\n",
       "      <td>21.0</td>\n",
       "      <td>118</td>\n",
       "      <td>2.80</td>\n",
       "      <td>2.69</td>\n",
       "      <td>0.39</td>\n",
       "      <td>1.82</td>\n",
       "      <td>4.32</td>\n",
       "      <td>1.04</td>\n",
       "      <td>2.93</td>\n",
       "      <td>735</td>\n",
       "    </tr>\n",
       "  </tbody>\n",
       "</table>\n",
       "</div>"
      ],
      "text/plain": [
       "   Cultivator  Alchol  Malic_Acid   Ash  Alcalinity_of_Ash  Magnesium  \\\n",
       "0           1   14.23        1.71  2.43               15.6        127   \n",
       "1           1   13.20        1.78  2.14               11.2        100   \n",
       "2           1   13.16        2.36  2.67               18.6        101   \n",
       "3           1   14.37        1.95  2.50               16.8        113   \n",
       "4           1   13.24        2.59  2.87               21.0        118   \n",
       "\n",
       "   Total_phenols  Falvanoids  Nonflavanoid_phenols  Proanthocyanins  \\\n",
       "0           2.80        3.06                  0.28             2.29   \n",
       "1           2.65        2.76                  0.26             1.28   \n",
       "2           2.80        3.24                  0.30             2.81   \n",
       "3           3.85        3.49                  0.24             2.18   \n",
       "4           2.80        2.69                  0.39             1.82   \n",
       "\n",
       "   Color_intensity   Hue  OD280  Proline  \n",
       "0             5.64  1.04   3.92     1065  \n",
       "1             4.38  1.05   3.40     1050  \n",
       "2             5.68  1.03   3.17     1185  \n",
       "3             7.80  0.86   3.45     1480  \n",
       "4             4.32  1.04   2.93      735  "
      ]
     },
     "execution_count": 161,
     "metadata": {},
     "output_type": "execute_result"
    }
   ],
   "source": [
    "data.head()"
   ]
  },
  {
   "cell_type": "code",
   "execution_count": 166,
   "metadata": {},
   "outputs": [
    {
     "name": "stdout",
     "output_type": "stream",
     "text": [
      "<class 'pandas.core.frame.DataFrame'>\n",
      "RangeIndex: 178 entries, 0 to 177\n",
      "Data columns (total 14 columns):\n",
      " #   Column                Non-Null Count  Dtype  \n",
      "---  ------                --------------  -----  \n",
      " 0   Cultivator            178 non-null    int64  \n",
      " 1   Alchol                178 non-null    float64\n",
      " 2   Malic_Acid            178 non-null    float64\n",
      " 3   Ash                   178 non-null    float64\n",
      " 4   Alcalinity_of_Ash     178 non-null    float64\n",
      " 5   Magnesium             178 non-null    int64  \n",
      " 6   Total_phenols         178 non-null    float64\n",
      " 7   Falvanoids            178 non-null    float64\n",
      " 8   Nonflavanoid_phenols  178 non-null    float64\n",
      " 9   Proanthocyanins       178 non-null    float64\n",
      " 10  Color_intensity       178 non-null    float64\n",
      " 11  Hue                   178 non-null    float64\n",
      " 12  OD280                 178 non-null    float64\n",
      " 13  Proline               178 non-null    int64  \n",
      "dtypes: float64(11), int64(3)\n",
      "memory usage: 19.6 KB\n"
     ]
    }
   ],
   "source": [
    "data.info()"
   ]
  },
  {
   "cell_type": "markdown",
   "metadata": {},
   "source": [
    "## Find whether Alcalinity_of_Ash is helpful in predicting Cultivator?"
   ]
  },
  {
   "cell_type": "code",
   "execution_count": 174,
   "metadata": {},
   "outputs": [
    {
     "name": "stdout",
     "output_type": "stream",
     "text": [
      "ShapiroResult(statistic=0.9731467962265015, pvalue=0.2160925567150116)\n",
      "ShapiroResult(statistic=0.968777596950531, pvalue=0.07397352159023285)\n",
      "ShapiroResult(statistic=0.9597616195678711, pvalue=0.09874334931373596)\n",
      "LeveneResult(statistic=2.9363960812570693, pvalue=0.05567631782944166)\n",
      "35.77163740730924 9.444472938826817e-14\n",
      "ha\n"
     ]
    }
   ],
   "source": [
    "#Data preparation\n",
    "gA=data[data['Cultivator']==1]['Alcalinity_of_Ash']\n",
    "gB=data[data['Cultivator']==2]['Alcalinity_of_Ash']\n",
    "gC=data[data['Cultivator']==3]['Alcalinity_of_Ash']\n",
    "\n",
    "#test of normality:\n",
    "#h0 : Normal(skew=0)  ha: not normal(skew!=0)\n",
    "print(stats.shapiro(gA))\n",
    "print(stats.shapiro(gB))\n",
    "print(stats.shapiro(gC))\n",
    "#pval>0.01 =>  data are  normal\n",
    "\n",
    "#equality of variance:(leviene's)\n",
    "#h0: all var are equal ha:atleast one var not equal\n",
    "print(stats.levene(gA,gB,gC))\n",
    "#pval>0.05\n",
    "#all var are equal\n",
    "\n",
    "#Assumption:\n",
    "  #data normal\n",
    "  #Data have equal var\n",
    "\n",
    "#Hypothesis:\n",
    "  #h0: all pop mean are equal \n",
    "  #ha: atleast one pop mean not equal\n",
    "#Test:ANOVA(more than 2 samples)\n",
    "fstat,pval=stats.f_oneway(gA,gB,gC)\n",
    "print(fstat,pval)\n",
    "sig_lvl=0.05\n",
    "if pval>=sig_lvl:\n",
    "    print('h0')\n",
    "else:\n",
    "    print('ha')"
   ]
  },
  {
   "cell_type": "code",
   "execution_count": 170,
   "metadata": {},
   "outputs": [
    {
     "data": {
      "text/html": [
       "<table class=\"simpletable\">\n",
       "<caption>Multiple Comparison of Means - Tukey HSD, FWER=0.05</caption>\n",
       "<tr>\n",
       "  <th>group1</th> <th>group2</th> <th>meandiff</th>  <th>p-adj</th>  <th>lower</th>   <th>upper</th> <th>reject</th>\n",
       "</tr>\n",
       "<tr>\n",
       "     <td>1</td>      <td>2</td>    <td>3.2007</td>   <td>0.001</td> <td>2.0223</td>  <td>4.3791</td>  <td>True</td> \n",
       "</tr>\n",
       "<tr>\n",
       "     <td>1</td>      <td>3</td>    <td>4.3794</td>   <td>0.001</td> <td>3.0791</td>  <td>5.6796</td>  <td>True</td> \n",
       "</tr>\n",
       "<tr>\n",
       "     <td>2</td>      <td>3</td>    <td>1.1786</td>  <td>0.0692</td> <td>-0.0713</td> <td>2.4286</td>  <td>False</td>\n",
       "</tr>\n",
       "</table>"
      ],
      "text/plain": [
       "<class 'statsmodels.iolib.table.SimpleTable'>"
      ]
     },
     "execution_count": 170,
     "metadata": {},
     "output_type": "execute_result"
    }
   ],
   "source": [
    "import statsmodels.stats.multicomp as mc\n",
    "mm=mc.MultiComparison(data['Alcalinity_of_Ash'],groups=data['Cultivator'])\n",
    "tk=mm.tukeyhsd(alpha=0.05)\n",
    "tk.summary()"
   ]
  },
  {
   "cell_type": "code",
   "execution_count": 173,
   "metadata": {},
   "outputs": [
    {
     "data": {
      "text/plain": [
       "<AxesSubplot:xlabel='Alcalinity_of_Ash', ylabel='Density'>"
      ]
     },
     "execution_count": 173,
     "metadata": {},
     "output_type": "execute_result"
    },
    {
     "data": {
      "image/png": "[encoded data removed]",
      "text/plain": [
       "<Figure size 432x288 with 1 Axes>"
      ]
     },
     "metadata": {
      "needs_background": "light"
     },
     "output_type": "display_data"
    }
   ],
   "source": [
    "sns.distplot(gA,color='blue')\n",
    "sns.distplot(gB,color='black')\n",
    "sns.distplot(gC)"
   ]
  },
  {
   "cell_type": "code",
   "execution_count": null,
   "metadata": {},
   "outputs": [],
   "source": [
    "#For 1 and 2 the pop mean are diff\n",
    "#For 1 and 3 the mean are diff\n",
    "#For 2 and 3 there is relation "
   ]
  }
 ],
 "metadata": {
  "kernelspec": {
   "display_name": "Python 3",
   "language": "python",
   "name": "python3"
  },
  "language_info": {
   "codemirror_mode": {
    "name": "ipython",
    "version": 3
   },
   "file_extension": ".py",
   "mimetype": "text/x-python",
   "name": "python",
   "nbconvert_exporter": "python",
   "pygments_lexer": "ipython3",
   "version": "3.8.5"
  }
 },
 "nbformat": 4,
 "nbformat_minor": 4
}
