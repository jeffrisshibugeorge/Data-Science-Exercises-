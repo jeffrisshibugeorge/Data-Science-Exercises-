{
 "cells": [
  {
   "cell_type": "markdown",
   "metadata": {},
   "source": [
    "<table align=\"left\" width=100%>\n",
    "    <tr>\n",
    "       <td width=\"20%\">           \n",
    "        </td>\n",
    "        <td>\n",
    "            <div align=\"center\">\n",
    "                <font color=\"#21618C\" size=8px>\n",
    "                  <b> Inclass Exercises <br> (Day 1) </b>\n",
    "                </font>\n",
    "            </div>\n",
    "        </td>\n",
    "    </tr>\n",
    "</table>"
   ]
  },
  {
   "cell_type": "code",
   "execution_count": 1,
   "metadata": {
    "colab": {},
    "colab_type": "code",
    "id": "b_40y1hYpCCD"
   },
   "outputs": [],
   "source": [
    "## CALLING LIBRARIES\n",
    "\n",
    "import numpy as np\n",
    "import pandas as pd\n",
    "import scipy.stats as stats\n",
    "import math\n",
    "import matplotlib.pyplot as plt\n",
    "%matplotlib inline"
   ]
  },
  {
   "cell_type": "markdown",
   "metadata": {
    "colab_type": "text",
    "id": "QS9SBTKJpCCI"
   },
   "source": [
    "## Binomial distribution:"
   ]
  },
  {
   "cell_type": "markdown",
   "metadata": {
    "colab_type": "text",
    "id": "odJnlYejpCCJ"
   },
   "source": [
    "1. **Problem:** The percentage of orders filled correctly at Wendy's was approximately 86.8%. Suppose that you go to drive-through window at Wendy's and place an order. Three friends of yours independently place orders at the drive-through window at the same Wendy's.\n",
    "\n",
    "\n",
    "------------------\n",
    "\n",
    "What are the probabilities that \n",
    "* a) all three are filled correctly?\n",
    "* b) none of the three are filled correctly?\n",
    "* c) atleast two of the three orders will be filled correctly?\n",
    "* d) what is the mean and standard deviation of the orders filled correctly?\n"
   ]
  },
  {
   "cell_type": "code",
   "execution_count": 2,
   "metadata": {},
   "outputs": [],
   "source": [
    "p = 0.868\n",
    "n = 3"
   ]
  },
  {
   "cell_type": "markdown",
   "metadata": {
    "colab_type": "text",
    "id": "rixjejFmpCCN"
   },
   "source": [
    "#### a) all the three orders are filled correctly?\n"
   ]
  },
  {
   "cell_type": "code",
   "execution_count": 3,
   "metadata": {
    "colab": {},
    "colab_type": "code",
    "id": "Kjc3VPBJpCCO"
   },
   "outputs": [
    {
     "data": {
      "text/plain": [
       "0.653972032"
      ]
     },
     "execution_count": 3,
     "metadata": {},
     "output_type": "execute_result"
    }
   ],
   "source": [
    "stats.binom.pmf(3,n,p)"
   ]
  },
  {
   "cell_type": "markdown",
   "metadata": {
    "colab_type": "text",
    "id": "47TJFhVCpCCR"
   },
   "source": [
    "#### b) none of the three orders are filled correctly?\n"
   ]
  },
  {
   "cell_type": "code",
   "execution_count": 4,
   "metadata": {
    "colab": {},
    "colab_type": "code",
    "id": "CZHBl9INpCCS"
   },
   "outputs": [
    {
     "data": {
      "text/plain": [
       "0.002299968"
      ]
     },
     "execution_count": 4,
     "metadata": {},
     "output_type": "execute_result"
    }
   ],
   "source": [
    "stats.binom.pmf(0,n,p)"
   ]
  },
  {
   "cell_type": "markdown",
   "metadata": {
    "colab_type": "text",
    "id": "jlgPsW3NpCCV"
   },
   "source": [
    "\n",
    "\n",
    "#### c) atleast two of the three orders are filled correctly, we need to find out 1 - Probability of upto 1 failure\n",
    "\n",
    "\n",
    "\n",
    "\n"
   ]
  },
  {
   "cell_type": "code",
   "execution_count": 8,
   "metadata": {
    "colab": {},
    "colab_type": "code",
    "id": "tNRUKg1CpCCX"
   },
   "outputs": [
    {
     "data": {
      "text/plain": [
       "0.952327936"
      ]
     },
     "execution_count": 8,
     "metadata": {},
     "output_type": "execute_result"
    }
   ],
   "source": [
    "stats.binom.sf(1,n,p)"
   ]
  },
  {
   "cell_type": "markdown",
   "metadata": {
    "colab_type": "text",
    "id": "UmWVUT1TpCCe"
   },
   "source": [
    "#### d) what is the mean and standard deviation of the orders filled correctly?\n",
    "--------------"
   ]
  },
  {
   "cell_type": "code",
   "execution_count": 13,
   "metadata": {
    "colab": {},
    "colab_type": "code",
    "id": "I-3gJrpGpCCf"
   },
   "outputs": [
    {
     "data": {
      "text/plain": [
       "2.604"
      ]
     },
     "execution_count": 13,
     "metadata": {},
     "output_type": "execute_result"
    }
   ],
   "source": [
    "# mean\n",
    "n*p"
   ]
  },
  {
   "cell_type": "code",
   "execution_count": 5,
   "metadata": {},
   "outputs": [
    {
     "data": {
      "text/plain": [
       "0.5862832080146932"
      ]
     },
     "execution_count": 5,
     "metadata": {},
     "output_type": "execute_result"
    }
   ],
   "source": [
    "# STD\n",
    "(n*p*(1-p))**0.5"
   ]
  },
  {
   "cell_type": "markdown",
   "metadata": {
    "colab_type": "text",
    "id": "6ciEB5OQpCCn"
   },
   "source": [
    "## Poisson distribution"
   ]
  },
  {
   "cell_type": "markdown",
   "metadata": {
    "colab_type": "text",
    "id": "7lm3mIO2pCCo"
   },
   "source": [
    "#### 2. **Problem:** A Life Insurance agent sells on the average 3 life insurance policies per week. \n",
    "Use the Poisson law to calculate the probability that in a given week, he will sell\n",
    "\n",
    "a) Some policies\n",
    "\n",
    "b) 2 or more but less than 5 policies?\n",
    "\n"
   ]
  },
  {
   "cell_type": "code",
   "execution_count": 6,
   "metadata": {
    "colab": {},
    "colab_type": "code",
    "id": "i8-hVUvupCCu"
   },
   "outputs": [
    {
     "data": {
      "text/plain": [
       "0.950212931632136"
      ]
     },
     "execution_count": 6,
     "metadata": {},
     "output_type": "execute_result"
    }
   ],
   "source": [
    "lam = 3\n",
    "#a\n",
    "\n",
    "stats.poisson.sf(0,lam)"
   ]
  },
  {
   "cell_type": "code",
   "execution_count": 7,
   "metadata": {},
   "outputs": [
    {
     "data": {
      "text/plain": [
       "0.6161149710523164"
      ]
     },
     "execution_count": 7,
     "metadata": {},
     "output_type": "execute_result"
    }
   ],
   "source": [
    "# b \n",
    "\n",
    "r1 = 2\n",
    "r2 = 4\n",
    "\n",
    "stats.poisson.cdf(r2,3)-stats.poisson.cdf(r1-1,3)"
   ]
  },
  {
   "cell_type": "markdown",
   "metadata": {
    "colab_type": "text",
    "id": "jMZkSyJ6pCCt"
   },
   "source": [
    "#### a) Probability that the agent sells some policies?\n",
    "-----------"
   ]
  },
  {
   "cell_type": "markdown",
   "metadata": {
    "colab_type": "text",
    "id": "6-SuVYtMpCC9"
   },
   "source": [
    "## Normal Distribution"
   ]
  },
  {
   "cell_type": "markdown",
   "metadata": {
    "colab_type": "text",
    "id": "Iq0tQk8npCC-"
   },
   "source": [
    "**Problem:** The mean salaries of Data Scientists working in Chennai, India is calculated to be 7,00,000 INR with a standard deviation of 90,000 INR. The random variable salary of Data Scientists follows a normal distribution.\n",
    "\n",
    "\n",
    "-----------------\n",
    "\n",
    "* a) What is the probability that a Data Scientist in Chennai has a salary more than 10,00,000 INR?\n",
    "* b) What is the probability that a Data Scientist in Chennai has a salary between 6,00,000 & 9,00,000 INR?\n",
    "* c) What is the probability that a Data Scientist in Chennai has a salary less than 4,00,000 INR?"
   ]
  },
  {
   "cell_type": "code",
   "execution_count": 8,
   "metadata": {
    "colab": {},
    "colab_type": "code",
    "id": "dFcnbUpDpCDA"
   },
   "outputs": [],
   "source": [
    "mu = 700000 \n",
    "sigma = 90000"
   ]
  },
  {
   "cell_type": "markdown",
   "metadata": {
    "colab_type": "text",
    "id": "z7fk54BnpCC_"
   },
   "source": [
    "#### a) What is the probability that a Data Scientist in Chennai has a salary more than 10,00,000 INR?\n",
    "------------"
   ]
  },
  {
   "cell_type": "code",
   "execution_count": 9,
   "metadata": {},
   "outputs": [
    {
     "name": "stdout",
     "output_type": "stream",
     "text": [
      "3.3333333333333335\n",
      "pval 0.0004290603331968372\n"
     ]
    }
   ],
   "source": [
    "x = 1000000\n",
    "z = (x-mu)/sigma \n",
    "print(z)\n",
    "print('pval',stats.norm.sf(z))"
   ]
  },
  {
   "cell_type": "markdown",
   "metadata": {
    "colab_type": "text",
    "id": "GQuO5dvdpCDD"
   },
   "source": [
    "#### b) What is the probability that a Data Scientist in Chennai has a salary between 6,00,000 & 9,00,000 INR?\n",
    "-----------------"
   ]
  },
  {
   "cell_type": "code",
   "execution_count": 10,
   "metadata": {
    "colab": {},
    "colab_type": "code",
    "id": "zdN6eBPYpCDE"
   },
   "outputs": [
    {
     "name": "stdout",
     "output_type": "stream",
     "text": [
      "-1.1111111111111112 2.2222222222222223\n",
      "pval 0.8536055914064735\n"
     ]
    }
   ],
   "source": [
    "x1 = 600000\n",
    "x2 = 900000\n",
    "z1 = (x1-mu)/sigma\n",
    "z2 = (x2-mu)/sigma\n",
    "print(z1,z2)\n",
    "print('pval',stats.norm.cdf(z2)-stats.norm.cdf(z1))"
   ]
  },
  {
   "cell_type": "markdown",
   "metadata": {
    "colab_type": "text",
    "id": "m6u51gpnpCDH"
   },
   "source": [
    "#### c) What is the probability that a Data Scientist in Chennai has a salary less than 4,00,000 INR?\n"
   ]
  },
  {
   "cell_type": "code",
   "execution_count": 11,
   "metadata": {
    "colab": {},
    "colab_type": "code",
    "id": "g5Mnb73kpCDI"
   },
   "outputs": [
    {
     "name": "stdout",
     "output_type": "stream",
     "text": [
      "-3.3333333333333335\n",
      "pval 0.0004290603331968372\n"
     ]
    }
   ],
   "source": [
    "x = 400000\n",
    "z = (x-mu)/sigma\n",
    "print(z)\n",
    "print('pval',stats.norm.cdf(z))"
   ]
  },
  {
   "cell_type": "markdown",
   "metadata": {},
   "source": [
    "# Sampling"
   ]
  },
  {
   "cell_type": "markdown",
   "metadata": {},
   "source": [
    "**1. A farmer has planted 98 tomato plants last year. He has numbered each plant with numbers 1,2,...98. Now he wants to study the growth of the plants. Help the farmer to select 12 plants randomly as a sample for the study using an appropriate sampling technique.**\n",
    "\n",
    "**i) With replacement**\n",
    "\n",
    "**ii) without replacement**\n"
   ]
  },
  {
   "cell_type": "code",
   "execution_count": 12,
   "metadata": {},
   "outputs": [],
   "source": [
    "data=np.arange(1,98,1)"
   ]
  },
  {
   "cell_type": "code",
   "execution_count": 13,
   "metadata": {},
   "outputs": [
    {
     "data": {
      "text/plain": [
       "array([30, 92, 31, 46, 86, 42, 54, 49, 93,  1, 58, 61])"
      ]
     },
     "execution_count": 13,
     "metadata": {},
     "output_type": "execute_result"
    }
   ],
   "source": [
    "# i) \n",
    "\n",
    "np.random.choice(data,size=12,replace=True)"
   ]
  },
  {
   "cell_type": "code",
   "execution_count": 14,
   "metadata": {},
   "outputs": [
    {
     "data": {
      "text/plain": [
       "array([ 2, 80, 65, 90, 57, 64, 42, 21,  3, 34, 63, 53])"
      ]
     },
     "execution_count": 14,
     "metadata": {},
     "output_type": "execute_result"
    }
   ],
   "source": [
    "# ii) \n",
    "\n",
    "np.random.choice(data,size=12,replace = False)"
   ]
  },
  {
   "cell_type": "markdown",
   "metadata": {},
   "source": [
    "### Perform Central Limit Theorem on Left Skewed data"
   ]
  },
  {
   "cell_type": "code",
   "execution_count": 15,
   "metadata": {},
   "outputs": [],
   "source": [
    "# from scipy.stats import skewnorm\n",
    "# import seaborn as sns\n",
    "# lskew_population = skewnorm.rvs(-20, size=10000, random_state = 1)\n",
    "\n"
   ]
  },
  {
   "cell_type": "code",
   "execution_count": 16,
   "metadata": {},
   "outputs": [],
   "source": [
    "# type code here"
   ]
  },
  {
   "cell_type": "code",
   "execution_count": null,
   "metadata": {},
   "outputs": [],
   "source": []
  }
 ],
 "metadata": {
  "colab": {
   "name": "Inclass-Lab-Day1-Questions.ipynb",
   "provenance": []
  },
  "kernelspec": {
   "display_name": "Python 3",
   "language": "python",
   "name": "python3"
  },
  "language_info": {
   "codemirror_mode": {
    "name": "ipython",
    "version": 3
   },
   "file_extension": ".py",
   "mimetype": "text/x-python",
   "name": "python",
   "nbconvert_exporter": "python",
   "pygments_lexer": "ipython3",
   "version": "3.8.5"
  }
 },
 "nbformat": 4,
 "nbformat_minor": 1
}
