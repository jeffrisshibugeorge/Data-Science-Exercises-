{
 "cells": [
  {
   "cell_type": "markdown",
   "metadata": {
    "id": "j8mRQmWr7Z2s"
   },
   "source": [
    "# USL MID EXAM"
   ]
  },
  {
   "cell_type": "markdown",
   "metadata": {
    "id": "GH-vv_Il2OsK"
   },
   "source": [
    "##### DATA SET DESCRIPTION : \n",
    "\n",
    "\n",
    "The Avila data set has been extracted from 800 images of the the \"Avila Bible\", a giant Latin copy of the whole Bible produced during the XII century between Italy and Spain.  \n",
    "The palaeographic analysis of the manuscript has individuated the presence of 12 copyists. The pages written by each copyist are not equally numerous. \n",
    "Each pattern contains 10 features and corresponds to a group of 4 consecutive rows.\n",
    "\n",
    "The prediction task consists in associating each pattern to one of the 12 copyists (labeled as: A, B, C, D, E, F, G, H, I, W, X, Y). The data have has been normalized, by using the Z-normalization method.\n",
    "\n",
    "Drop the labeled(Class) column from the dataset for the clustering purpose. If required used the label column for cluster quality evaluation purpose.\n"
   ]
  },
  {
   "cell_type": "markdown",
   "metadata": {
    "id": "NXHSpx3w2OsK"
   },
   "source": [
    "\n",
    "* F1\t=intercolumnar distance\n",
    "* F2=\tupper margin\n",
    "* F3\t=lower margin\n",
    "* F4\t=exploitation\n",
    "* F5\t=row number\n",
    "* F6\t=modular ratio\n",
    "* F7\t=interlinear spacing\n",
    "* F8\t=weight\n",
    "* F9\t=peak number\n",
    "* F10\t=modular ratio/ interlinear spacing\n",
    "* Class=\tA, B, C, D, E, F, G, H, I, W, X, Y\n"
   ]
  },
  {
   "cell_type": "code",
   "execution_count": null,
   "metadata": {
    "id": "QRDp2ngTqriF"
   },
   "outputs": [],
   "source": [
    "# Kindly change the below cells from markdown to code and execute it "
   ]
  },
  {
   "cell_type": "markdown",
   "metadata": {
    "id": "LalRSDxV4vhC"
   },
   "source": [
    "### 1. Data Understanding (8 marks)\n",
    "\n",
    "#### a. Read the dataset (tab, csv, xls, txt, inbuilt dataset). What are the number of rows and no. of cols\n",
    "& types of variables (continuous, categorical etc.)? (1 MARK)\n",
    "\n"
   ]
  },
  {
   "cell_type": "code",
   "execution_count": 2,
   "metadata": {
    "id": "1rpTQ1i57Z27"
   },
   "outputs": [
    {
     "data": {
      "text/html": [
       "<div>\n",
       "<style scoped>\n",
       "    .dataframe tbody tr th:only-of-type {\n",
       "        vertical-align: middle;\n",
       "    }\n",
       "\n",
       "    .dataframe tbody tr th {\n",
       "        vertical-align: top;\n",
       "    }\n",
       "\n",
       "    .dataframe thead th {\n",
       "        text-align: right;\n",
       "    }\n",
       "</style>\n",
       "<table border=\"1\" class=\"dataframe\">\n",
       "  <thead>\n",
       "    <tr style=\"text-align: right;\">\n",
       "      <th></th>\n",
       "      <th>F1</th>\n",
       "      <th>F2</th>\n",
       "      <th>F3</th>\n",
       "      <th>F4</th>\n",
       "      <th>F5</th>\n",
       "      <th>F6</th>\n",
       "      <th>F7</th>\n",
       "      <th>F8</th>\n",
       "      <th>F9</th>\n",
       "      <th>F10</th>\n",
       "      <th>Target</th>\n",
       "    </tr>\n",
       "  </thead>\n",
       "  <tbody>\n",
       "    <tr>\n",
       "      <td>0</td>\n",
       "      <td>0.266074</td>\n",
       "      <td>-0.165620</td>\n",
       "      <td>0.320980</td>\n",
       "      <td>0.483299</td>\n",
       "      <td>0.172340</td>\n",
       "      <td>0.273364</td>\n",
       "      <td>0.371178</td>\n",
       "      <td>0.929823</td>\n",
       "      <td>0.251173</td>\n",
       "      <td>0.159345</td>\n",
       "      <td>A</td>\n",
       "    </tr>\n",
       "    <tr>\n",
       "      <td>1</td>\n",
       "      <td>0.130292</td>\n",
       "      <td>0.870736</td>\n",
       "      <td>-3.210528</td>\n",
       "      <td>0.062493</td>\n",
       "      <td>0.261718</td>\n",
       "      <td>1.436060</td>\n",
       "      <td>1.465940</td>\n",
       "      <td>0.636203</td>\n",
       "      <td>0.282354</td>\n",
       "      <td>0.515587</td>\n",
       "      <td>A</td>\n",
       "    </tr>\n",
       "    <tr>\n",
       "      <td>2</td>\n",
       "      <td>-0.116585</td>\n",
       "      <td>0.069915</td>\n",
       "      <td>0.068476</td>\n",
       "      <td>-0.783147</td>\n",
       "      <td>0.261718</td>\n",
       "      <td>0.439463</td>\n",
       "      <td>-0.081827</td>\n",
       "      <td>-0.888236</td>\n",
       "      <td>-0.123005</td>\n",
       "      <td>0.582939</td>\n",
       "      <td>A</td>\n",
       "    </tr>\n",
       "    <tr>\n",
       "      <td>3</td>\n",
       "      <td>0.031541</td>\n",
       "      <td>0.297600</td>\n",
       "      <td>-3.210528</td>\n",
       "      <td>-0.583590</td>\n",
       "      <td>-0.721442</td>\n",
       "      <td>-0.307984</td>\n",
       "      <td>0.710932</td>\n",
       "      <td>1.051693</td>\n",
       "      <td>0.594169</td>\n",
       "      <td>-0.533994</td>\n",
       "      <td>A</td>\n",
       "    </tr>\n",
       "    <tr>\n",
       "      <td>4</td>\n",
       "      <td>0.229043</td>\n",
       "      <td>0.807926</td>\n",
       "      <td>-0.052442</td>\n",
       "      <td>0.082634</td>\n",
       "      <td>0.261718</td>\n",
       "      <td>0.148790</td>\n",
       "      <td>0.635431</td>\n",
       "      <td>0.051062</td>\n",
       "      <td>0.032902</td>\n",
       "      <td>-0.086652</td>\n",
       "      <td>F</td>\n",
       "    </tr>\n",
       "  </tbody>\n",
       "</table>\n",
       "</div>"
      ],
      "text/plain": [
       "         F1        F2        F3        F4        F5        F6        F7  \\\n",
       "0  0.266074 -0.165620  0.320980  0.483299  0.172340  0.273364  0.371178   \n",
       "1  0.130292  0.870736 -3.210528  0.062493  0.261718  1.436060  1.465940   \n",
       "2 -0.116585  0.069915  0.068476 -0.783147  0.261718  0.439463 -0.081827   \n",
       "3  0.031541  0.297600 -3.210528 -0.583590 -0.721442 -0.307984  0.710932   \n",
       "4  0.229043  0.807926 -0.052442  0.082634  0.261718  0.148790  0.635431   \n",
       "\n",
       "         F8        F9       F10 Target  \n",
       "0  0.929823  0.251173  0.159345      A  \n",
       "1  0.636203  0.282354  0.515587      A  \n",
       "2 -0.888236 -0.123005  0.582939      A  \n",
       "3  1.051693  0.594169 -0.533994      A  \n",
       "4  0.051062  0.032902 -0.086652      F  "
      ]
     },
     "execution_count": 2,
     "metadata": {},
     "output_type": "execute_result"
    }
   ],
   "source": [
    "#Reading Dataset\n",
    "import pandas as pd\n",
    "df=pd.read_csv('avila.csv')\n",
    "df.head()"
   ]
  },
  {
   "cell_type": "code",
   "execution_count": 4,
   "metadata": {
    "id": "FQ-SHX_E8CNX"
   },
   "outputs": [
    {
     "name": "stdout",
     "output_type": "stream",
     "text": [
      "NUmber of rows:  10430\n",
      "NUmber of columns:  11\n"
     ]
    }
   ],
   "source": [
    "#NO.rows and cols\n",
    "print('NUmber of rows: ', df.shape[0])\n",
    "print('NUmber of columns: ', df.shape[1])"
   ]
  },
  {
   "cell_type": "code",
   "execution_count": 5,
   "metadata": {},
   "outputs": [
    {
     "name": "stdout",
     "output_type": "stream",
     "text": [
      "<class 'pandas.core.frame.DataFrame'>\n",
      "RangeIndex: 10430 entries, 0 to 10429\n",
      "Data columns (total 11 columns):\n",
      "F1        10430 non-null float64\n",
      "F2        10430 non-null float64\n",
      "F3        10430 non-null float64\n",
      "F4        10430 non-null float64\n",
      "F5        10430 non-null float64\n",
      "F6        10430 non-null float64\n",
      "F7        10430 non-null float64\n",
      "F8        10430 non-null float64\n",
      "F9        10430 non-null float64\n",
      "F10       10430 non-null float64\n",
      "Target    10430 non-null object\n",
      "dtypes: float64(10), object(1)\n",
      "memory usage: 896.5+ KB\n"
     ]
    }
   ],
   "source": [
    "#dtypes\n",
    "df.info()"
   ]
  },
  {
   "cell_type": "markdown",
   "metadata": {
    "id": "lpBTYvw28Ezi"
   },
   "source": [
    "#### b Calculate five-point summary for numerical variables (1 MARK) "
   ]
  },
  {
   "cell_type": "code",
   "execution_count": 6,
   "metadata": {
    "id": "TqW5T1K67Z3I"
   },
   "outputs": [
    {
     "data": {
      "text/html": [
       "<div>\n",
       "<style scoped>\n",
       "    .dataframe tbody tr th:only-of-type {\n",
       "        vertical-align: middle;\n",
       "    }\n",
       "\n",
       "    .dataframe tbody tr th {\n",
       "        vertical-align: top;\n",
       "    }\n",
       "\n",
       "    .dataframe thead th {\n",
       "        text-align: right;\n",
       "    }\n",
       "</style>\n",
       "<table border=\"1\" class=\"dataframe\">\n",
       "  <thead>\n",
       "    <tr style=\"text-align: right;\">\n",
       "      <th></th>\n",
       "      <th>F1</th>\n",
       "      <th>F2</th>\n",
       "      <th>F3</th>\n",
       "      <th>F4</th>\n",
       "      <th>F5</th>\n",
       "      <th>F6</th>\n",
       "      <th>F7</th>\n",
       "      <th>F8</th>\n",
       "      <th>F9</th>\n",
       "      <th>F10</th>\n",
       "    </tr>\n",
       "  </thead>\n",
       "  <tbody>\n",
       "    <tr>\n",
       "      <td>count</td>\n",
       "      <td>10430.000000</td>\n",
       "      <td>10430.000000</td>\n",
       "      <td>10430.000000</td>\n",
       "      <td>10430.000000</td>\n",
       "      <td>10430.000000</td>\n",
       "      <td>10430.000000</td>\n",
       "      <td>10430.000000</td>\n",
       "      <td>10430.000000</td>\n",
       "      <td>10430.000000</td>\n",
       "      <td>10430.000000</td>\n",
       "    </tr>\n",
       "    <tr>\n",
       "      <td>mean</td>\n",
       "      <td>0.000852</td>\n",
       "      <td>0.033611</td>\n",
       "      <td>-0.000525</td>\n",
       "      <td>-0.002387</td>\n",
       "      <td>0.006370</td>\n",
       "      <td>0.013973</td>\n",
       "      <td>0.005605</td>\n",
       "      <td>0.010323</td>\n",
       "      <td>0.012914</td>\n",
       "      <td>0.000818</td>\n",
       "    </tr>\n",
       "    <tr>\n",
       "      <td>std</td>\n",
       "      <td>0.991431</td>\n",
       "      <td>3.920868</td>\n",
       "      <td>1.120202</td>\n",
       "      <td>1.008527</td>\n",
       "      <td>0.992053</td>\n",
       "      <td>1.126245</td>\n",
       "      <td>1.313754</td>\n",
       "      <td>1.003507</td>\n",
       "      <td>1.087665</td>\n",
       "      <td>1.007094</td>\n",
       "    </tr>\n",
       "    <tr>\n",
       "      <td>min</td>\n",
       "      <td>-3.498799</td>\n",
       "      <td>-2.426761</td>\n",
       "      <td>-3.210528</td>\n",
       "      <td>-5.440122</td>\n",
       "      <td>-4.922215</td>\n",
       "      <td>-7.450257</td>\n",
       "      <td>-11.935457</td>\n",
       "      <td>-4.247781</td>\n",
       "      <td>-5.486218</td>\n",
       "      <td>-6.719324</td>\n",
       "    </tr>\n",
       "    <tr>\n",
       "      <td>25%</td>\n",
       "      <td>-0.128929</td>\n",
       "      <td>-0.259834</td>\n",
       "      <td>0.064919</td>\n",
       "      <td>-0.528002</td>\n",
       "      <td>0.172340</td>\n",
       "      <td>-0.598658</td>\n",
       "      <td>-0.044076</td>\n",
       "      <td>-0.541992</td>\n",
       "      <td>-0.372457</td>\n",
       "      <td>-0.516097</td>\n",
       "    </tr>\n",
       "    <tr>\n",
       "      <td>50%</td>\n",
       "      <td>0.043885</td>\n",
       "      <td>-0.055704</td>\n",
       "      <td>0.217845</td>\n",
       "      <td>0.095763</td>\n",
       "      <td>0.261718</td>\n",
       "      <td>-0.058835</td>\n",
       "      <td>0.220177</td>\n",
       "      <td>0.111803</td>\n",
       "      <td>0.064084</td>\n",
       "      <td>-0.034513</td>\n",
       "    </tr>\n",
       "    <tr>\n",
       "      <td>75%</td>\n",
       "      <td>0.204355</td>\n",
       "      <td>0.203385</td>\n",
       "      <td>0.352988</td>\n",
       "      <td>0.658210</td>\n",
       "      <td>0.261718</td>\n",
       "      <td>0.564038</td>\n",
       "      <td>0.446679</td>\n",
       "      <td>0.654944</td>\n",
       "      <td>0.500624</td>\n",
       "      <td>0.530855</td>\n",
       "    </tr>\n",
       "    <tr>\n",
       "      <td>max</td>\n",
       "      <td>11.819916</td>\n",
       "      <td>386.000000</td>\n",
       "      <td>50.000000</td>\n",
       "      <td>3.987152</td>\n",
       "      <td>1.066121</td>\n",
       "      <td>53.000000</td>\n",
       "      <td>83.000000</td>\n",
       "      <td>13.173081</td>\n",
       "      <td>44.000000</td>\n",
       "      <td>4.671232</td>\n",
       "    </tr>\n",
       "  </tbody>\n",
       "</table>\n",
       "</div>"
      ],
      "text/plain": [
       "                 F1            F2            F3            F4            F5  \\\n",
       "count  10430.000000  10430.000000  10430.000000  10430.000000  10430.000000   \n",
       "mean       0.000852      0.033611     -0.000525     -0.002387      0.006370   \n",
       "std        0.991431      3.920868      1.120202      1.008527      0.992053   \n",
       "min       -3.498799     -2.426761     -3.210528     -5.440122     -4.922215   \n",
       "25%       -0.128929     -0.259834      0.064919     -0.528002      0.172340   \n",
       "50%        0.043885     -0.055704      0.217845      0.095763      0.261718   \n",
       "75%        0.204355      0.203385      0.352988      0.658210      0.261718   \n",
       "max       11.819916    386.000000     50.000000      3.987152      1.066121   \n",
       "\n",
       "                 F6            F7            F8            F9           F10  \n",
       "count  10430.000000  10430.000000  10430.000000  10430.000000  10430.000000  \n",
       "mean       0.013973      0.005605      0.010323      0.012914      0.000818  \n",
       "std        1.126245      1.313754      1.003507      1.087665      1.007094  \n",
       "min       -7.450257    -11.935457     -4.247781     -5.486218     -6.719324  \n",
       "25%       -0.598658     -0.044076     -0.541992     -0.372457     -0.516097  \n",
       "50%       -0.058835      0.220177      0.111803      0.064084     -0.034513  \n",
       "75%        0.564038      0.446679      0.654944      0.500624      0.530855  \n",
       "max       53.000000     83.000000     13.173081     44.000000      4.671232  "
      ]
     },
     "execution_count": 6,
     "metadata": {},
     "output_type": "execute_result"
    }
   ],
   "source": [
    "df.describe()"
   ]
  },
  {
   "cell_type": "markdown",
   "metadata": {
    "id": "jffujtLi8M_u"
   },
   "source": [
    "#### c. Summarize observations for categorical variables – no. of categories, % observations in each category.  (2 MARKS)"
   ]
  },
  {
   "cell_type": "code",
   "execution_count": 9,
   "metadata": {},
   "outputs": [
    {
     "data": {
      "text/plain": [
       "12"
      ]
     },
     "execution_count": 9,
     "metadata": {},
     "output_type": "execute_result"
    }
   ],
   "source": [
    "df['Target'].nunique()"
   ]
  },
  {
   "cell_type": "code",
   "execution_count": 7,
   "metadata": {
    "id": "vs6E7aU07Z3T"
   },
   "outputs": [
    {
     "data": {
      "text/plain": [
       "A    41.093001\n",
       "F    18.801534\n",
       "E    10.498562\n",
       "I     7.967402\n",
       "X     5.004794\n",
       "H     4.976031\n",
       "G     4.276127\n",
       "D     3.374880\n",
       "Y     2.550336\n",
       "C     0.987536\n",
       "W     0.421860\n",
       "B     0.047939\n",
       "Name: Target, dtype: float64"
      ]
     },
     "execution_count": 7,
     "metadata": {},
     "output_type": "execute_result"
    }
   ],
   "source": [
    "df['Target'].value_counts(normalize=True)*100"
   ]
  },
  {
   "cell_type": "markdown",
   "metadata": {
    "id": "oc9ljItS7Z3Y"
   },
   "source": [
    "#### d. Generate the covariance and correlation tables for the data (2 MARKS)"
   ]
  },
  {
   "cell_type": "code",
   "execution_count": 12,
   "metadata": {
    "id": "FG1TlcH97Z3Z",
    "scrolled": false
   },
   "outputs": [
    {
     "data": {
      "text/html": [
       "<div>\n",
       "<style scoped>\n",
       "    .dataframe tbody tr th:only-of-type {\n",
       "        vertical-align: middle;\n",
       "    }\n",
       "\n",
       "    .dataframe tbody tr th {\n",
       "        vertical-align: top;\n",
       "    }\n",
       "\n",
       "    .dataframe thead th {\n",
       "        text-align: right;\n",
       "    }\n",
       "</style>\n",
       "<table border=\"1\" class=\"dataframe\">\n",
       "  <thead>\n",
       "    <tr style=\"text-align: right;\">\n",
       "      <th></th>\n",
       "      <th>F1</th>\n",
       "      <th>F2</th>\n",
       "      <th>F3</th>\n",
       "      <th>F4</th>\n",
       "      <th>F5</th>\n",
       "      <th>F6</th>\n",
       "      <th>F7</th>\n",
       "      <th>F8</th>\n",
       "      <th>F9</th>\n",
       "      <th>F10</th>\n",
       "    </tr>\n",
       "  </thead>\n",
       "  <tbody>\n",
       "    <tr>\n",
       "      <td>0</td>\n",
       "      <td>0.266074</td>\n",
       "      <td>-0.165620</td>\n",
       "      <td>0.320980</td>\n",
       "      <td>0.483299</td>\n",
       "      <td>0.172340</td>\n",
       "      <td>0.273364</td>\n",
       "      <td>0.371178</td>\n",
       "      <td>0.929823</td>\n",
       "      <td>0.251173</td>\n",
       "      <td>0.159345</td>\n",
       "    </tr>\n",
       "    <tr>\n",
       "      <td>1</td>\n",
       "      <td>0.130292</td>\n",
       "      <td>0.870736</td>\n",
       "      <td>-3.210528</td>\n",
       "      <td>0.062493</td>\n",
       "      <td>0.261718</td>\n",
       "      <td>1.436060</td>\n",
       "      <td>1.465940</td>\n",
       "      <td>0.636203</td>\n",
       "      <td>0.282354</td>\n",
       "      <td>0.515587</td>\n",
       "    </tr>\n",
       "    <tr>\n",
       "      <td>2</td>\n",
       "      <td>-0.116585</td>\n",
       "      <td>0.069915</td>\n",
       "      <td>0.068476</td>\n",
       "      <td>-0.783147</td>\n",
       "      <td>0.261718</td>\n",
       "      <td>0.439463</td>\n",
       "      <td>-0.081827</td>\n",
       "      <td>-0.888236</td>\n",
       "      <td>-0.123005</td>\n",
       "      <td>0.582939</td>\n",
       "    </tr>\n",
       "    <tr>\n",
       "      <td>3</td>\n",
       "      <td>0.031541</td>\n",
       "      <td>0.297600</td>\n",
       "      <td>-3.210528</td>\n",
       "      <td>-0.583590</td>\n",
       "      <td>-0.721442</td>\n",
       "      <td>-0.307984</td>\n",
       "      <td>0.710932</td>\n",
       "      <td>1.051693</td>\n",
       "      <td>0.594169</td>\n",
       "      <td>-0.533994</td>\n",
       "    </tr>\n",
       "    <tr>\n",
       "      <td>4</td>\n",
       "      <td>0.229043</td>\n",
       "      <td>0.807926</td>\n",
       "      <td>-0.052442</td>\n",
       "      <td>0.082634</td>\n",
       "      <td>0.261718</td>\n",
       "      <td>0.148790</td>\n",
       "      <td>0.635431</td>\n",
       "      <td>0.051062</td>\n",
       "      <td>0.032902</td>\n",
       "      <td>-0.086652</td>\n",
       "    </tr>\n",
       "  </tbody>\n",
       "</table>\n",
       "</div>"
      ],
      "text/plain": [
       "         F1        F2        F3        F4        F5        F6        F7  \\\n",
       "0  0.266074 -0.165620  0.320980  0.483299  0.172340  0.273364  0.371178   \n",
       "1  0.130292  0.870736 -3.210528  0.062493  0.261718  1.436060  1.465940   \n",
       "2 -0.116585  0.069915  0.068476 -0.783147  0.261718  0.439463 -0.081827   \n",
       "3  0.031541  0.297600 -3.210528 -0.583590 -0.721442 -0.307984  0.710932   \n",
       "4  0.229043  0.807926 -0.052442  0.082634  0.261718  0.148790  0.635431   \n",
       "\n",
       "         F8        F9       F10  \n",
       "0  0.929823  0.251173  0.159345  \n",
       "1  0.636203  0.282354  0.515587  \n",
       "2 -0.888236 -0.123005  0.582939  \n",
       "3  1.051693  0.594169 -0.533994  \n",
       "4  0.051062  0.032902 -0.086652  "
      ]
     },
     "execution_count": 12,
     "metadata": {},
     "output_type": "execute_result"
    }
   ],
   "source": [
    "df1=df.drop('Target',1)\n",
    "df1.head()"
   ]
  },
  {
   "cell_type": "code",
   "execution_count": 13,
   "metadata": {},
   "outputs": [],
   "source": [
    "import numpy as np"
   ]
  },
  {
   "cell_type": "code",
   "execution_count": 16,
   "metadata": {},
   "outputs": [],
   "source": [
    "\n",
    "cov_mat=np.cov(df1.T)"
   ]
  },
  {
   "cell_type": "code",
   "execution_count": 17,
   "metadata": {},
   "outputs": [
    {
     "data": {
      "text/plain": [
       "array([[ 9.82936083e-01, -1.46072935e-01,  3.82860035e-02,\n",
       "        -6.53302292e-02,  4.44532339e-01, -4.98709486e-02,\n",
       "        -1.52745907e-03, -4.31152501e-02,  6.40827002e-02,\n",
       "        -2.83461326e-03],\n",
       "       [-1.46072935e-01,  1.53732095e+01,  1.82089653e+00,\n",
       "         8.01035435e-03, -2.63562111e-01,  1.87402178e+00,\n",
       "         3.00019525e+00,  1.62211915e-01,  1.48839141e+00,\n",
       "        -9.79663072e-02],\n",
       "       [ 3.82860035e-02,  1.82089653e+00,  1.25485248e+00,\n",
       "         1.62241911e-01,  1.25938552e-02,  1.67446578e-01,\n",
       "         4.25555094e-01,  3.93105758e-02,  2.35387950e-01,\n",
       "        -5.12087311e-02],\n",
       "       [-6.53302292e-02,  8.01035435e-03,  1.62241911e-01,\n",
       "         1.01712585e+00,  9.64749381e-02,  2.92624860e-01,\n",
       "         5.81860867e-02,  3.43059625e-01,  3.08502167e-01,\n",
       "         3.28994543e-01],\n",
       "       [ 4.44532339e-01, -2.63562111e-01,  1.25938552e-02,\n",
       "         9.64749381e-02,  9.84169786e-01,  4.44949697e-02,\n",
       "         3.44688927e-02, -7.09016702e-02,  2.96604895e-01,\n",
       "         1.51451842e-01],\n",
       "       [-4.98709486e-02,  1.87402178e+00,  1.67446578e-01,\n",
       "         2.92624860e-01,  4.44949697e-02,  1.26842803e+00,\n",
       "         6.84868840e-01, -6.73907425e-02,  2.62398837e-01,\n",
       "         8.57472772e-01],\n",
       "       [-1.52745907e-03,  3.00019525e+00,  4.25555094e-01,\n",
       "         5.81860867e-02,  3.44688927e-02,  6.84868840e-01,\n",
       "         1.72595032e+00,  3.22207742e-03,  3.89321775e-01,\n",
       "         3.47988393e-01],\n",
       "       [-4.31152501e-02,  1.62211915e-01,  3.93105758e-02,\n",
       "         3.43059625e-01, -7.09016702e-02, -6.73907425e-02,\n",
       "         3.22207742e-03,  1.00702647e+00,  5.32143189e-01,\n",
       "        -1.62158112e-02],\n",
       "       [ 6.40827002e-02,  1.48839141e+00,  2.35387950e-01,\n",
       "         3.08502167e-01,  2.96604895e-01,  2.62398837e-01,\n",
       "         3.89321775e-01,  5.32143189e-01,  1.18301620e+00,\n",
       "         2.03988996e-01],\n",
       "       [-2.83461326e-03, -9.79663072e-02, -5.12087311e-02,\n",
       "         3.28994543e-01,  1.51451842e-01,  8.57472772e-01,\n",
       "         3.47988393e-01, -1.62158112e-02,  2.03988996e-01,\n",
       "         1.01423822e+00]])"
      ]
     },
     "execution_count": 17,
     "metadata": {},
     "output_type": "execute_result"
    }
   ],
   "source": [
    "cov_mat"
   ]
  },
  {
   "cell_type": "code",
   "execution_count": 18,
   "metadata": {},
   "outputs": [
    {
     "data": {
      "text/html": [
       "<div>\n",
       "<style scoped>\n",
       "    .dataframe tbody tr th:only-of-type {\n",
       "        vertical-align: middle;\n",
       "    }\n",
       "\n",
       "    .dataframe tbody tr th {\n",
       "        vertical-align: top;\n",
       "    }\n",
       "\n",
       "    .dataframe thead th {\n",
       "        text-align: right;\n",
       "    }\n",
       "</style>\n",
       "<table border=\"1\" class=\"dataframe\">\n",
       "  <thead>\n",
       "    <tr style=\"text-align: right;\">\n",
       "      <th></th>\n",
       "      <th>F1</th>\n",
       "      <th>F2</th>\n",
       "      <th>F3</th>\n",
       "      <th>F4</th>\n",
       "      <th>F5</th>\n",
       "      <th>F6</th>\n",
       "      <th>F7</th>\n",
       "      <th>F8</th>\n",
       "      <th>F9</th>\n",
       "      <th>F10</th>\n",
       "    </tr>\n",
       "  </thead>\n",
       "  <tbody>\n",
       "    <tr>\n",
       "      <td>F1</td>\n",
       "      <td>1.000000</td>\n",
       "      <td>-0.037577</td>\n",
       "      <td>0.034473</td>\n",
       "      <td>-0.065338</td>\n",
       "      <td>0.451966</td>\n",
       "      <td>-0.044663</td>\n",
       "      <td>-0.001173</td>\n",
       "      <td>-0.043336</td>\n",
       "      <td>0.059427</td>\n",
       "      <td>-0.002839</td>\n",
       "    </tr>\n",
       "    <tr>\n",
       "      <td>F2</td>\n",
       "      <td>-0.037577</td>\n",
       "      <td>1.000000</td>\n",
       "      <td>0.414578</td>\n",
       "      <td>0.002026</td>\n",
       "      <td>-0.067759</td>\n",
       "      <td>0.424384</td>\n",
       "      <td>0.582443</td>\n",
       "      <td>0.041227</td>\n",
       "      <td>0.349011</td>\n",
       "      <td>-0.024810</td>\n",
       "    </tr>\n",
       "    <tr>\n",
       "      <td>F3</td>\n",
       "      <td>0.034473</td>\n",
       "      <td>0.414578</td>\n",
       "      <td>1.000000</td>\n",
       "      <td>0.143608</td>\n",
       "      <td>0.011333</td>\n",
       "      <td>0.132723</td>\n",
       "      <td>0.289165</td>\n",
       "      <td>0.034970</td>\n",
       "      <td>0.193194</td>\n",
       "      <td>-0.045392</td>\n",
       "    </tr>\n",
       "    <tr>\n",
       "      <td>F4</td>\n",
       "      <td>-0.065338</td>\n",
       "      <td>0.002026</td>\n",
       "      <td>0.143608</td>\n",
       "      <td>1.000000</td>\n",
       "      <td>0.096426</td>\n",
       "      <td>0.257627</td>\n",
       "      <td>0.043915</td>\n",
       "      <td>0.338970</td>\n",
       "      <td>0.281239</td>\n",
       "      <td>0.323915</td>\n",
       "    </tr>\n",
       "    <tr>\n",
       "      <td>F5</td>\n",
       "      <td>0.451966</td>\n",
       "      <td>-0.067759</td>\n",
       "      <td>0.011333</td>\n",
       "      <td>0.096426</td>\n",
       "      <td>1.000000</td>\n",
       "      <td>0.039824</td>\n",
       "      <td>0.026447</td>\n",
       "      <td>-0.071220</td>\n",
       "      <td>0.274883</td>\n",
       "      <td>0.151590</td>\n",
       "    </tr>\n",
       "    <tr>\n",
       "      <td>F6</td>\n",
       "      <td>-0.044663</td>\n",
       "      <td>0.424384</td>\n",
       "      <td>0.132723</td>\n",
       "      <td>0.257627</td>\n",
       "      <td>0.039824</td>\n",
       "      <td>1.000000</td>\n",
       "      <td>0.462871</td>\n",
       "      <td>-0.059628</td>\n",
       "      <td>0.214207</td>\n",
       "      <td>0.755992</td>\n",
       "    </tr>\n",
       "    <tr>\n",
       "      <td>F7</td>\n",
       "      <td>-0.001173</td>\n",
       "      <td>0.582443</td>\n",
       "      <td>0.289165</td>\n",
       "      <td>0.043915</td>\n",
       "      <td>0.026447</td>\n",
       "      <td>0.462871</td>\n",
       "      <td>1.000000</td>\n",
       "      <td>0.002444</td>\n",
       "      <td>0.272458</td>\n",
       "      <td>0.263015</td>\n",
       "    </tr>\n",
       "    <tr>\n",
       "      <td>F8</td>\n",
       "      <td>-0.043336</td>\n",
       "      <td>0.041227</td>\n",
       "      <td>0.034970</td>\n",
       "      <td>0.338970</td>\n",
       "      <td>-0.071220</td>\n",
       "      <td>-0.059628</td>\n",
       "      <td>0.002444</td>\n",
       "      <td>1.000000</td>\n",
       "      <td>0.487543</td>\n",
       "      <td>-0.016045</td>\n",
       "    </tr>\n",
       "    <tr>\n",
       "      <td>F9</td>\n",
       "      <td>0.059427</td>\n",
       "      <td>0.349011</td>\n",
       "      <td>0.193194</td>\n",
       "      <td>0.281239</td>\n",
       "      <td>0.274883</td>\n",
       "      <td>0.214207</td>\n",
       "      <td>0.272458</td>\n",
       "      <td>0.487543</td>\n",
       "      <td>1.000000</td>\n",
       "      <td>0.186226</td>\n",
       "    </tr>\n",
       "    <tr>\n",
       "      <td>F10</td>\n",
       "      <td>-0.002839</td>\n",
       "      <td>-0.024810</td>\n",
       "      <td>-0.045392</td>\n",
       "      <td>0.323915</td>\n",
       "      <td>0.151590</td>\n",
       "      <td>0.755992</td>\n",
       "      <td>0.263015</td>\n",
       "      <td>-0.016045</td>\n",
       "      <td>0.186226</td>\n",
       "      <td>1.000000</td>\n",
       "    </tr>\n",
       "  </tbody>\n",
       "</table>\n",
       "</div>"
      ],
      "text/plain": [
       "           F1        F2        F3        F4        F5        F6        F7  \\\n",
       "F1   1.000000 -0.037577  0.034473 -0.065338  0.451966 -0.044663 -0.001173   \n",
       "F2  -0.037577  1.000000  0.414578  0.002026 -0.067759  0.424384  0.582443   \n",
       "F3   0.034473  0.414578  1.000000  0.143608  0.011333  0.132723  0.289165   \n",
       "F4  -0.065338  0.002026  0.143608  1.000000  0.096426  0.257627  0.043915   \n",
       "F5   0.451966 -0.067759  0.011333  0.096426  1.000000  0.039824  0.026447   \n",
       "F6  -0.044663  0.424384  0.132723  0.257627  0.039824  1.000000  0.462871   \n",
       "F7  -0.001173  0.582443  0.289165  0.043915  0.026447  0.462871  1.000000   \n",
       "F8  -0.043336  0.041227  0.034970  0.338970 -0.071220 -0.059628  0.002444   \n",
       "F9   0.059427  0.349011  0.193194  0.281239  0.274883  0.214207  0.272458   \n",
       "F10 -0.002839 -0.024810 -0.045392  0.323915  0.151590  0.755992  0.263015   \n",
       "\n",
       "           F8        F9       F10  \n",
       "F1  -0.043336  0.059427 -0.002839  \n",
       "F2   0.041227  0.349011 -0.024810  \n",
       "F3   0.034970  0.193194 -0.045392  \n",
       "F4   0.338970  0.281239  0.323915  \n",
       "F5  -0.071220  0.274883  0.151590  \n",
       "F6  -0.059628  0.214207  0.755992  \n",
       "F7   0.002444  0.272458  0.263015  \n",
       "F8   1.000000  0.487543 -0.016045  \n",
       "F9   0.487543  1.000000  0.186226  \n",
       "F10 -0.016045  0.186226  1.000000  "
      ]
     },
     "execution_count": 18,
     "metadata": {},
     "output_type": "execute_result"
    }
   ],
   "source": [
    "df1_corr=df1.corr()\n",
    "df1_corr"
   ]
  },
  {
   "cell_type": "markdown",
   "metadata": {
    "id": "S1Dr9k137Z3d"
   },
   "source": [
    "##### e. Create Visualization plots to find the relationship amongst the variables. (2 MARKS) "
   ]
  },
  {
   "cell_type": "code",
   "execution_count": 21,
   "metadata": {
    "id": "9xOABzrJ7Z3e"
   },
   "outputs": [],
   "source": [
    "import seaborn as sns\n",
    "import matplotlib.pyplot as plt"
   ]
  },
  {
   "cell_type": "code",
   "execution_count": 24,
   "metadata": {},
   "outputs": [
    {
     "data": {
      "image/png": "[encoded data removed]",
      "text/plain": [
       "<Figure size 1296x504 with 2 Axes>"
      ]
     },
     "metadata": {
      "needs_background": "light"
     },
     "output_type": "display_data"
    }
   ],
   "source": [
    "plt.figure(figsize=(18,7))\n",
    "sns.heatmap(df1_corr,annot=True)\n",
    "plt.show()"
   ]
  },
  {
   "cell_type": "markdown",
   "metadata": {
    "id": "rsO5AATt42Cl"
   },
   "source": [
    "### 2. How will you decide when to apply PCA based on the correlation? (5 marks)\n",
    "\n",
    "#### Apply PCA on the above dataset and determine the number of PCA components to be used so that 95% of the variance in data is explained by the same. (12 marks)"
   ]
  },
  {
   "cell_type": "code",
   "execution_count": 25,
   "metadata": {
    "id": "jPzKjvWF7Z3j"
   },
   "outputs": [
    {
     "data": {
      "text/plain": [
       "array([[ 9.82936083e-01, -1.46072935e-01,  3.82860035e-02,\n",
       "        -6.53302292e-02,  4.44532339e-01, -4.98709486e-02,\n",
       "        -1.52745907e-03, -4.31152501e-02,  6.40827002e-02,\n",
       "        -2.83461326e-03],\n",
       "       [-1.46072935e-01,  1.53732095e+01,  1.82089653e+00,\n",
       "         8.01035435e-03, -2.63562111e-01,  1.87402178e+00,\n",
       "         3.00019525e+00,  1.62211915e-01,  1.48839141e+00,\n",
       "        -9.79663072e-02],\n",
       "       [ 3.82860035e-02,  1.82089653e+00,  1.25485248e+00,\n",
       "         1.62241911e-01,  1.25938552e-02,  1.67446578e-01,\n",
       "         4.25555094e-01,  3.93105758e-02,  2.35387950e-01,\n",
       "        -5.12087311e-02],\n",
       "       [-6.53302292e-02,  8.01035435e-03,  1.62241911e-01,\n",
       "         1.01712585e+00,  9.64749381e-02,  2.92624860e-01,\n",
       "         5.81860867e-02,  3.43059625e-01,  3.08502167e-01,\n",
       "         3.28994543e-01],\n",
       "       [ 4.44532339e-01, -2.63562111e-01,  1.25938552e-02,\n",
       "         9.64749381e-02,  9.84169786e-01,  4.44949697e-02,\n",
       "         3.44688927e-02, -7.09016702e-02,  2.96604895e-01,\n",
       "         1.51451842e-01],\n",
       "       [-4.98709486e-02,  1.87402178e+00,  1.67446578e-01,\n",
       "         2.92624860e-01,  4.44949697e-02,  1.26842803e+00,\n",
       "         6.84868840e-01, -6.73907425e-02,  2.62398837e-01,\n",
       "         8.57472772e-01],\n",
       "       [-1.52745907e-03,  3.00019525e+00,  4.25555094e-01,\n",
       "         5.81860867e-02,  3.44688927e-02,  6.84868840e-01,\n",
       "         1.72595032e+00,  3.22207742e-03,  3.89321775e-01,\n",
       "         3.47988393e-01],\n",
       "       [-4.31152501e-02,  1.62211915e-01,  3.93105758e-02,\n",
       "         3.43059625e-01, -7.09016702e-02, -6.73907425e-02,\n",
       "         3.22207742e-03,  1.00702647e+00,  5.32143189e-01,\n",
       "        -1.62158112e-02],\n",
       "       [ 6.40827002e-02,  1.48839141e+00,  2.35387950e-01,\n",
       "         3.08502167e-01,  2.96604895e-01,  2.62398837e-01,\n",
       "         3.89321775e-01,  5.32143189e-01,  1.18301620e+00,\n",
       "         2.03988996e-01],\n",
       "       [-2.83461326e-03, -9.79663072e-02, -5.12087311e-02,\n",
       "         3.28994543e-01,  1.51451842e-01,  8.57472772e-01,\n",
       "         3.47988393e-01, -1.62158112e-02,  2.03988996e-01,\n",
       "         1.01423822e+00]])"
      ]
     },
     "execution_count": 25,
     "metadata": {},
     "output_type": "execute_result"
    }
   ],
   "source": [
    "cov_mat"
   ]
  },
  {
   "cell_type": "code",
   "execution_count": 26,
   "metadata": {},
   "outputs": [
    {
     "name": "stdout",
     "output_type": "stream",
     "text": [
      "[16.66320529  2.37726984  1.69901618  1.45396132  1.05510587  0.92199898\n",
      "  0.6052777   0.57039996  0.32125628  0.14346153]\n",
      "[[-9.08338668e-03  6.15817169e-02  1.38758548e-01 -6.59258152e-01\n",
      "  -4.60822671e-02 -7.40714579e-02 -5.93942664e-01 -3.39174572e-01\n",
      "  -2.58519802e-01  1.26806601e-04]\n",
      " [ 9.57011139e-01 -1.69810878e-01  1.57811890e-02 -8.29421680e-04\n",
      "  -1.32249174e-01 -1.50323424e-01 -3.58471044e-02  3.97175542e-02\n",
      "   3.34545830e-02  1.04764150e-01]\n",
      " [ 1.21751741e-01  1.43670463e-02  1.79413723e-01 -7.28784502e-02\n",
      "   9.08548156e-01 -1.16038275e-01  1.82793703e-01 -2.62899745e-01\n",
      "   7.75453007e-02  1.35242329e-03]\n",
      " [ 7.31678908e-03  3.80147882e-01  2.64939898e-01  2.51677291e-01\n",
      "   1.94622494e-01 -3.25396016e-01 -4.04521288e-01  6.06187497e-01\n",
      "  -2.16703219e-01 -8.82733452e-03]\n",
      " [-1.34615608e-02  2.21999436e-01  1.88123755e-01 -6.14243735e-01\n",
      "  -9.33869194e-02 -1.06470453e-01  3.21619196e-01  4.00738646e-01\n",
      "   5.03193712e-01 -2.36170919e-02]\n",
      " [ 1.29083905e-01  5.00088350e-01 -3.61977365e-01  7.71665316e-02\n",
      "  -6.39971941e-02 -2.39886936e-01  1.10272539e-02 -2.58027129e-01\n",
      "   1.16520213e-01 -6.74053973e-01]\n",
      " [ 2.04407920e-01  2.88849847e-01 -2.29689287e-01 -9.66101608e-02\n",
      "   2.09929285e-01  8.31576072e-01 -1.59712823e-01  2.22830632e-01\n",
      "  -1.64112844e-02 -4.08950060e-02]\n",
      " [ 1.34001888e-02  1.54482603e-01  5.58442379e-01  3.19140660e-01\n",
      "  -1.41306490e-01  2.08276722e-01 -2.91715206e-01 -3.09450211e-01\n",
      "   5.63936730e-01  4.28495311e-03]\n",
      " [ 1.01592447e-01  3.16687120e-01  5.20788804e-01 -1.20608216e-02\n",
      "  -1.92316855e-01  1.71029221e-01  4.77953053e-01 -1.44720985e-01\n",
      "  -5.40829798e-01 -9.95232645e-02]\n",
      " [ 6.56455580e-03  5.61864028e-01 -2.75427645e-01  4.63193912e-02\n",
      "  -5.66441102e-02 -1.39779072e-01  7.93127445e-02 -2.30818151e-01\n",
      "   3.87690074e-02  7.22801866e-01]]\n"
     ]
    }
   ],
   "source": [
    "eig_val,eig_vec=np.linalg.eig(cov_mat)\n",
    "print(eig_val)\n",
    "print(eig_vec)"
   ]
  },
  {
   "cell_type": "code",
   "execution_count": 28,
   "metadata": {},
   "outputs": [
    {
     "data": {
      "text/plain": [
       "[(16.66320528977928,\n",
       "  array([-0.00908339,  0.95701114,  0.12175174,  0.00731679, -0.01346156,\n",
       "          0.12908391,  0.20440792,  0.01340019,  0.10159245,  0.00656456])),\n",
       " (2.377269835433176,\n",
       "  array([ 0.06158172, -0.16981088,  0.01436705,  0.38014788,  0.22199944,\n",
       "          0.50008835,  0.28884985,  0.1544826 ,  0.31668712,  0.56186403])),\n",
       " (1.6990161840753568,\n",
       "  array([ 0.13875855,  0.01578119,  0.17941372,  0.2649399 ,  0.18812376,\n",
       "         -0.36197736, -0.22968929,  0.55844238,  0.5207888 , -0.27542765])),\n",
       " (1.4539613167899759,\n",
       "  array([-0.65925815, -0.00082942, -0.07287845,  0.25167729, -0.61424374,\n",
       "          0.07716653, -0.09661016,  0.31914066, -0.01206082,  0.04631939])),\n",
       " (1.0551058670081674,\n",
       "  array([-0.04608227, -0.13224917,  0.90854816,  0.19462249, -0.09338692,\n",
       "         -0.06399719,  0.20992929, -0.14130649, -0.19231685, -0.05664411])),\n",
       " (0.921998977962995,\n",
       "  array([-0.07407146, -0.15032342, -0.11603827, -0.32539602, -0.10647045,\n",
       "         -0.23988694,  0.83157607,  0.20827672,  0.17102922, -0.13977907])),\n",
       " (0.6052777023670469,\n",
       "  array([-0.59394266, -0.0358471 ,  0.1827937 , -0.40452129,  0.3216192 ,\n",
       "          0.01102725, -0.15971282, -0.29171521,  0.47795305,  0.07931274])),\n",
       " (0.5703999550259486,\n",
       "  array([-0.33917457,  0.03971755, -0.26289975,  0.6061875 ,  0.40073865,\n",
       "         -0.25802713,  0.22283063, -0.30945021, -0.14472098, -0.23081815])),\n",
       " (0.32125628131166584,\n",
       "  array([-0.2585198 ,  0.03345458,  0.0775453 , -0.21670322,  0.50319371,\n",
       "          0.11652021, -0.01641128,  0.56393673, -0.5408298 ,  0.03876901])),\n",
       " (0.14346152527157122,\n",
       "  array([ 1.26806601e-04,  1.04764150e-01,  1.35242329e-03, -8.82733452e-03,\n",
       "         -2.36170919e-02, -6.74053973e-01, -4.08950060e-02,  4.28495311e-03,\n",
       "         -9.95232645e-02,  7.22801866e-01]))]"
      ]
     },
     "execution_count": 28,
     "metadata": {},
     "output_type": "execute_result"
    }
   ],
   "source": [
    "eigen_pairs = [(np.abs(eig_val[i]), eig_vec[ :, i]) for i in range(len(eig_val))]\n",
    "eigen_pairs"
   ]
  },
  {
   "cell_type": "code",
   "execution_count": 29,
   "metadata": {},
   "outputs": [
    {
     "name": "stdout",
     "output_type": "stream",
     "text": [
      "Variance Explained [64.55865977411275, 9.210314091918887, 6.58253954572057, 5.633117539093127, 4.087822211230335, 3.5721229676563095, 2.345042059821401, 2.2099143586904226, 1.244650990300031, 0.5558164614561575]\n",
      "\n",
      "Cumulative Variance Explained [ 64.55865977  73.76897387  80.35151341  85.98463095  90.07245316\n",
      "  93.64457613  95.98961819  98.19953255  99.44418354 100.        ]\n"
     ]
    }
   ],
   "source": [
    "tot = sum(eig_val)\n",
    "var_exp = [( i /tot ) * 100 for i in sorted(eig_val, reverse=True)]\n",
    "cum_var_exp = np.cumsum(var_exp)\n",
    "print('Variance Explained', var_exp)\n",
    "print()\n",
    "print(\"Cumulative Variance Explained\", cum_var_exp)"
   ]
  },
  {
   "cell_type": "code",
   "execution_count": 30,
   "metadata": {},
   "outputs": [
    {
     "data": {
      "image/png": "[encoded data removed]",
      "text/plain": [
       "<Figure size 1296x504 with 1 Axes>"
      ]
     },
     "metadata": {
      "needs_background": "light"
     },
     "output_type": "display_data"
    }
   ],
   "source": [
    "plt.figure(figsize=(18,7))\n",
    "plt.bar(range(len(eig_val)), var_exp, label = 'Individual explained variance')\n",
    "plt.step(range(len(eig_val)), cum_var_exp, where='mid', label = 'Cumulative explained variance')\n",
    "plt.ylabel('Explained Variance Ratio')\n",
    "plt.xlabel('Principal Components')\n",
    "plt.legend(loc = 'best')\n",
    "plt.tight_layout()\n",
    "plt.show()"
   ]
  },
  {
   "cell_type": "markdown",
   "metadata": {
    "id": "gC28pkuO8SiV"
   },
   "source": [
    "### 3. Use PCA dimensions to cluster the data. Apply K-means/ Agglomerative clustering based on the data. (25 Marks) Some pointers which would help you, but don’t be limited by these "
   ]
  },
  {
   "cell_type": "code",
   "execution_count": 32,
   "metadata": {},
   "outputs": [],
   "source": [
    "from sklearn.decomposition import PCA"
   ]
  },
  {
   "cell_type": "code",
   "execution_count": 34,
   "metadata": {},
   "outputs": [],
   "source": [
    "pca = PCA(0.9598961819)\n",
    "x_pc = pca.fit_transform(df1)\n"
   ]
  },
  {
   "cell_type": "code",
   "execution_count": 35,
   "metadata": {},
   "outputs": [
    {
     "data": {
      "text/plain": [
       "(10430, 8)"
      ]
     },
     "execution_count": 35,
     "metadata": {},
     "output_type": "execute_result"
    }
   ],
   "source": [
    "x_pc.shape"
   ]
  },
  {
   "cell_type": "code",
   "execution_count": null,
   "metadata": {},
   "outputs": [],
   "source": [
    "#with help of pca 2 dimensions reduced"
   ]
  },
  {
   "cell_type": "code",
   "execution_count": 36,
   "metadata": {
    "scrolled": true
   },
   "outputs": [
    {
     "data": {
      "text/plain": [
       "(10430, 10)"
      ]
     },
     "execution_count": 36,
     "metadata": {},
     "output_type": "execute_result"
    }
   ],
   "source": [
    "df1.shape"
   ]
  },
  {
   "cell_type": "markdown",
   "metadata": {
    "id": "DBz210z58Uz_"
   },
   "source": [
    "#### a. Find the optimal K Value. (6 marks)"
   ]
  },
  {
   "cell_type": "code",
   "execution_count": 37,
   "metadata": {},
   "outputs": [],
   "source": [
    "from scipy.cluster.hierarchy import linkage, dendrogram, cophenet"
   ]
  },
  {
   "cell_type": "code",
   "execution_count": 45,
   "metadata": {},
   "outputs": [
    {
     "data": {
      "image/png": "[encoded data removed]",
      "text/plain": [
       "<Figure size 1296x504 with 1 Axes>"
      ]
     },
     "metadata": {
      "needs_background": "light"
     },
     "output_type": "display_data"
    }
   ],
   "source": [
    "plt.figure(figsize=(18,7))\n",
    "merg = linkage(df1,method='ward')\n",
    "dendrogram(merg,leaf_rotation=90)\n",
    "plt.title('Dendrogram')\n",
    "plt.xlabel('Data Points')\n",
    "plt.ylabel('Euclidean Distances')\n",
    "plt.show()"
   ]
  },
  {
   "cell_type": "code",
   "execution_count": 38,
   "metadata": {
    "id": "Hkk04XfR7Z3w",
    "scrolled": false
   },
   "outputs": [
    {
     "data": {
      "image/png": "[encoded data removed]",
      "text/plain": [
       "<Figure size 1296x504 with 1 Axes>"
      ]
     },
     "metadata": {
      "needs_background": "light"
     },
     "output_type": "display_data"
    }
   ],
   "source": [
    "plt.figure(figsize=(18,7))\n",
    "merg = linkage(x_pc,method='ward')\n",
    "dendrogram(merg,leaf_rotation=90)\n",
    "plt.title('Dendrogram')\n",
    "plt.xlabel('Data Points')\n",
    "plt.ylabel('Euclidean Distances')\n",
    "plt.show()"
   ]
  },
  {
   "cell_type": "code",
   "execution_count": 41,
   "metadata": {},
   "outputs": [],
   "source": [
    "from sklearn.cluster import KMeans"
   ]
  },
  {
   "cell_type": "code",
   "execution_count": 42,
   "metadata": {},
   "outputs": [],
   "source": [
    "cluster_range = list(range(1,11))\n",
    "cluster_errors = []\n",
    "\n",
    "for k in cluster_range:\n",
    "    clusters = KMeans(n_clusters=k,random_state=10)\n",
    "    clusters.fit(x_pc)\n",
    "    cluster_errors.append(clusters.inertia_)"
   ]
  },
  {
   "cell_type": "code",
   "execution_count": 43,
   "metadata": {
    "scrolled": true
   },
   "outputs": [
    {
     "data": {
      "text/html": [
       "<div>\n",
       "<style scoped>\n",
       "    .dataframe tbody tr th:only-of-type {\n",
       "        vertical-align: middle;\n",
       "    }\n",
       "\n",
       "    .dataframe tbody tr th {\n",
       "        vertical-align: top;\n",
       "    }\n",
       "\n",
       "    .dataframe thead th {\n",
       "        text-align: right;\n",
       "    }\n",
       "</style>\n",
       "<table border=\"1\" class=\"dataframe\">\n",
       "  <thead>\n",
       "    <tr style=\"text-align: right;\">\n",
       "      <th></th>\n",
       "      <th>k</th>\n",
       "      <th>cluster_errors</th>\n",
       "    </tr>\n",
       "  </thead>\n",
       "  <tbody>\n",
       "    <tr>\n",
       "      <td>0</td>\n",
       "      <td>1</td>\n",
       "      <td>264335.886155</td>\n",
       "    </tr>\n",
       "    <tr>\n",
       "      <td>1</td>\n",
       "      <td>2</td>\n",
       "      <td>101229.772455</td>\n",
       "    </tr>\n",
       "    <tr>\n",
       "      <td>2</td>\n",
       "      <td>3</td>\n",
       "      <td>87600.992848</td>\n",
       "    </tr>\n",
       "    <tr>\n",
       "      <td>3</td>\n",
       "      <td>4</td>\n",
       "      <td>76475.776724</td>\n",
       "    </tr>\n",
       "    <tr>\n",
       "      <td>4</td>\n",
       "      <td>5</td>\n",
       "      <td>68611.877338</td>\n",
       "    </tr>\n",
       "    <tr>\n",
       "      <td>5</td>\n",
       "      <td>6</td>\n",
       "      <td>62376.079401</td>\n",
       "    </tr>\n",
       "    <tr>\n",
       "      <td>6</td>\n",
       "      <td>7</td>\n",
       "      <td>56149.979232</td>\n",
       "    </tr>\n",
       "    <tr>\n",
       "      <td>7</td>\n",
       "      <td>8</td>\n",
       "      <td>51859.946193</td>\n",
       "    </tr>\n",
       "    <tr>\n",
       "      <td>8</td>\n",
       "      <td>9</td>\n",
       "      <td>48371.912469</td>\n",
       "    </tr>\n",
       "    <tr>\n",
       "      <td>9</td>\n",
       "      <td>10</td>\n",
       "      <td>44926.071725</td>\n",
       "    </tr>\n",
       "  </tbody>\n",
       "</table>\n",
       "</div>"
      ],
      "text/plain": [
       "    k  cluster_errors\n",
       "0   1   264335.886155\n",
       "1   2   101229.772455\n",
       "2   3    87600.992848\n",
       "3   4    76475.776724\n",
       "4   5    68611.877338\n",
       "5   6    62376.079401\n",
       "6   7    56149.979232\n",
       "7   8    51859.946193\n",
       "8   9    48371.912469\n",
       "9  10    44926.071725"
      ]
     },
     "execution_count": 43,
     "metadata": {},
     "output_type": "execute_result"
    }
   ],
   "source": [
    "clusters_df = pd.DataFrame( { \"k\":cluster_range, \"cluster_errors\": cluster_errors } )\n",
    "clusters_df"
   ]
  },
  {
   "cell_type": "code",
   "execution_count": 44,
   "metadata": {},
   "outputs": [
    {
     "data": {
      "image/png": "[encoded data removed]",
      "text/plain": [
       "<Figure size 1296x504 with 1 Axes>"
      ]
     },
     "metadata": {
      "needs_background": "light"
     },
     "output_type": "display_data"
    }
   ],
   "source": [
    "plt.figure(figsize=(18,7))\n",
    "plt.plot(clusters_df['k'],clusters_df['cluster_errors'],marker=\"o\");"
   ]
  },
  {
   "cell_type": "markdown",
   "metadata": {
    "id": "_PsMu6947Z30"
   },
   "source": [
    "#### b.\tApply Clustering and find out if the data points have been clustered correctly using appropriate visualization (8 marks)"
   ]
  },
  {
   "cell_type": "code",
   "execution_count": 47,
   "metadata": {},
   "outputs": [],
   "source": [
    "from sklearn.cluster import AgglomerativeClustering"
   ]
  },
  {
   "cell_type": "code",
   "execution_count": 48,
   "metadata": {},
   "outputs": [
    {
     "data": {
      "text/plain": [
       "AgglomerativeClustering(n_clusters=4)"
      ]
     },
     "execution_count": 48,
     "metadata": {},
     "output_type": "execute_result"
    }
   ],
   "source": [
    "agg_cluster = AgglomerativeClustering(n_clusters=4,affinity='euclidean',linkage='ward')\n",
    "agg_cluster.fit(x_pc)"
   ]
  },
  {
   "cell_type": "code",
   "execution_count": 68,
   "metadata": {},
   "outputs": [],
   "source": [
    "y=agg_cluster.labels_"
   ]
  },
  {
   "cell_type": "code",
   "execution_count": 69,
   "metadata": {},
   "outputs": [],
   "source": [
    "silhouette_avg = silhouette_score(x_pc, y)"
   ]
  },
  {
   "cell_type": "code",
   "execution_count": 70,
   "metadata": {},
   "outputs": [
    {
     "data": {
      "text/plain": [
       "0.2057622712812479"
      ]
     },
     "execution_count": 70,
     "metadata": {},
     "output_type": "execute_result"
    }
   ],
   "source": [
    "silhouette_avg "
   ]
  },
  {
   "cell_type": "code",
   "execution_count": 77,
   "metadata": {},
   "outputs": [],
   "source": [
    "score=[]\n",
    "for i in [2,3,4,5,6,7,8,9,10,11,12]:\n",
    "    agg_cluster = AgglomerativeClustering(n_clusters=i,affinity='euclidean',linkage='ward')\n",
    "    agg_cluster.fit(x_pc)\n",
    "    y=agg_cluster.labels_\n",
    "    silhouette_avg = silhouette_score(x_pc, y)\n",
    "    score.append(silhouette_avg)"
   ]
  },
  {
   "cell_type": "code",
   "execution_count": 78,
   "metadata": {},
   "outputs": [
    {
     "data": {
      "text/plain": [
       "[0.990743598225973,\n",
       " 0.5802354771616642,\n",
       " 0.2057622712812479,\n",
       " 0.21676723562340308,\n",
       " 0.22242453426360473,\n",
       " 0.19393335882931,\n",
       " 0.19214396744610557,\n",
       " 0.1824498724979863,\n",
       " 0.12860113560925981,\n",
       " 0.12391832212278862,\n",
       " 0.12707238900272483]"
      ]
     },
     "execution_count": 78,
     "metadata": {},
     "output_type": "execute_result"
    }
   ],
   "source": [
    "score"
   ]
  },
  {
   "cell_type": "code",
   "execution_count": 51,
   "metadata": {},
   "outputs": [],
   "source": [
    "from sklearn.model_selection import train_test_split"
   ]
  },
  {
   "cell_type": "code",
   "execution_count": 52,
   "metadata": {},
   "outputs": [],
   "source": [
    "x_train, x_test, y_train, y_test = train_test_split(x_pc, y, test_size = 0.2, random_state = 10)"
   ]
  },
  {
   "cell_type": "code",
   "execution_count": 53,
   "metadata": {},
   "outputs": [],
   "source": [
    "from sklearn.tree import DecisionTreeClassifier"
   ]
  },
  {
   "cell_type": "code",
   "execution_count": null,
   "metadata": {},
   "outputs": [],
   "source": []
  },
  {
   "cell_type": "code",
   "execution_count": 54,
   "metadata": {},
   "outputs": [],
   "source": [
    "dt = DecisionTreeClassifier(random_state=10)\n",
    "dt_pca = dt.fit(x_train,y_train)"
   ]
  },
  {
   "cell_type": "code",
   "execution_count": 55,
   "metadata": {},
   "outputs": [],
   "source": [
    "y_pred_pca = dt_pca.predict(x_test)"
   ]
  },
  {
   "cell_type": "code",
   "execution_count": 57,
   "metadata": {},
   "outputs": [],
   "source": [
    "from sklearn.metrics import confusion_matrix"
   ]
  },
  {
   "cell_type": "code",
   "execution_count": 58,
   "metadata": {
    "scrolled": true
   },
   "outputs": [
    {
     "data": {
      "image/png": "[encoded data removed]",
      "text/plain": [
       "<Figure size 432x288 with 2 Axes>"
      ]
     },
     "metadata": {
      "needs_background": "light"
     },
     "output_type": "display_data"
    }
   ],
   "source": [
    "cm = confusion_matrix(y_test,y_pred_pca)\n",
    "sns.heatmap(cm,annot=True,fmt='.0f');"
   ]
  },
  {
   "cell_type": "code",
   "execution_count": 60,
   "metadata": {},
   "outputs": [],
   "source": [
    "from sklearn.metrics import classification_report"
   ]
  },
  {
   "cell_type": "code",
   "execution_count": 61,
   "metadata": {},
   "outputs": [
    {
     "name": "stdout",
     "output_type": "stream",
     "text": [
      "              precision    recall  f1-score   support\n",
      "\n",
      "           0       0.90      0.88      0.89       601\n",
      "           1       0.95      0.96      0.95      1414\n",
      "           2       0.95      0.99      0.97        71\n",
      "\n",
      "    accuracy                           0.94      2086\n",
      "   macro avg       0.93      0.94      0.94      2086\n",
      "weighted avg       0.94      0.94      0.94      2086\n",
      "\n"
     ]
    }
   ],
   "source": [
    "print(classification_report(y_test,y_pred_pca))"
   ]
  },
  {
   "cell_type": "code",
   "execution_count": null,
   "metadata": {
    "id": "UZdk0fBY7Z30"
   },
   "outputs": [],
   "source": []
  },
  {
   "cell_type": "markdown",
   "metadata": {
    "id": "eJKrPg-Y7Z34"
   },
   "source": [
    "#### c.\tEvaluate the clusters formed using appropriate metrics to support the model built. (6 marks)"
   ]
  },
  {
   "cell_type": "code",
   "execution_count": 62,
   "metadata": {},
   "outputs": [],
   "source": [
    "from sklearn.metrics import silhouette_samples, silhouette_score"
   ]
  },
  {
   "cell_type": "code",
   "execution_count": 67,
   "metadata": {
    "id": "rAKhv8eo7Z35"
   },
   "outputs": [
    {
     "name": "stderr",
     "output_type": "stream",
     "text": [
      "C:\\Users\\USER\\Anaconda3\\lib\\site-packages\\sklearn\\cluster\\_kmeans.py:94: RuntimeWarning: divide by zero encountered in log\n",
      "  n_local_trials = 2 + int(np.log(n_clusters))\n"
     ]
    },
    {
     "ename": "OverflowError",
     "evalue": "cannot convert float infinity to integer",
     "output_type": "error",
     "traceback": [
      "\u001b[1;31m---------------------------------------------------------------------------\u001b[0m",
      "\u001b[1;31mOverflowError\u001b[0m                             Traceback (most recent call last)",
      "\u001b[1;32m<ipython-input-67-860095290e2e>\u001b[0m in \u001b[0;36m<module>\u001b[1;34m\u001b[0m\n\u001b[0;32m      1\u001b[0m \u001b[1;32mfor\u001b[0m \u001b[0mi\u001b[0m \u001b[1;32min\u001b[0m \u001b[1;33m[\u001b[0m\u001b[1;36m0\u001b[0m\u001b[1;33m,\u001b[0m\u001b[1;36m1\u001b[0m\u001b[1;33m,\u001b[0m\u001b[1;36m2\u001b[0m\u001b[1;33m,\u001b[0m\u001b[1;36m3\u001b[0m\u001b[1;33m,\u001b[0m\u001b[1;36m4\u001b[0m\u001b[1;33m,\u001b[0m\u001b[1;36m5\u001b[0m\u001b[1;33m]\u001b[0m\u001b[1;33m:\u001b[0m\u001b[1;33m\u001b[0m\u001b[1;33m\u001b[0m\u001b[0m\n\u001b[0;32m      2\u001b[0m     \u001b[0mclusterer\u001b[0m \u001b[1;33m=\u001b[0m \u001b[0mKMeans\u001b[0m\u001b[1;33m(\u001b[0m\u001b[0mn_clusters\u001b[0m\u001b[1;33m=\u001b[0m \u001b[0mi\u001b[0m \u001b[1;33m,\u001b[0m \u001b[0mrandom_state\u001b[0m\u001b[1;33m=\u001b[0m\u001b[1;36m10\u001b[0m\u001b[1;33m)\u001b[0m\u001b[1;33m\u001b[0m\u001b[1;33m\u001b[0m\u001b[0m\n\u001b[1;32m----> 3\u001b[1;33m     \u001b[0mcluster_labels\u001b[0m \u001b[1;33m=\u001b[0m \u001b[0mclusterer\u001b[0m\u001b[1;33m.\u001b[0m\u001b[0mfit\u001b[0m\u001b[1;33m(\u001b[0m\u001b[0mdf1\u001b[0m\u001b[1;33m)\u001b[0m\u001b[1;33m\u001b[0m\u001b[1;33m\u001b[0m\u001b[0m\n\u001b[0m\u001b[0;32m      4\u001b[0m     \u001b[0my\u001b[0m\u001b[1;33m=\u001b[0m\u001b[0mcluster_labels\u001b[0m\u001b[1;33m.\u001b[0m\u001b[0mlabels_\u001b[0m\u001b[1;33m\u001b[0m\u001b[1;33m\u001b[0m\u001b[0m\n\u001b[0;32m      5\u001b[0m     \u001b[0msilhouette_avg\u001b[0m \u001b[1;33m=\u001b[0m \u001b[0msilhouette_score\u001b[0m\u001b[1;33m(\u001b[0m\u001b[0mdf1\u001b[0m\u001b[1;33m,\u001b[0m \u001b[0my\u001b[0m\u001b[1;33m)\u001b[0m\u001b[1;33m\u001b[0m\u001b[1;33m\u001b[0m\u001b[0m\n",
      "\u001b[1;32m~\\Anaconda3\\lib\\site-packages\\sklearn\\cluster\\_kmeans.py\u001b[0m in \u001b[0;36mfit\u001b[1;34m(self, X, y, sample_weight)\u001b[0m\n\u001b[0;32m   1016\u001b[0m             centers_init = self._init_centroids(\n\u001b[0;32m   1017\u001b[0m                 \u001b[0mX\u001b[0m\u001b[1;33m,\u001b[0m \u001b[0mx_squared_norms\u001b[0m\u001b[1;33m=\u001b[0m\u001b[0mx_squared_norms\u001b[0m\u001b[1;33m,\u001b[0m \u001b[0minit\u001b[0m\u001b[1;33m=\u001b[0m\u001b[0minit\u001b[0m\u001b[1;33m,\u001b[0m\u001b[1;33m\u001b[0m\u001b[1;33m\u001b[0m\u001b[0m\n\u001b[1;32m-> 1018\u001b[1;33m                 random_state=random_state)\n\u001b[0m\u001b[0;32m   1019\u001b[0m             \u001b[1;32mif\u001b[0m \u001b[0mself\u001b[0m\u001b[1;33m.\u001b[0m\u001b[0mverbose\u001b[0m\u001b[1;33m:\u001b[0m\u001b[1;33m\u001b[0m\u001b[1;33m\u001b[0m\u001b[0m\n\u001b[0;32m   1020\u001b[0m                 \u001b[0mprint\u001b[0m\u001b[1;33m(\u001b[0m\u001b[1;34m\"Initialization complete\"\u001b[0m\u001b[1;33m)\u001b[0m\u001b[1;33m\u001b[0m\u001b[1;33m\u001b[0m\u001b[0m\n",
      "\u001b[1;32m~\\Anaconda3\\lib\\site-packages\\sklearn\\cluster\\_kmeans.py\u001b[0m in \u001b[0;36m_init_centroids\u001b[1;34m(self, X, x_squared_norms, init, random_state, init_size)\u001b[0m\n\u001b[0;32m    934\u001b[0m             centers, _ = _kmeans_plusplus(X, n_clusters,\n\u001b[0;32m    935\u001b[0m                                           \u001b[0mrandom_state\u001b[0m\u001b[1;33m=\u001b[0m\u001b[0mrandom_state\u001b[0m\u001b[1;33m,\u001b[0m\u001b[1;33m\u001b[0m\u001b[1;33m\u001b[0m\u001b[0m\n\u001b[1;32m--> 936\u001b[1;33m                                           x_squared_norms=x_squared_norms)\n\u001b[0m\u001b[0;32m    937\u001b[0m         \u001b[1;32melif\u001b[0m \u001b[0misinstance\u001b[0m\u001b[1;33m(\u001b[0m\u001b[0minit\u001b[0m\u001b[1;33m,\u001b[0m \u001b[0mstr\u001b[0m\u001b[1;33m)\u001b[0m \u001b[1;32mand\u001b[0m \u001b[0minit\u001b[0m \u001b[1;33m==\u001b[0m \u001b[1;34m'random'\u001b[0m\u001b[1;33m:\u001b[0m\u001b[1;33m\u001b[0m\u001b[1;33m\u001b[0m\u001b[0m\n\u001b[0;32m    938\u001b[0m             \u001b[0mseeds\u001b[0m \u001b[1;33m=\u001b[0m \u001b[0mrandom_state\u001b[0m\u001b[1;33m.\u001b[0m\u001b[0mpermutation\u001b[0m\u001b[1;33m(\u001b[0m\u001b[0mn_samples\u001b[0m\u001b[1;33m)\u001b[0m\u001b[1;33m[\u001b[0m\u001b[1;33m:\u001b[0m\u001b[0mn_clusters\u001b[0m\u001b[1;33m]\u001b[0m\u001b[1;33m\u001b[0m\u001b[1;33m\u001b[0m\u001b[0m\n",
      "\u001b[1;32m~\\Anaconda3\\lib\\site-packages\\sklearn\\cluster\\_kmeans.py\u001b[0m in \u001b[0;36m_kmeans_plusplus\u001b[1;34m(X, n_clusters, x_squared_norms, random_state, n_local_trials)\u001b[0m\n\u001b[0;32m     92\u001b[0m         \u001b[1;31m# specific results for other than mentioning in the conclusion\u001b[0m\u001b[1;33m\u001b[0m\u001b[1;33m\u001b[0m\u001b[1;33m\u001b[0m\u001b[0m\n\u001b[0;32m     93\u001b[0m         \u001b[1;31m# that it helped.\u001b[0m\u001b[1;33m\u001b[0m\u001b[1;33m\u001b[0m\u001b[1;33m\u001b[0m\u001b[0m\n\u001b[1;32m---> 94\u001b[1;33m         \u001b[0mn_local_trials\u001b[0m \u001b[1;33m=\u001b[0m \u001b[1;36m2\u001b[0m \u001b[1;33m+\u001b[0m \u001b[0mint\u001b[0m\u001b[1;33m(\u001b[0m\u001b[0mnp\u001b[0m\u001b[1;33m.\u001b[0m\u001b[0mlog\u001b[0m\u001b[1;33m(\u001b[0m\u001b[0mn_clusters\u001b[0m\u001b[1;33m)\u001b[0m\u001b[1;33m)\u001b[0m\u001b[1;33m\u001b[0m\u001b[1;33m\u001b[0m\u001b[0m\n\u001b[0m\u001b[0;32m     95\u001b[0m \u001b[1;33m\u001b[0m\u001b[0m\n\u001b[0;32m     96\u001b[0m     \u001b[1;31m# Pick first center randomly and track index of point\u001b[0m\u001b[1;33m\u001b[0m\u001b[1;33m\u001b[0m\u001b[1;33m\u001b[0m\u001b[0m\n",
      "\u001b[1;31mOverflowError\u001b[0m: cannot convert float infinity to integer"
     ]
    }
   ],
   "source": [
    "for i in [0,1,2,3,4,5]:\n",
    "    clusterer = KMeans(n_clusters= i , random_state=10)\n",
    "    cluster_labels = clusterer.fit(df1)\n",
    "    y=cluster_labels.labels_\n",
    "    silhouette_avg = silhouette_score(df1, y)\n",
    "    print(\"For n_clusters =\", n_clusters,\n",
    "          \"The average silhouette_score is :\", silhouette_avg)"
   ]
  },
  {
   "cell_type": "markdown",
   "metadata": {
    "id": "DBLnljbc7Z39"
   },
   "source": [
    "#### d.Write down a business interpretation/explanation of the model – which variables are affecting the target the most and explain the relationship. What changes from the base model had the most effect on model performance? (5 marks)"
   ]
  },
  {
   "cell_type": "code",
   "execution_count": null,
   "metadata": {
    "id": "r8AS2ZOA7Z3-"
   },
   "outputs": [],
   "source": []
  }
 ],
 "metadata": {
  "colab": {
   "collapsed_sections": [],
   "name": "USL_30_MARKS_SET_5_EXAM_PAPER.ipynb",
   "provenance": []
  },
  "kernelspec": {
   "display_name": "Python 3",
   "language": "python",
   "name": "python3"
  },
  "language_info": {
   "codemirror_mode": {
    "name": "ipython",
    "version": 3
   },
   "file_extension": ".py",
   "mimetype": "text/x-python",
   "name": "python",
   "nbconvert_exporter": "python",
   "pygments_lexer": "ipython3",
   "version": "3.8.5"
  }
 },
 "nbformat": 4,
 "nbformat_minor": 1
}
